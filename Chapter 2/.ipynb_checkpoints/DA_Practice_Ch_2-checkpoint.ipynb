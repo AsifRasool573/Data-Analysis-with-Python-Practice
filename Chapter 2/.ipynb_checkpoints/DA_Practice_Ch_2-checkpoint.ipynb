{
 "cells": [
  {
   "cell_type": "markdown",
   "metadata": {},
   "source": [
    "### 02-Nov-2020 Data Analysis Lecture 4\n",
    "\n",
    "#### Chapter 2\n",
    "#### Topic 2.1"
   ]
  },
  {
   "cell_type": "code",
   "execution_count": 78,
   "metadata": {},
   "outputs": [
    {
     "name": "stdout",
     "output_type": "stream",
     "text": [
      "     NAME Disable  Sep_Rep Remarks\n",
      "0     Ali     Yes       28    Fail\n",
      "1  Rashid      No       34    Fail\n",
      "2   Falak      No       33    Pass\n",
      "3  Sohaib     Yes       31    Pass\n",
      "4   Ammar      No       23    Fail\n",
      "5  Tayyab     Yes       33    Pass\n",
      "6  Rashid     Yes       34    Pass\n",
      "7     Ali     Yes       34    Pass\n",
      "\n",
      "         Zone  Tot_Sales  pop_covered Target_Ach\n",
      "0      Punjab         28         30.0        Yes\n",
      "1         KPK         34         40.0         No\n",
      "2       Sindh         33         20.0        Yes\n",
      "3         KPK         10          NaN         No\n",
      "4      Punjab         31         20.0        Yes\n",
      "5  Blochistan         23         30.0        Yes\n",
      "6         KPK         33         10.0        NaN\n",
      "7      Punjab          5          NaN         No\n",
      "8          GB         34         20.0        Yes\n",
      "9      Punjab         34         20.0        Yes\n"
     ]
    }
   ],
   "source": [
    "import pandas as pd\n",
    "\n",
    "std_data = pd.read_excel('Student2.xlsx')\n",
    "\n",
    "sales_data = pd.read_excel('Sales_Data.xlsx')\n",
    "\n",
    "print(std_data)\n",
    "print()\n",
    "print(sales_data)"
   ]
  },
  {
   "cell_type": "code",
   "execution_count": null,
   "metadata": {},
   "outputs": [],
   "source": []
  },
  {
   "cell_type": "code",
   "execution_count": 85,
   "metadata": {},
   "outputs": [
    {
     "name": "stdout",
     "output_type": "stream",
     "text": [
      "     NAME Disable  Sep_Rep Remarks\n",
      "0     Ali     Yes       28    Fail\n",
      "1  Rashid      No       34    Fail\n",
      "2   Falak      No       33    Pass\n",
      "3  Sohaib     Yes       31    Pass\n",
      "4   Ammar      No       23    Fail\n",
      "5  Tayyab     Yes       33    Pass\n",
      "6  Rashid     Yes       34    Pass\n",
      "7     Ali     Yes       34    Pass\n"
     ]
    }
   ],
   "source": [
    "#list of filenames\n",
    "\n",
    "files = ['Student2.xlsx','Sales_Data.xlsx']\n",
    "\n",
    "# emptylist for data frames\n",
    "df_files = []\n",
    "\n",
    "\n",
    "#reading each file from above list of filenames and appending them.\n",
    "#They will work like list of dataframes.\n",
    "\n",
    "for file in files:\n",
    "    df_files.append(pd.read_excel(file))\n",
    "#     df_files.append(pd.read_csv(file))\n",
    "\n",
    "print(df_files[0])\n",
    "# print(df_files)\n"
   ]
  },
  {
   "cell_type": "code",
   "execution_count": 3,
   "metadata": {},
   "outputs": [
    {
     "name": "stdout",
     "output_type": "stream",
     "text": [
      "     NAME Disable  Sep_Rep Remarks\n",
      "0     Ali     Yes       28    Fail\n",
      "1  Rashid      No       34    Fail\n",
      "2   Falak      No       33    Pass\n",
      "3  Sohaib     Yes       31    Pass\n",
      "4   Ammar      No       23    Fail\n",
      "5  Tayyab     Yes       33    Pass\n",
      "6  Rashid     Yes       34    Pass\n",
      "7     Ali     Yes       34    Pass\n",
      "\n",
      "         Zone  Tot_Sales  pop_covered Target_Ach\n",
      "0      Punjab         28         30.0        Yes\n",
      "1         KPK         34         40.0         No\n",
      "2       Sindh         33         20.0        Yes\n",
      "3         KPK         10          NaN         No\n",
      "4      Punjab         31         20.0        Yes\n",
      "5  Blochistan         23         30.0        Yes\n",
      "6         KPK         33         10.0        NaN\n",
      "7      Punjab          5          NaN         No\n",
      "8          GB         34         20.0        Yes\n",
      "9      Punjab         34         20.0        Yes\n"
     ]
    }
   ],
   "source": [
    "#list of filenames contianing different file extensions\n",
    "\n",
    "files = ['Student2.xlsx','Data2.csv']\n",
    "\n",
    "df_mul_files = []\n",
    "for file in files:\n",
    "    #find(): if substring found it'll return substring starting index, else it'll return -1\n",
    "    if(file.find(\".xlsx\") > 0):\n",
    "         df_files.append(pd.read_excel(file))\n",
    "    else:\n",
    "         \n",
    "        df_files.append(pd.read_csv(file))\n",
    "\n",
    "\n",
    "print(df_files[0])\n",
    "print()\n",
    "print(df_files[1])\n",
    "# print(df_files)\n"
   ]
  },
  {
   "cell_type": "code",
   "execution_count": 87,
   "metadata": {},
   "outputs": [
    {
     "name": "stdout",
     "output_type": "stream",
     "text": [
      "8\n"
     ]
    }
   ],
   "source": [
    "\n",
    "file = \"Student2.xlsx\"\n",
    "\n",
    "#find(): if found, it'll return substring starting index, else it'll return -1\n",
    "x = file.find(\".xlsx\")\n",
    "print(x)"
   ]
  },
  {
   "cell_type": "code",
   "execution_count": 88,
   "metadata": {},
   "outputs": [
    {
     "name": "stdout",
     "output_type": "stream",
     "text": [
      "         Zone  Tot_Sales  pop_covered Target_Ach\n",
      "0      Punjab         28         30.0        Yes\n",
      "1         KPK         34         40.0         No\n",
      "2       Sindh         33         20.0        Yes\n",
      "3         KPK         10          NaN         No\n",
      "4      Punjab         31         20.0        Yes\n",
      "5  Blochistan         23         30.0        Yes\n",
      "6         KPK         33         10.0        NaN\n",
      "7      Punjab          5          NaN         No\n",
      "8          GB         34         20.0        Yes\n",
      "9      Punjab         34         20.0        Yes\n",
      "         Area  tot_sales  population Tar_hit\n",
      "0      Punjab         28        30.0     Yes\n",
      "1         KPK         34        40.0      No\n",
      "2       Sindh         33        20.0     Yes\n",
      "3         KPK         10         NaN      No\n",
      "4      Punjab         31        20.0     Yes\n",
      "5  Blochistan         23        30.0     Yes\n",
      "6         KPK         33        10.0     NaN\n",
      "7      Punjab          5         NaN      No\n",
      "8          GB         34        20.0     Yes\n",
      "9      Punjab         34        20.0     Yes\n"
     ]
    }
   ],
   "source": [
    "#copying a whole dataframe to other dataframe\n",
    "sales = sales_data.copy()\n",
    "print(sales)\n",
    "\n",
    "#creating a new labelnames (column names) of dataframe\n",
    "# creating a new list of labels\n",
    "new_labels = ['Area','tot_sales','population','Tar_hit']\n",
    "\n",
    "# changning the existing column labels with new columns lables\n",
    "sales.columns = new_labels\n",
    "print(sales)"
   ]
  },
  {
   "cell_type": "code",
   "execution_count": 90,
   "metadata": {},
   "outputs": [
    {
     "name": "stdout",
     "output_type": "stream",
     "text": [
      "         Area  tot_sales  population Tar_hit Area_Manager  Focal_Person\n",
      "0      Punjab         28        30.0     Yes       Punjab           Ali\n",
      "1         KPK         34        40.0      No          KPK         Ahmed\n",
      "2       Sindh         33        20.0     Yes        Sindh       Shehroz\n",
      "3         KPK         10         NaN      No          KPK        Sohaib\n",
      "4      Punjab         31        20.0     Yes       Punjab        Khalid\n",
      "5  Blochistan         23        30.0     Yes   Blochistan  Abdur Raheem\n",
      "6         KPK         33        10.0     NaN          KPK       Shokaib\n",
      "7      Punjab          5         NaN      No       Punjab         Usman\n",
      "8          GB         34        20.0     Yes           GB         Imran\n",
      "9      Punjab         34        20.0     Yes       Punjab        Jaleel\n"
     ]
    }
   ],
   "source": [
    "#adding a new column in sales\n",
    "sales['Area_Manager'] = sales_data['Zone']\n",
    "\n",
    "#another way of adding a new column\n",
    "#create a list of values of required column. if values are less, it will give length mismatch error.\n",
    "focal_person = ['Ali','Ahmed','Shehroz','Sohaib','Khalid','Abdur Raheem', 'Shokaib','Usman','Imran','Jaleel']\n",
    "\n",
    "#creating a new column and assiging new values to that column in dataframe.\n",
    "sales['Focal_Person'] = focal_person\n",
    "print(sales)"
   ]
  },
  {
   "cell_type": "code",
   "execution_count": 95,
   "metadata": {},
   "outputs": [
    {
     "name": "stdout",
     "output_type": "stream",
     "text": [
      "            Tot_Sales  pop_covered Target_Ach\n",
      "Zone                                         \n",
      "Blochistan         23         30.0        Yes\n",
      "GB                 34         20.0        Yes\n",
      "KPK                34         40.0         No\n",
      "KPK                10          NaN         No\n",
      "KPK                33         10.0        NaN\n",
      "        Tot_Sales  pop_covered Target_Ach\n",
      "Zone                                     \n",
      "Sindh          33         20.0        Yes\n",
      "Punjab         28         30.0        Yes\n",
      "Punjab         31         20.0        Yes\n",
      "Punjab          5          NaN         No\n",
      "Punjab         34         20.0        Yes\n",
      "        Tot_Sales  pop_covered Target_Ach\n",
      "Zone                                     \n",
      "KPK            33         10.0        NaN\n",
      "Sindh          33         20.0        Yes\n",
      "Punjab         31         20.0        Yes\n",
      "GB             34         20.0        Yes\n",
      "Punjab         34         20.0        Yes\n"
     ]
    }
   ],
   "source": [
    "import pandas as pd\n",
    "# ind_data = pd.read_excel('Sales_Data.xlsx', index_col = 'Zone')\n",
    "ind_sd = sales_data.set_index('Zone')\n",
    "# print(ind_sd)\n",
    "\n",
    "#sorting index, by default ascending=True\n",
    "print(ind_sd.sort_index().head())\n",
    "\n",
    "#sorting index descending\n",
    "print(ind_sd.sort_index(ascending=False).head())\n",
    "\n",
    "#sorting by values\n",
    "print(ind_sd.sort_values('pop_covered', ascending=True).head())"
   ]
  },
  {
   "cell_type": "code",
   "execution_count": 101,
   "metadata": {},
   "outputs": [
    {
     "name": "stdout",
     "output_type": "stream",
     "text": [
      "(10, 4)\n",
      "(7, 4)\n",
      "(5, 4)\n"
     ]
    }
   ],
   "source": [
    "import pandas as pd\n",
    "\n",
    "sd = pd.read_excel('Sales_Data.xlsx')\n",
    "# print(sd)\n",
    "\n",
    "print(sd.shape)\n",
    "\n",
    "sd_clean = sd.dropna()\n",
    "\n",
    "print(sd_clean.shape)\n",
    "\n",
    "# print(sd_clean)\n",
    "sd_cleanest = sd_clean.drop_duplicates('Zone')\n",
    "\n",
    "print(sd_cleanest.shape)"
   ]
  },
  {
   "cell_type": "code",
   "execution_count": 105,
   "metadata": {},
   "outputs": [
    {
     "name": "stdout",
     "output_type": "stream",
     "text": [
      "         gold  silver\n",
      "Country              \n",
      "Qatar     200       0\n",
      "Turkey    400       1\n",
      "Dubai     600       2\n",
      "Europe    800       3\n",
      "UK          0       4\n",
      "          gold  silver\n",
      "Country               \n",
      "Qatar    204.0     4.0\n",
      "Turkey   404.0     5.0\n",
      "Dubai    604.0     6.0\n",
      "Europe   804.0     7.0\n",
      "UK         4.0     8.0\n"
     ]
    }
   ],
   "source": [
    "import pandas as pd\n",
    "\n",
    "df_data3 = pd.read_csv('Data3.csv', index_col ='Country')\n",
    "# print(data3)\n",
    "\n",
    "#storing only two columns in new_data\n",
    "new_data = df_data3[['gold','silver']]\n",
    "print(new_data)\n",
    "\n",
    "# manipulated_data = new_data + 1\n",
    "# print(manipulated_data)\n",
    "\n",
    "manipulated_data = ((new_data + 4) / 2) * 2\n",
    "\n",
    "print(manipulated_data)"
   ]
  },
  {
   "cell_type": "code",
   "execution_count": 10,
   "metadata": {},
   "outputs": [
    {
     "name": "stdout",
     "output_type": "stream",
     "text": [
      "         mani_gold_val  mani_sil_val\n",
      "Country                             \n",
      "Qatar            204.0           4.0\n",
      "Turkey           404.0           5.0\n",
      "Dubai            604.0           6.0\n",
      "Europe           804.0           7.0\n",
      "UK                 4.0           8.0\n"
     ]
    }
   ],
   "source": [
    "#changing columns after manipulation\n",
    "\n",
    "manipulated_data.columns = manipulated_data.columns.str.replace('gold', 'mani_gold_val')\n",
    "manipulated_data.columns = manipulated_data.columns.str.replace('silver','mani_sil_val')\n",
    "print(manipulated_data)"
   ]
  },
  {
   "cell_type": "code",
   "execution_count": 107,
   "metadata": {},
   "outputs": [
    {
     "name": "stdout",
     "output_type": "stream",
     "text": [
      "           Country  gold  silver\n",
      "date                            \n",
      "2015-02-02  Turkey   400       1\n",
      "2016-03-03   Dubai   600       2\n"
     ]
    }
   ],
   "source": [
    "import pandas as pd\n",
    "\n",
    "#we can access data but can't play without parse_date=True with date indivitually, like just playing with year, day or month\n",
    "metal_data = pd.read_csv('Data3.csv', index_col = 'date')\n",
    "# print(metal_data)\n",
    "\n",
    "after2014 = metal_data.loc['2015':'2017']\n",
    "print(after2014)\n",
    "\n",
    "#with parse_dates=True\n",
    "metal_data2 = pd.read_csv('Data3.csv', parse_dates=True, index_col = 'date')\n",
    "after2015 = metal_data2.loc['2015':'2017']\n",
    "# after2015 = metal_data.loc['2014-01-01':'2017-04-04']\n",
    "print(type(after2015))"
   ]
  },
  {
   "cell_type": "markdown",
   "metadata": {},
   "source": [
    "### 03-Nov-2020 Data Analysis Lecture 5\n",
    "#### Chapter 2\n",
    "#### Topic 2.1"
   ]
  },
  {
   "cell_type": "code",
   "execution_count": 12,
   "metadata": {},
   "outputs": [
    {
     "name": "stdout",
     "output_type": "stream",
     "text": [
      "   Country  cpc  drive_right Purchased   pop\n",
      "0   France   44         True        No  10.0\n",
      "1    Spain   27        False       Yes  20.0\n",
      "2  Germany   30         True        No  30.0\n",
      "3    Spain   38        False        No  20.0\n",
      "4  Germany   40         True       Yes  30.0\n",
      "  Country  gold  silver        date\n",
      "0   Qatar   200       0  2014-01-01\n",
      "1  Turkey   400       1  2015-02-02\n",
      "2   Dubai   600       2  2016-03-03\n",
      "3  Europe   800       3  2017-04-04\n",
      "4      UK     0       4  3017-05-05\n"
     ]
    }
   ],
   "source": [
    "import pandas as pd\n",
    "\n",
    "data2 = pd.read_csv('Data2.csv')\n",
    "data3 = pd.read_csv('Data3.csv')\n",
    "\n",
    "print(data2.head())\n",
    "print(data3.head())"
   ]
  },
  {
   "cell_type": "code",
   "execution_count": 13,
   "metadata": {},
   "outputs": [
    {
     "name": "stdout",
     "output_type": "stream",
     "text": [
      "0      44\n",
      "1      27\n",
      "2      30\n",
      "3      38\n",
      "4      40\n",
      "5      35\n",
      "6      52\n",
      "7      48\n",
      "8      45\n",
      "9      12\n",
      "10     10\n",
      "11    200\n",
      "12    400\n",
      "13    600\n",
      "14    800\n",
      "15      0\n",
      "dtype: int64\n"
     ]
    }
   ],
   "source": [
    "#conctinating single column from each dataframe\n",
    "cpc = data2['cpc']\n",
    "gold = data3['gold']\n",
    "\n",
    "#appending two columns vertically\n",
    "append_verti = cpc.append(gold,ignore_index=True)\n",
    "print(append_verti)\n",
    "# print(type(append_verti))"
   ]
  },
  {
   "cell_type": "code",
   "execution_count": 14,
   "metadata": {},
   "outputs": [
    {
     "name": "stdout",
     "output_type": "stream",
     "text": [
      "     Country  cpc Country   gold\n",
      "0     France   44   Qatar  200.0\n",
      "1      Spain   27  Turkey  400.0\n",
      "2    Germany   30   Dubai  600.0\n",
      "3      Spain   38  Europe  800.0\n",
      "4    Germany   40      UK    0.0\n",
      "5     France   35     NaN    NaN\n",
      "6      China   52     NaN    NaN\n",
      "7      India   48     NaN    NaN\n",
      "8    America   45     NaN    NaN\n",
      "9     Canada   12     NaN    NaN\n",
      "10  Pakistan   10     NaN    NaN\n",
      "<class 'pandas.core.frame.DataFrame'>\n"
     ]
    }
   ],
   "source": [
    "#combining multiple columns from dataframes\n",
    "\n",
    "cpc = data2['cpc']\n",
    "country2 = data2['Country']\n",
    "gold = data3['gold']\n",
    "country3 = data3['Country']\n",
    "\n",
    "units = []\n",
    "\n",
    "for data in [country2,cpc,country3,gold]:\n",
    "#     print(type(data))     #Question?\n",
    "    units.append(data)\n",
    "\n",
    "# print(type(units))\n",
    "# q1 = pd.concat(units, axis = 'rows')\n",
    "# print(q1)\n",
    "# print(type(q1))\n",
    "\n",
    "\n",
    "q2 = pd.concat(units, axis = 'columns')\n",
    "print(q2)\n",
    "print(type(q2))"
   ]
  },
  {
   "cell_type": "code",
   "execution_count": 15,
   "metadata": {},
   "outputs": [
    {
     "name": "stdout",
     "output_type": "stream",
     "text": [
      "     Country   cpc   gold\n",
      "0     France  44.0    NaN\n",
      "1      Spain  27.0    NaN\n",
      "2    Germany  30.0    NaN\n",
      "3      Spain  38.0    NaN\n",
      "4    Germany  40.0    NaN\n",
      "5     France  35.0    NaN\n",
      "6      China  52.0    NaN\n",
      "7      India  48.0    NaN\n",
      "8    America  45.0    NaN\n",
      "9     Canada  12.0    NaN\n",
      "10  Pakistan  10.0    NaN\n",
      "11     Qatar   NaN  200.0\n",
      "12    Turkey   NaN  400.0\n",
      "13     Dubai   NaN  600.0\n",
      "14    Europe   NaN  800.0\n",
      "15        UK   NaN    0.0\n"
     ]
    }
   ],
   "source": [
    "#concatinating two dataframes with one same column : append() method\n",
    "cpc = data2[['Country','cpc']]\n",
    "# print(type(cpc))\n",
    "\n",
    "gold = data3[['Country','gold']]\n",
    "# print(type(gold))\n",
    "\n",
    "\n",
    "combined_df = cpc.append(gold, ignore_index=True)\n",
    "print(combined_df)\n",
    "# print(type(combined_df))"
   ]
  },
  {
   "cell_type": "code",
   "execution_count": 16,
   "metadata": {},
   "outputs": [
    {
     "name": "stdout",
     "output_type": "stream",
     "text": [
      "     Country   cpc   gold\n",
      "0     France  44.0    NaN\n",
      "1      Spain  27.0    NaN\n",
      "2    Germany  30.0    NaN\n",
      "3      Spain  38.0    NaN\n",
      "4    Germany  40.0    NaN\n",
      "5     France  35.0    NaN\n",
      "6      China  52.0    NaN\n",
      "7      India  48.0    NaN\n",
      "8    America  45.0    NaN\n",
      "9     Canada  12.0    NaN\n",
      "10  Pakistan  10.0    NaN\n",
      "0      Qatar   NaN  200.0\n",
      "1     Turkey   NaN  400.0\n",
      "2      Dubai   NaN  600.0\n",
      "3     Europe   NaN  800.0\n",
      "4         UK   NaN    0.0\n"
     ]
    }
   ],
   "source": [
    "#concatinating two dataframes with one same column : pd.concat()\n",
    "\n",
    "frames = [cpc,gold]         #iterable pandas object\n",
    "result = pd.concat(frames)\n",
    "\n",
    "print(result)\n",
    "\n"
   ]
  },
  {
   "cell_type": "code",
   "execution_count": 17,
   "metadata": {},
   "outputs": [
    {
     "name": "stdout",
     "output_type": "stream",
     "text": [
      "     Zone  Tot_Sales  pop_covered Target_Ach\n",
      "0  Punjab         28         30.0        Yes\n",
      "1     KPK         34         40.0         No\n",
      "2   Sindh         33         20.0        Yes\n",
      "3     KPK         10          NaN         No\n",
      "4  Punjab         31         20.0        Yes\n",
      "     NAME Disable  Sep_Rep Remarks\n",
      "0     Ali     Yes       28    Fail\n",
      "1  Rashid      No       34    Fail\n",
      "2   Falak      No       33    Pass\n",
      "3  Sohaib     Yes       31    Pass\n",
      "4   Ammar      No       23    Fail\n"
     ]
    }
   ],
   "source": [
    "import pandas as pd\n",
    "\n",
    "#two completly distinct dataframes\n",
    "sales_data = pd.read_excel('Sales_data.xlsx')\n",
    "std_data = pd.read_excel('Student2.xlsx')\n",
    "\n",
    "print(sales_data.head())\n",
    "print(std_data.head())"
   ]
  },
  {
   "cell_type": "code",
   "execution_count": 18,
   "metadata": {},
   "outputs": [
    {
     "name": "stdout",
     "output_type": "stream",
     "text": [
      "          Zone  Tot_Sales  pop_covered Target_Ach    NAME Disable  Sep_Rep  \\\n",
      "0       Punjab       28.0         30.0        Yes     NaN     NaN      NaN   \n",
      "1          KPK       34.0         40.0         No     NaN     NaN      NaN   \n",
      "2        Sindh       33.0         20.0        Yes     NaN     NaN      NaN   \n",
      "3          KPK       10.0          NaN         No     NaN     NaN      NaN   \n",
      "4       Punjab       31.0         20.0        Yes     NaN     NaN      NaN   \n",
      "5   Blochistan       23.0         30.0        Yes     NaN     NaN      NaN   \n",
      "6          KPK       33.0         10.0        NaN     NaN     NaN      NaN   \n",
      "7       Punjab        5.0          NaN         No     NaN     NaN      NaN   \n",
      "8           GB       34.0         20.0        Yes     NaN     NaN      NaN   \n",
      "9       Punjab       34.0         20.0        Yes     NaN     NaN      NaN   \n",
      "10         NaN        NaN          NaN        NaN     Ali     Yes     28.0   \n",
      "11         NaN        NaN          NaN        NaN  Rashid      No     34.0   \n",
      "12         NaN        NaN          NaN        NaN   Falak      No     33.0   \n",
      "13         NaN        NaN          NaN        NaN  Sohaib     Yes     31.0   \n",
      "14         NaN        NaN          NaN        NaN   Ammar      No     23.0   \n",
      "15         NaN        NaN          NaN        NaN  Tayyab     Yes     33.0   \n",
      "16         NaN        NaN          NaN        NaN  Rashid     Yes     34.0   \n",
      "17         NaN        NaN          NaN        NaN     Ali     Yes     34.0   \n",
      "\n",
      "   Remarks  \n",
      "0      NaN  \n",
      "1      NaN  \n",
      "2      NaN  \n",
      "3      NaN  \n",
      "4      NaN  \n",
      "5      NaN  \n",
      "6      NaN  \n",
      "7      NaN  \n",
      "8      NaN  \n",
      "9      NaN  \n",
      "10    Fail  \n",
      "11    Fail  \n",
      "12    Pass  \n",
      "13    Pass  \n",
      "14    Fail  \n",
      "15    Pass  \n",
      "16    Pass  \n",
      "17    Pass  \n"
     ]
    }
   ],
   "source": [
    "#combining two completly distinct dataframes with append() method\n",
    "combined_df = sales_data.append(std_data, ignore_index=True)\n",
    "print(combined_df)"
   ]
  },
  {
   "cell_type": "code",
   "execution_count": 19,
   "metadata": {},
   "outputs": [
    {
     "name": "stdout",
     "output_type": "stream",
     "text": [
      "         Zone  Tot_Sales  pop_covered Target_Ach    NAME Disable  Sep_Rep  \\\n",
      "0      Punjab       28.0         30.0        Yes     NaN     NaN      NaN   \n",
      "1         KPK       34.0         40.0         No     NaN     NaN      NaN   \n",
      "2       Sindh       33.0         20.0        Yes     NaN     NaN      NaN   \n",
      "3         KPK       10.0          NaN         No     NaN     NaN      NaN   \n",
      "4      Punjab       31.0         20.0        Yes     NaN     NaN      NaN   \n",
      "5  Blochistan       23.0         30.0        Yes     NaN     NaN      NaN   \n",
      "6         KPK       33.0         10.0        NaN     NaN     NaN      NaN   \n",
      "7      Punjab        5.0          NaN         No     NaN     NaN      NaN   \n",
      "8          GB       34.0         20.0        Yes     NaN     NaN      NaN   \n",
      "9      Punjab       34.0         20.0        Yes     NaN     NaN      NaN   \n",
      "0         NaN        NaN          NaN        NaN     Ali     Yes     28.0   \n",
      "1         NaN        NaN          NaN        NaN  Rashid      No     34.0   \n",
      "2         NaN        NaN          NaN        NaN   Falak      No     33.0   \n",
      "3         NaN        NaN          NaN        NaN  Sohaib     Yes     31.0   \n",
      "4         NaN        NaN          NaN        NaN   Ammar      No     23.0   \n",
      "5         NaN        NaN          NaN        NaN  Tayyab     Yes     33.0   \n",
      "6         NaN        NaN          NaN        NaN  Rashid     Yes     34.0   \n",
      "7         NaN        NaN          NaN        NaN     Ali     Yes     34.0   \n",
      "\n",
      "  Remarks  \n",
      "0     NaN  \n",
      "1     NaN  \n",
      "2     NaN  \n",
      "3     NaN  \n",
      "4     NaN  \n",
      "5     NaN  \n",
      "6     NaN  \n",
      "7     NaN  \n",
      "8     NaN  \n",
      "9     NaN  \n",
      "0    Fail  \n",
      "1    Fail  \n",
      "2    Pass  \n",
      "3    Pass  \n",
      "4    Fail  \n",
      "5    Pass  \n",
      "6    Pass  \n",
      "7    Pass  \n"
     ]
    }
   ],
   "source": [
    "#combining two completly distinct dataframes with pd.concat() method\n",
    "\n",
    "frames = [sales_data,std_data]\n",
    "combined_df = pd.concat(frames)\n",
    "print(combined_df)"
   ]
  },
  {
   "cell_type": "code",
   "execution_count": 20,
   "metadata": {},
   "outputs": [
    {
     "name": "stdout",
     "output_type": "stream",
     "text": [
      "      A    B    C    D\n",
      "0    A0   B0   C0   D0\n",
      "1    A1   B1   C1   D1\n",
      "2    A2   B2   C2   D2\n",
      "3    A3   B3   C3   D3\n",
      "4    A4   B4   C4   D4\n",
      "5    A5   B5   C5   D5\n",
      "6    A6   B6   C6   D6\n",
      "7    A7   B7   C7   D7\n",
      "8    A8   B8   C8   D8\n",
      "9    A9   B9   C9   D9\n",
      "10  A10  B10  C10  D10\n",
      "11  A11  B11  C11  D11\n",
      "<class 'pandas.core.frame.DataFrame'>\n"
     ]
    }
   ],
   "source": [
    "#Easy Example of pd.concat and append()\n",
    "\n",
    "df_1 = pd.DataFrame({'A': ['A0', 'A1', 'A2', 'A3'],\n",
    "                     'B': ['B0', 'B1', 'B2', 'B3'],\n",
    "                     'C': ['C0', 'C1', 'C2', 'C3'],\n",
    "                     'D': ['D0', 'D1', 'D2', 'D3']},\n",
    "                      index=[0, 1, 2, 3])\n",
    "\n",
    "df_2 = pd.DataFrame({'A': ['A4', 'A5', 'A6', 'A7'],\n",
    "                  'B': ['B4', 'B5', 'B6', 'B7'],\n",
    "                  'C': ['C4', 'C5', 'C6', 'C7'],\n",
    "                  'D': ['D4', 'D5', 'D6', 'D7']},\n",
    "                 index=[4, 5, 6, 7])\n",
    "\n",
    "df_3 = pd.DataFrame({'A': ['A8', 'A9', 'A10', 'A11'],\n",
    "                 'B': ['B8', 'B9', 'B10', 'B11'],\n",
    "                 'C': ['C8', 'C9', 'C10', 'C11'],\n",
    "                 'D': ['D8', 'D9', 'D10', 'D11']},\n",
    "                  index=[8, 9, 10, 11])\n",
    "\n",
    "# print(df_1)\n",
    "# print(df_2)\n",
    "# print(df_3)\n",
    "\n",
    "#combining with pd.concat()\n",
    "# frames = [df_1,df_2,df_3]\n",
    "# resultant_df = pd.concat(frames)\n",
    "# print(resultant_df)\n",
    "\n",
    "\n",
    "#combining wtih .append()\n",
    "_2_combined_df = df_1.append(df_2)\n",
    "# print(_2_combined_df)\n",
    "\n",
    "_3_combined_df = _2_combined_df.append(df_3)\n",
    "print(_3_combined_df)\n",
    "print(type(_3_combined_df))"
   ]
  },
  {
   "cell_type": "code",
   "execution_count": 21,
   "metadata": {},
   "outputs": [
    {
     "name": "stdout",
     "output_type": "stream",
     "text": [
      "     Zone  Tot_Sales  pop_covered Target_Ach NAME Disable  Sep_Rep Remarks\n",
      "0  Punjab       28.0         30.0        Yes  NaN     NaN      NaN     NaN\n",
      "1     KPK       34.0         40.0         No  NaN     NaN      NaN     NaN\n",
      "2   Sindh       33.0         20.0        Yes  NaN     NaN      NaN     NaN\n",
      "3     KPK       10.0          NaN         No  NaN     NaN      NaN     NaN\n",
      "4  Punjab       31.0         20.0        Yes  NaN     NaN      NaN     NaN\n",
      "\n",
      "    Zone  Tot_Sales  pop_covered  Target_Ach   NAME  Disable  Sep_Rep  Remarks\n",
      "0  False      False        False       False   True     True     True     True\n",
      "1  False      False        False       False   True     True     True     True\n",
      "2  False      False        False       False   True     True     True     True\n",
      "3  False      False         True       False   True     True     True     True\n",
      "4  False      False        False       False   True     True     True     True\n",
      "5  False      False        False       False   True     True     True     True\n",
      "6  False      False        False        True   True     True     True     True\n",
      "7  False      False         True       False   True     True     True     True\n",
      "8  False      False        False       False   True     True     True     True\n",
      "9  False      False        False       False   True     True     True     True\n",
      "0   True       True         True        True  False    False    False    False\n",
      "1   True       True         True        True  False    False    False    False\n",
      "2   True       True         True        True  False    False    False    False\n",
      "3   True       True         True        True  False    False    False    False\n",
      "4   True       True         True        True  False    False    False    False\n",
      "5   True       True         True        True  False    False    False    False\n",
      "6   True       True         True        True  False    False    False    False\n",
      "7   True       True         True        True  False    False    False    False\n",
      "\n",
      "Zone           True\n",
      "Tot_Sales      True\n",
      "pop_covered    True\n",
      "Target_Ach     True\n",
      "NAME           True\n",
      "Disable        True\n",
      "Sep_Rep        True\n",
      "Remarks        True\n",
      "dtype: bool\n",
      "\n",
      "No. of columns with missing values:  8\n",
      "\n",
      "Zone            8\n",
      "Tot_Sales       8\n",
      "pop_covered    10\n",
      "Target_Ach      9\n",
      "NAME           10\n",
      "Disable        10\n",
      "Sep_Rep        10\n",
      "Remarks        10\n",
      "dtype: int64\n"
     ]
    }
   ],
   "source": [
    "#Just recalling some points about missing data from previous lecture\n",
    "\n",
    "print(combined_df.head())\n",
    "print()\n",
    "\n",
    "print(combined_df.isna())      #checking missing value row wise\n",
    "print()\n",
    "\n",
    "print(combined_df.isna().any())  #checking missing values column wise\n",
    "print()\n",
    "\n",
    "#counting number of columns contain missing values\n",
    "print(\"No. of columns with missing values: \", combined_df.isna().any().count())\n",
    "print()\n",
    "\n",
    "print(combined_df.isna().sum())      #counting missing values in each column"
   ]
  },
  {
   "cell_type": "code",
   "execution_count": 22,
   "metadata": {},
   "outputs": [],
   "source": [
    "# combined_df = combined_df.set_index('Zone')     #it is working but gives error because of missing values\n",
    "# print(combined_df)"
   ]
  },
  {
   "cell_type": "code",
   "execution_count": 23,
   "metadata": {},
   "outputs": [
    {
     "name": "stdout",
     "output_type": "stream",
     "text": [
      "         Zone  Tot_Sales  pop_covered Target_Ach    NAME Disable  Sep_Rep  \\\n",
      "0      Punjab       28.0         30.0        Yes     NaN     NaN      NaN   \n",
      "1         KPK       34.0         40.0         No     NaN     NaN      NaN   \n",
      "2       Sindh       33.0         20.0        Yes     NaN     NaN      NaN   \n",
      "3         KPK       10.0          NaN         No     NaN     NaN      NaN   \n",
      "4      Punjab       31.0         20.0        Yes     NaN     NaN      NaN   \n",
      "5  Blochistan       23.0         30.0        Yes     NaN     NaN      NaN   \n",
      "6         KPK       33.0         10.0        NaN     NaN     NaN      NaN   \n",
      "7      Punjab        5.0          NaN         No     NaN     NaN      NaN   \n",
      "8          GB       34.0         20.0        Yes     NaN     NaN      NaN   \n",
      "9      Punjab       34.0         20.0        Yes     NaN     NaN      NaN   \n",
      "0         NaN        NaN          NaN        NaN     Ali     Yes     28.0   \n",
      "1         NaN        NaN          NaN        NaN  Rashid      No     34.0   \n",
      "2         NaN        NaN          NaN        NaN   Falak      No     33.0   \n",
      "3         NaN        NaN          NaN        NaN  Sohaib     Yes     31.0   \n",
      "4         NaN        NaN          NaN        NaN   Ammar      No     23.0   \n",
      "5         NaN        NaN          NaN        NaN  Tayyab     Yes     33.0   \n",
      "6         NaN        NaN          NaN        NaN  Rashid     Yes     34.0   \n",
      "7         NaN        NaN          NaN        NaN     Ali     Yes     34.0   \n",
      "\n",
      "  Remarks  \n",
      "0     NaN  \n",
      "1     NaN  \n",
      "2     NaN  \n",
      "3     NaN  \n",
      "4     NaN  \n",
      "5     NaN  \n",
      "6     NaN  \n",
      "7     NaN  \n",
      "8     NaN  \n",
      "9     NaN  \n",
      "0    Fail  \n",
      "1    Fail  \n",
      "2    Pass  \n",
      "3    Pass  \n",
      "4    Fail  \n",
      "5    Pass  \n",
      "6    Pass  \n",
      "7    Pass  \n"
     ]
    }
   ],
   "source": [
    "#recalling the previous dataframe used before above example\n",
    "print(combined_df)"
   ]
  },
  {
   "cell_type": "code",
   "execution_count": 24,
   "metadata": {},
   "outputs": [
    {
     "name": "stdout",
     "output_type": "stream",
     "text": [
      "         Zone  Tot_Sales  pop_covered Target_Ach    NAME Disable  Sep_Rep  \\\n",
      "0      Punjab       28.0         30.0        Yes     NaN     NaN      NaN   \n",
      "0         NaN        NaN          NaN        NaN     Ali     Yes     28.0   \n",
      "1         KPK       34.0         40.0         No     NaN     NaN      NaN   \n",
      "1         NaN        NaN          NaN        NaN  Rashid      No     34.0   \n",
      "2       Sindh       33.0         20.0        Yes     NaN     NaN      NaN   \n",
      "2         NaN        NaN          NaN        NaN   Falak      No     33.0   \n",
      "3         KPK       10.0          NaN         No     NaN     NaN      NaN   \n",
      "3         NaN        NaN          NaN        NaN  Sohaib     Yes     31.0   \n",
      "4      Punjab       31.0         20.0        Yes     NaN     NaN      NaN   \n",
      "4         NaN        NaN          NaN        NaN   Ammar      No     23.0   \n",
      "5  Blochistan       23.0         30.0        Yes     NaN     NaN      NaN   \n",
      "5         NaN        NaN          NaN        NaN  Tayyab     Yes     33.0   \n",
      "6         KPK       33.0         10.0        NaN     NaN     NaN      NaN   \n",
      "6         NaN        NaN          NaN        NaN  Rashid     Yes     34.0   \n",
      "7         NaN        NaN          NaN        NaN     Ali     Yes     34.0   \n",
      "7      Punjab        5.0          NaN         No     NaN     NaN      NaN   \n",
      "8          GB       34.0         20.0        Yes     NaN     NaN      NaN   \n",
      "9      Punjab       34.0         20.0        Yes     NaN     NaN      NaN   \n",
      "\n",
      "  Remarks  \n",
      "0     NaN  \n",
      "0    Fail  \n",
      "1     NaN  \n",
      "1    Fail  \n",
      "2     NaN  \n",
      "2    Pass  \n",
      "3     NaN  \n",
      "3    Pass  \n",
      "4     NaN  \n",
      "4    Fail  \n",
      "5     NaN  \n",
      "5    Pass  \n",
      "6     NaN  \n",
      "6    Pass  \n",
      "7    Pass  \n",
      "7     NaN  \n",
      "8     NaN  \n",
      "9     NaN  \n"
     ]
    }
   ],
   "source": [
    "# Sorting the indexes and storing in new dataframe\n",
    "sorted_combined = combined_df.sort_index(level=1)\n",
    "\n",
    "print(sorted_combined)\n",
    "# print(sorted_combined['Zone'].count())\n",
    "# print(sorted_combined['NAME'].count())"
   ]
  },
  {
   "cell_type": "code",
   "execution_count": 25,
   "metadata": {},
   "outputs": [
    {
     "name": "stdout",
     "output_type": "stream",
     "text": [
      "     Zone  Tot_Sales  pop_covered Target_Ach    NAME Disable  Sep_Rep Remarks\n",
      "0  Punjab       28.0         30.0        Yes     NaN     NaN      NaN     NaN\n",
      "0     NaN        NaN          NaN        NaN     Ali     Yes     28.0    Fail\n",
      "1     KPK       34.0         40.0         No     NaN     NaN      NaN     NaN\n",
      "1     NaN        NaN          NaN        NaN  Rashid      No     34.0    Fail\n"
     ]
    }
   ],
   "source": [
    "#accessibility with repeated indexes\n",
    "# yahan pr aik mazy ki cheez hony jaa rhi hy, Focus!!!!!!!!!!\n",
    "\n",
    "print(sorted_combined.iloc[0:4,:])"
   ]
  },
  {
   "cell_type": "raw",
   "metadata": {},
   "source": [
    "print(combined_df)"
   ]
  },
  {
   "cell_type": "markdown",
   "metadata": {},
   "source": [
    "### Lecture 6\n",
    "#### Topic 2.3\n",
    "\n",
    "\n",
    "You'll explore different techniques for merging, and learn about left joins, right joins, inner joins, and outer joins,  as well as when to use which. USE Book1 and Book2 files to work"
   ]
  },
  {
   "cell_type": "code",
   "execution_count": 31,
   "metadata": {},
   "outputs": [
    {
     "name": "stdout",
     "output_type": "stream",
     "text": [
      "     city  revenue  branch_id\n",
      "0  austin      100         10\n",
      "1  denver       83         20\n",
      "2  spring        4         30\n",
      "3  mexico      200         47\n",
      "\n",
      "     city managers  branch_id\n",
      "0  austin      tom         10\n",
      "1  denver      jon         20\n",
      "2  mexico  charles         47\n",
      "3  spring    jassy         31\n"
     ]
    }
   ],
   "source": [
    "import pandas as pd\n",
    "\n",
    "revenue = pd.read_csv('Book1.csv')\n",
    "manager= pd.read_csv('Book2.csv')\n",
    "\n",
    "print(revenue)\n",
    "print()\n",
    "print(manager)"
   ]
  },
  {
   "cell_type": "code",
   "execution_count": 32,
   "metadata": {},
   "outputs": [
    {
     "name": "stdout",
     "output_type": "stream",
     "text": [
      "     city managers  branch_id  branch\n",
      "0  austin      tom         10  austin\n",
      "1  denver      jon         20  denver\n",
      "2  mexico  charles         47  mexico\n",
      "3  spring    jassy         31  spring\n"
     ]
    }
   ],
   "source": [
    "manager['branch'] = manager['city']\n",
    "print(manager)"
   ]
  },
  {
   "cell_type": "code",
   "execution_count": 33,
   "metadata": {},
   "outputs": [
    {
     "name": "stdout",
     "output_type": "stream",
     "text": [
      "     city  revenue  branch_id\n",
      "0  austin      100         10\n",
      "1  denver       83         20\n",
      "2  spring        4         30\n",
      "3  mexico      200         47\n"
     ]
    }
   ],
   "source": [
    "print(revenue)"
   ]
  },
  {
   "cell_type": "code",
   "execution_count": 37,
   "metadata": {},
   "outputs": [
    {
     "name": "stdout",
     "output_type": "stream",
     "text": [
      "     city  revenue  branch_id_x managers  branch_id_y  branch\n",
      "0  austin      100           10      tom           10  austin\n",
      "1  denver       83           20      jon           20  denver\n",
      "2  spring        4           30    jassy           31  spring\n",
      "3  mexico      200           47  charles           47  mexico\n",
      "   city_x  revenue  branch_id  city_y managers  branch\n",
      "0  austin      100         10  austin      tom  austin\n",
      "1  denver       83         20  denver      jon  denver\n",
      "2  mexico      200         47  mexico  charles  mexico\n"
     ]
    }
   ],
   "source": [
    "# Merge revenue with managers on 'city': merge_by_city\n",
    "merge_by_city = pd.merge(revenue, manager, on='city')\n",
    "print(merge_by_city)\n",
    "\n",
    "\n",
    "merge_by_city = pd.merge(revenue, manager, on='branch_id')\n",
    "print(merge_by_city)"
   ]
  },
  {
   "cell_type": "code",
   "execution_count": 39,
   "metadata": {},
   "outputs": [
    {
     "name": "stdout",
     "output_type": "stream",
     "text": [
      "   city_x  revenue  branch_id_x  city_y managers  branch_id_y  branch\n",
      "0  austin      100           10  austin      tom           10  austin\n",
      "1  denver       83           20  denver      jon           20  denver\n",
      "2  spring        4           30  spring    jassy           31  spring\n",
      "3  mexico      200           47  mexico  charles           47  mexico\n"
     ]
    }
   ],
   "source": [
    "###### I have problem in understanding here....\n",
    "\n",
    "# Merge revenue & managers on 'city' & 'branch': combined\n",
    "combined = pd.merge(revenue, manager, left_on='city', right_on = 'branch')\n",
    "\n",
    "print(combined)"
   ]
  },
  {
   "cell_type": "code",
   "execution_count": 42,
   "metadata": {},
   "outputs": [
    {
     "name": "stdout",
     "output_type": "stream",
     "text": [
      "     city  revenue  branch_id state\n",
      "0  austin      100         10    TX\n",
      "1  denver       83         20    CO\n",
      "2  spring        4         30    IL\n",
      "3  mexico      200         47    CA\n",
      "     city managers  branch_id  branch state\n",
      "0  austin      tom         10  austin    TX\n",
      "1  denver      jon         20  denver    CO\n",
      "2  mexico  charles         47  mexico    CA\n",
      "3  spring    jassy         31  spring    MO\n",
      "     city  revenue  branch_id state managers  branch\n",
      "0  austin      100         10    TX      tom  austin\n",
      "1  denver       83         20    CO      jon  denver\n",
      "2  mexico      200         47    CA  charles  mexico\n"
     ]
    }
   ],
   "source": [
    "#Adding new columns in both dataframes\n",
    "revenue ['state'] = ['TX','CO','IL','CA']\n",
    "\n",
    "manager['state'] = ['TX','CO','CA','MO']\n",
    "\n",
    "print(revenue)\n",
    "print(manager)\n",
    "\n",
    "combined = pd.merge(revenue,manager, on=['branch_id','city','state'])\n",
    "#jahan py teeno (branch_id','city','state') main common ho ga wo return kry ga\n",
    "print(combined)"
   ]
  },
  {
   "cell_type": "code",
   "execution_count": 43,
   "metadata": {},
   "outputs": [
    {
     "name": "stdout",
     "output_type": "stream",
     "text": [
      "     city  revenue  branch_id state\n",
      "0  austin      100         10    TX\n",
      "1  denver       83         20    CO\n",
      "2  spring        4         30    IL\n",
      "3  mexico      200         47    CA\n",
      "     city managers  branch_id  branch state\n",
      "0  austin      tom         10  austin    TX\n",
      "1  denver      jon         20  denver    CO\n",
      "2  mexico  charles         47  mexico    CA\n",
      "3  spring    jassy         31  spring    MO\n"
     ]
    }
   ],
   "source": [
    "print(revenue)\n",
    "print(manager)"
   ]
  },
  {
   "cell_type": "code",
   "execution_count": 50,
   "metadata": {},
   "outputs": [
    {
     "name": "stdout",
     "output_type": "stream",
     "text": [
      "     city  revenue  branch_id_x state managers  branch_id_y  branch\n",
      "0  austin    100.0         10.0    TX      tom           10  austin\n",
      "1  denver     83.0         20.0    CO      jon           20  denver\n",
      "2  mexico    200.0         47.0    CA  charles           47  mexico\n",
      "3  spring      NaN          NaN    MO    jassy           31  spring\n"
     ]
    }
   ],
   "source": [
    "## not clear\n",
    "revenue_and_sales = pd.merge(revenue, manager, how='right', on=['city','state'])\n",
    "print(revenue_and_sales)"
   ]
  },
  {
   "cell_type": "code",
   "execution_count": 51,
   "metadata": {},
   "outputs": [
    {
     "name": "stdout",
     "output_type": "stream",
     "text": [
      "   city_x managers  branch_id_x  branch state_x city_y  revenue  branch_id_y  \\\n",
      "0  austin      tom           10  austin      TX    NaN      NaN          NaN   \n",
      "1  denver      jon           20  denver      CO    NaN      NaN          NaN   \n",
      "2  mexico  charles           47  mexico      CA    NaN      NaN          NaN   \n",
      "3  spring    jassy           31  spring      MO    NaN      NaN          NaN   \n",
      "\n",
      "  state_y  \n",
      "0     NaN  \n",
      "1     NaN  \n",
      "2     NaN  \n",
      "3     NaN  \n"
     ]
    }
   ],
   "source": [
    "## not clear\n",
    "revenue_and_sales = pd.merge(manager, revenue, how='left', left_on=['city'], right_on=['state'])\n",
    "print(revenue_and_sales)"
   ]
  },
  {
   "cell_type": "code",
   "execution_count": 56,
   "metadata": {},
   "outputs": [
    {
     "name": "stdout",
     "output_type": "stream",
     "text": [
      "     city  revenue  branch_id state\n",
      "0  austin      100         10    TX\n",
      "1  denver       83         20    CO\n",
      "2  spring        4         30    IL\n",
      "3  mexico      200         47    CA\n",
      "     city managers  branch_id  branch state\n",
      "0  austin      tom         10  austin    TX\n",
      "1  denver      jon         20  denver    CO\n",
      "2  mexico  charles         47  mexico    CA\n",
      "3  spring    jassy         31  spring    MO\n"
     ]
    }
   ],
   "source": [
    "print(revenue)\n",
    "print(manager)\n"
   ]
  },
  {
   "cell_type": "code",
   "execution_count": 65,
   "metadata": {},
   "outputs": [
    {
     "name": "stdout",
     "output_type": "stream",
     "text": [
      "     city  revenue  branch_id state managers\n",
      "0  austin    100.0         10    TX      tom\n",
      "1  denver     83.0         20    CO      jon\n",
      "2  spring      4.0         30    IL      NaN\n",
      "3  mexico    200.0         47    CA  charles\n",
      "4  spring      NaN         31   NaN    jassy\n"
     ]
    }
   ],
   "source": [
    "# outer: use union of keys from both frames\n",
    "combined_outer = pd.merge(revenue, managers, on=['city','branch_id'], how='outer')   \n",
    "\n",
    "# this one why not filling the valueof state in last line?????????\n",
    "\n",
    "\n",
    "# combined_outer = pd.merge(revenue, managers, on=['city','state'], how='outer')    #this is not working, why?????\n",
    "print(combined_outer)"
   ]
  },
  {
   "cell_type": "code",
   "execution_count": 69,
   "metadata": {},
   "outputs": [
    {
     "name": "stdout",
     "output_type": "stream",
     "text": [
      "     city  revenue  branch_id state managers  branch\n",
      "0  austin      100         10    TX      tom  austin\n",
      "1  denver       83         20    CO      jon  denver\n",
      "2  mexico      200         47    CA  charles  mexico\n",
      "3  spring        4         30    IL  charles  mexico\n",
      "4  spring        4         31    MO    jassy  spring\n"
     ]
    }
   ],
   "source": [
    "# Designed for ordered data like time series data. Optionally perform group-wise merge\n",
    "# fill_method = 'ffill'  : Interpolation method for data.\n",
    "\n",
    "ordered_merge = pd.merge_ordered(revenue, manager, fill_method='ffill')\n",
    "print(ordered_merge)"
   ]
  },
  {
   "cell_type": "code",
   "execution_count": 1,
   "metadata": {},
   "outputs": [],
   "source": [
    "# merge.asof ()\n",
    "# check this function and implement"
   ]
  }
 ],
 "metadata": {
  "kernelspec": {
   "display_name": "Python 3",
   "language": "python",
   "name": "python3"
  },
  "language_info": {
   "codemirror_mode": {
    "name": "ipython",
    "version": 3
   },
   "file_extension": ".py",
   "mimetype": "text/x-python",
   "name": "python",
   "nbconvert_exporter": "python",
   "pygments_lexer": "ipython3",
   "version": "3.7.6"
  }
 },
 "nbformat": 4,
 "nbformat_minor": 4
}
