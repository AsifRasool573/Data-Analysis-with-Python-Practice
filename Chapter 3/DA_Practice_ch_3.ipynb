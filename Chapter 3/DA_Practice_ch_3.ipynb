{
 "cells": [
  {
   "cell_type": "markdown",
   "metadata": {},
   "source": [
    "## chapter-3\n",
    "#### topic 3.1\n",
    "engine='python'    encoding='ISO-8859-1' , encoding='latin-1'\n",
    "You can clone the git repo by:\n",
    "git clone https://github.com/wblakecannon/DataCamp.git\n",
    "But then you ll get all the files;\n",
    "If you are interested in only one file, then clickon Raw and on the page, right click and save the file.\n",
    "Or a very simple way, is if you want to read it in Pandas then below code should work\n",
    "df = = pd.read_csv(r'https://raw.githubusercontent.com/wblakecannon/DataCamp/master/05-importing-data-in-python-(part-1)/_datasets/digits.csv')\n",
    " df.head()"
   ]
  },
  {
   "cell_type": "code",
   "execution_count": 37,
   "metadata": {},
   "outputs": [
    {
     "name": "stdout",
     "output_type": "stream",
     "text": [
      "CHAPTER 1. Loomings.\n",
      "\n",
      "Call me Ishmael. Some years ago--never mind how long precisely--having\n",
      "little or no money in my purse, and nothing particular to interest me on\n",
      "shore, I thought I would sail about a little and see the watery part of\n",
      "the world. It is a way I have of driving off the spleen and regulating\n",
      "the circulation. Whenever I find myself growing grim about the mouth;\n",
      "whenever it is a damp, drizzly November in my soul; whenever I find\n",
      "myself involuntarily pausing before coffin warehouses, and bringing up\n",
      "the rear of every funeral I meet; and especially whenever my hypos get\n",
      "such an upper hand of me, that it requires a strong moral principle to\n",
      "prevent me from deliberately stepping into the street, and methodically\n",
      "knocking people's hats off--then, I account it high time to get to sea\n",
      "as soon as I can. This is my substitute for pistol and ball. With a\n",
      "philosophical flourish Cato throws himself upon his sword; I quietly\n",
      "take to the ship. There is nothing surprising in this. If they but knew\n",
      "it, almost all men in their degree, some time or other, cherish very\n",
      "nearly the same feelings towards the ocean with me.\n"
     ]
    }
   ],
   "source": [
    "file = open('moby_dick.txt', mode='r')\n",
    "\n",
    "print(file.read())"
   ]
  },
  {
   "cell_type": "code",
   "execution_count": 38,
   "metadata": {},
   "outputs": [
    {
     "name": "stdout",
     "output_type": "stream",
     "text": [
      "CHAPTER 1. Loomings.\n",
      "\n",
      "Call me \n"
     ]
    }
   ],
   "source": [
    "#reading required characters\n",
    "f = open('moby_dick.txt', mode='r')\n",
    "print(f.read(30))"
   ]
  },
  {
   "cell_type": "code",
   "execution_count": 40,
   "metadata": {},
   "outputs": [
    {
     "name": "stdout",
     "output_type": "stream",
     "text": [
      "False\n",
      "True\n"
     ]
    }
   ],
   "source": [
    "#check file is open or close\n",
    "print(file.closed)\n",
    "file.close()\n",
    "\n",
    "print(file.closed)"
   ]
  },
  {
   "cell_type": "code",
   "execution_count": 43,
   "metadata": {},
   "outputs": [
    {
     "name": "stdout",
     "output_type": "stream",
     "text": [
      "CHAPTER 1. Loomings.\n",
      "\n",
      "\n",
      "\n",
      "Call me Ishmael. Some years ago--never mind how long precisely--having\n",
      "\n"
     ]
    }
   ],
   "source": [
    "#reading each line of the file\n",
    "\n",
    "f = open('moby_dick.txt', mode='r')\n",
    "print(f.readline())\n",
    "print(f.readline())\n",
    "print(f.readline())"
   ]
  },
  {
   "cell_type": "code",
   "execution_count": 50,
   "metadata": {},
   "outputs": [
    {
     "name": "stdout",
     "output_type": "stream",
     "text": [
      "['CHAPTER 1. Loomings.\\n', '\\n', 'Call me Ishmael. Some years ago--never mind how long precisely--having\\n', 'little or no money in my purse, and nothing particular to interest me on\\n', 'shore, I thought I would sail about a little and see the watery part of\\n', 'the world. It is a way I have of driving off the spleen and regulating\\n', 'the circulation. Whenever I find myself growing grim about the mouth;\\n', 'whenever it is a damp, drizzly November in my soul; whenever I find\\n', 'myself involuntarily pausing before coffin warehouses, and bringing up\\n', 'the rear of every funeral I meet; and especially whenever my hypos get\\n', 'such an upper hand of me, that it requires a strong moral principle to\\n', 'prevent me from deliberately stepping into the street, and methodically\\n', \"knocking people's hats off--then, I account it high time to get to sea\\n\", 'as soon as I can. This is my substitute for pistol and ball. With a\\n', 'philosophical flourish Cato throws himself upon his sword; I quietly\\n', 'take to the ship. There is nothing surprising in this. If they but knew\\n', 'it, almost all men in their degree, some time or other, cherish very\\n', 'nearly the same feelings towards the ocean with me.']\n"
     ]
    }
   ],
   "source": [
    "#Reading file lines in the form of list.\n",
    "f = open('moby_dick.txt', mode='r')\n",
    "read_file = f.readlines()\n",
    "print(read_file)\n"
   ]
  },
  {
   "cell_type": "code",
   "execution_count": 53,
   "metadata": {},
   "outputs": [
    {
     "name": "stdout",
     "output_type": "stream",
     "text": [
      "CHAPTER 1. Loomings.\n",
      "\n",
      "\n",
      "\n",
      "Call me Ishmael. Some years ago--never mind how long precisely--having\n",
      "\n",
      "little or no money in my purse, and nothing particular to interest me on\n",
      "\n",
      "shore, I thought I would sail about a little and see the watery part of\n",
      "\n",
      "the world. It is a way I have of driving off the spleen and regulating\n",
      "\n",
      "the circulation. Whenever I find myself growing grim about the mouth;\n",
      "\n",
      "whenever it is a damp, drizzly November in my soul; whenever I find\n",
      "\n",
      "myself involuntarily pausing before coffin warehouses, and bringing up\n",
      "\n",
      "the rear of every funeral I meet; and especially whenever my hypos get\n",
      "\n",
      "such an upper hand of me, that it requires a strong moral principle to\n",
      "\n",
      "prevent me from deliberately stepping into the street, and methodically\n",
      "\n",
      "knocking people's hats off--then, I account it high time to get to sea\n",
      "\n",
      "as soon as I can. This is my substitute for pistol and ball. With a\n",
      "\n",
      "philosophical flourish Cato throws himself upon his sword; I quietly\n",
      "\n",
      "take to the ship. There is nothing surprising in this. If they but knew\n",
      "\n",
      "it, almost all men in their degree, some time or other, cherish very\n",
      "\n",
      "nearly the same feelings towards the ocean with me.\n"
     ]
    }
   ],
   "source": [
    "#Reading each line with the help of for loop\n",
    "\n",
    "f = open('moby_dick.txt', mode='r')\n",
    "\n",
    "for x in f.readlines():\n",
    "    print(x)\n"
   ]
  },
  {
   "cell_type": "code",
   "execution_count": 55,
   "metadata": {},
   "outputs": [
    {
     "data": {
      "text/html": [
       "<div>\n",
       "<style scoped>\n",
       "    .dataframe tbody tr th:only-of-type {\n",
       "        vertical-align: middle;\n",
       "    }\n",
       "\n",
       "    .dataframe tbody tr th {\n",
       "        vertical-align: top;\n",
       "    }\n",
       "\n",
       "    .dataframe thead th {\n",
       "        text-align: right;\n",
       "    }\n",
       "</style>\n",
       "<table border=\"1\" class=\"dataframe\">\n",
       "  <thead>\n",
       "    <tr style=\"text-align: right;\">\n",
       "      <th></th>\n",
       "      <th>1.0</th>\n",
       "      <th>0.0</th>\n",
       "      <th>0.0.1</th>\n",
       "      <th>0.0.2</th>\n",
       "      <th>0.0.3</th>\n",
       "      <th>0.0.4</th>\n",
       "      <th>0.0.5</th>\n",
       "      <th>0.0.6</th>\n",
       "      <th>0.0.7</th>\n",
       "      <th>0.0.8</th>\n",
       "      <th>...</th>\n",
       "      <th>0.0.677</th>\n",
       "      <th>0.0.678</th>\n",
       "      <th>0.0.679</th>\n",
       "      <th>0.0.680</th>\n",
       "      <th>0.0.681</th>\n",
       "      <th>0.0.682</th>\n",
       "      <th>0.0.683</th>\n",
       "      <th>0.0.684</th>\n",
       "      <th>0.0.685</th>\n",
       "      <th>0.0.686</th>\n",
       "    </tr>\n",
       "  </thead>\n",
       "  <tbody>\n",
       "    <tr>\n",
       "      <th>0</th>\n",
       "      <td>0.0</td>\n",
       "      <td>0.0</td>\n",
       "      <td>0.0</td>\n",
       "      <td>0.0</td>\n",
       "      <td>0.0</td>\n",
       "      <td>0.0</td>\n",
       "      <td>0.0</td>\n",
       "      <td>0.0</td>\n",
       "      <td>0.0</td>\n",
       "      <td>0.0</td>\n",
       "      <td>...</td>\n",
       "      <td>0.0</td>\n",
       "      <td>0.0</td>\n",
       "      <td>0.0</td>\n",
       "      <td>0.0</td>\n",
       "      <td>0.0</td>\n",
       "      <td>0.0</td>\n",
       "      <td>0.0</td>\n",
       "      <td>0.0</td>\n",
       "      <td>0.0</td>\n",
       "      <td>0.0</td>\n",
       "    </tr>\n",
       "    <tr>\n",
       "      <th>1</th>\n",
       "      <td>1.0</td>\n",
       "      <td>0.0</td>\n",
       "      <td>0.0</td>\n",
       "      <td>0.0</td>\n",
       "      <td>0.0</td>\n",
       "      <td>0.0</td>\n",
       "      <td>0.0</td>\n",
       "      <td>0.0</td>\n",
       "      <td>0.0</td>\n",
       "      <td>0.0</td>\n",
       "      <td>...</td>\n",
       "      <td>0.0</td>\n",
       "      <td>0.0</td>\n",
       "      <td>0.0</td>\n",
       "      <td>0.0</td>\n",
       "      <td>0.0</td>\n",
       "      <td>0.0</td>\n",
       "      <td>0.0</td>\n",
       "      <td>0.0</td>\n",
       "      <td>0.0</td>\n",
       "      <td>0.0</td>\n",
       "    </tr>\n",
       "    <tr>\n",
       "      <th>2</th>\n",
       "      <td>4.0</td>\n",
       "      <td>0.0</td>\n",
       "      <td>0.0</td>\n",
       "      <td>0.0</td>\n",
       "      <td>0.0</td>\n",
       "      <td>0.0</td>\n",
       "      <td>0.0</td>\n",
       "      <td>0.0</td>\n",
       "      <td>0.0</td>\n",
       "      <td>0.0</td>\n",
       "      <td>...</td>\n",
       "      <td>0.0</td>\n",
       "      <td>0.0</td>\n",
       "      <td>0.0</td>\n",
       "      <td>0.0</td>\n",
       "      <td>0.0</td>\n",
       "      <td>0.0</td>\n",
       "      <td>0.0</td>\n",
       "      <td>0.0</td>\n",
       "      <td>0.0</td>\n",
       "      <td>0.0</td>\n",
       "    </tr>\n",
       "    <tr>\n",
       "      <th>3</th>\n",
       "      <td>0.0</td>\n",
       "      <td>0.0</td>\n",
       "      <td>0.0</td>\n",
       "      <td>0.0</td>\n",
       "      <td>0.0</td>\n",
       "      <td>0.0</td>\n",
       "      <td>0.0</td>\n",
       "      <td>0.0</td>\n",
       "      <td>0.0</td>\n",
       "      <td>0.0</td>\n",
       "      <td>...</td>\n",
       "      <td>0.0</td>\n",
       "      <td>0.0</td>\n",
       "      <td>0.0</td>\n",
       "      <td>0.0</td>\n",
       "      <td>0.0</td>\n",
       "      <td>0.0</td>\n",
       "      <td>0.0</td>\n",
       "      <td>0.0</td>\n",
       "      <td>0.0</td>\n",
       "      <td>0.0</td>\n",
       "    </tr>\n",
       "    <tr>\n",
       "      <th>4</th>\n",
       "      <td>0.0</td>\n",
       "      <td>0.0</td>\n",
       "      <td>0.0</td>\n",
       "      <td>0.0</td>\n",
       "      <td>0.0</td>\n",
       "      <td>0.0</td>\n",
       "      <td>0.0</td>\n",
       "      <td>0.0</td>\n",
       "      <td>0.0</td>\n",
       "      <td>0.0</td>\n",
       "      <td>...</td>\n",
       "      <td>0.0</td>\n",
       "      <td>0.0</td>\n",
       "      <td>0.0</td>\n",
       "      <td>0.0</td>\n",
       "      <td>0.0</td>\n",
       "      <td>0.0</td>\n",
       "      <td>0.0</td>\n",
       "      <td>0.0</td>\n",
       "      <td>0.0</td>\n",
       "      <td>0.0</td>\n",
       "    </tr>\n",
       "  </tbody>\n",
       "</table>\n",
       "<p>5 rows × 785 columns</p>\n",
       "</div>"
      ],
      "text/plain": [
       "   1.0  0.0  0.0.1  0.0.2  0.0.3  0.0.4  0.0.5  0.0.6  0.0.7  0.0.8  ...  \\\n",
       "0  0.0  0.0    0.0    0.0    0.0    0.0    0.0    0.0    0.0    0.0  ...   \n",
       "1  1.0  0.0    0.0    0.0    0.0    0.0    0.0    0.0    0.0    0.0  ...   \n",
       "2  4.0  0.0    0.0    0.0    0.0    0.0    0.0    0.0    0.0    0.0  ...   \n",
       "3  0.0  0.0    0.0    0.0    0.0    0.0    0.0    0.0    0.0    0.0  ...   \n",
       "4  0.0  0.0    0.0    0.0    0.0    0.0    0.0    0.0    0.0    0.0  ...   \n",
       "\n",
       "   0.0.677  0.0.678  0.0.679  0.0.680  0.0.681  0.0.682  0.0.683  0.0.684  \\\n",
       "0      0.0      0.0      0.0      0.0      0.0      0.0      0.0      0.0   \n",
       "1      0.0      0.0      0.0      0.0      0.0      0.0      0.0      0.0   \n",
       "2      0.0      0.0      0.0      0.0      0.0      0.0      0.0      0.0   \n",
       "3      0.0      0.0      0.0      0.0      0.0      0.0      0.0      0.0   \n",
       "4      0.0      0.0      0.0      0.0      0.0      0.0      0.0      0.0   \n",
       "\n",
       "   0.0.685  0.0.686  \n",
       "0      0.0      0.0  \n",
       "1      0.0      0.0  \n",
       "2      0.0      0.0  \n",
       "3      0.0      0.0  \n",
       "4      0.0      0.0  \n",
       "\n",
       "[5 rows x 785 columns]"
      ]
     },
     "execution_count": 55,
     "metadata": {},
     "output_type": "execute_result"
    }
   ],
   "source": [
    "# Reading file from an online repository\n",
    "\n",
    "import pandas as pd\n",
    "df = pd.read_csv(r'https://raw.githubusercontent.com/wblakecannon/DataCamp/master/05-importing-data-in-python-(part-1)/_datasets/digits.csv')\n",
    "df.head()"
   ]
  },
  {
   "cell_type": "code",
   "execution_count": 64,
   "metadata": {},
   "outputs": [],
   "source": [
    "#Saving the above dataframe to CSV\n",
    "df.to_csv('digits2.csv')"
   ]
  },
  {
   "cell_type": "code",
   "execution_count": 89,
   "metadata": {},
   "outputs": [
    {
     "name": "stdout",
     "output_type": "stream",
     "text": [
      "<class 'numpy.ndarray'>\n"
     ]
    },
    {
     "data": {
      "image/png": "[encoded data removed]",
      "text/plain": [
       "<Figure size 432x288 with 1 Axes>"
      ]
     },
     "metadata": {
      "needs_background": "light"
     },
     "output_type": "display_data"
    }
   ],
   "source": [
    "# I have confusion here???????????????????????????????????????????????????\n",
    "\n",
    "import numpy as np\n",
    "import matplotlib.pyplot as plt\n",
    "\n",
    "file = 'digits.csv'\n",
    "\n",
    "\n",
    "digits = np.loadtxt(file, delimiter=',')\n",
    "\n",
    "print(type(digits))\n",
    "\n",
    "im = digits[21, 1:]\n",
    "\n",
    "# print(im)\n",
    "\n",
    "\n",
    "\n",
    "im_sq = np.reshape(im, (28,28))\n",
    "plt.imshow(im_sq,cmap='Greys',interpolation='nearest')\n",
    "plt.show()"
   ]
  },
  {
   "cell_type": "code",
   "execution_count": 111,
   "metadata": {},
   "outputs": [
    {
     "name": "stdout",
     "output_type": "stream",
     "text": [
      "[[6. 0. 0. 0.]\n",
      " [3. 0. 0. 0.]\n",
      " [6. 0. 0. 0.]\n",
      " [4. 0. 0. 0.]\n",
      " [6. 0. 0. 0.]\n",
      " [2. 0. 0. 0.]\n",
      " [9. 0. 0. 0.]\n",
      " [1. 0. 0. 0.]\n",
      " [2. 0. 0. 0.]\n",
      " [0. 0. 0. 0.]\n",
      " [5. 0. 0. 0.]]\n"
     ]
    }
   ],
   "source": [
    "import numpy as np\n",
    "\n",
    "file = 'digits_header.txt'\n",
    "                                                            #skiprows kitni rows skip kr k agla data show krna hy\n",
    "data = np.loadtxt(file, delimiter = '\\t', skiprows=90,usecols=[0,1,2,3])   #usecols: mean k kon kon sy cols use krny hn\n",
    "print(data)"
   ]
  },
  {
   "cell_type": "code",
   "execution_count": null,
   "metadata": {},
   "outputs": [],
   "source": []
  },
  {
   "cell_type": "code",
   "execution_count": 146,
   "metadata": {},
   "outputs": [
    {
     "name": "stdout",
     "output_type": "stream",
     "text": [
      "   Time Percent       TP\n",
      "1    99   0.067  990.067\n",
      "2    99   0.133  990.133\n",
      "3    99   0.067  990.067\n",
      "4    99       0      990\n",
      "5    99       0      990\n",
      "6     0     0.5     00.5\n",
      "7     0   0.467   00.467\n",
      "8     0   0.857   00.857\n",
      "9     0     0.5     00.5\n",
      "10    0   0.357   00.357\n",
      "11    0   0.533   00.533\n",
      "12    5   0.467   50.467\n",
      "13    5   0.467   50.467\n",
      "14    5   0.125   50.125\n",
      "15    5     0.4     50.4\n",
      "16    5   0.214   50.214\n",
      "17    5     0.4     50.4\n",
      "18   10   0.067  100.067\n",
      "19   10   0.067  100.067\n",
      "20   10   0.333  100.333\n",
      "21   10   0.333  100.333\n",
      "22   10   0.133  100.133\n",
      "23   10   0.133  100.133\n",
      "24   15   0.267  150.267\n",
      "25   15   0.286  150.286\n",
      "26   15   0.333  150.333\n",
      "27   15   0.214  150.214\n",
      "28   15       0      150\n",
      "29   15       0      150\n",
      "30   20   0.267  200.267\n",
      "31   20     0.2    200.2\n",
      "32   20   0.267  200.267\n",
      "33   20   0.437  200.437\n",
      "34   20   0.077  200.077\n",
      "35   20   0.067  200.067\n",
      "36   25   0.133  250.133\n",
      "37   25   0.267  250.267\n",
      "38   25   0.412  250.412\n",
      "39   25       0      250\n",
      "40   25   0.067  250.067\n",
      "41   25   0.133  250.133\n",
      "42   30       0      300\n",
      "43   30   0.071  300.071\n",
      "44   30       0      300\n",
      "45   30   0.067  300.067\n",
      "46   30   0.067  300.067\n",
      "47   30   0.133  300.133\n"
     ]
    }
   ],
   "source": [
    "import numpy as np\n",
    "import pandas as pd\n",
    "import matplotlib.pyplot as plt\n",
    "\n",
    "file = 'seaslug.txt'\n",
    "\n",
    "data = np.loadtxt(file, delimiter='\\t', dtype=str)\n",
    "\n",
    "# print(data)\n",
    "\n",
    "# converting above read file(data) to pandas DataFrame\n",
    "data2 = pd.DataFrame(data)\n",
    "\n",
    "# print(data2)\n",
    "\n",
    "#accessing the columns names from existing data in df rows\n",
    "x,y = data2.iloc[0]\n",
    "# print(x,y)\n",
    "\n",
    "#assigning those accessed columns names to my dataframe\n",
    "data2.columns = x,y\n",
    "\n",
    "# print(data2)\n",
    "\n",
    "#deleting columns names from the rows of dataframe\n",
    "data2=data2.drop([0])\n",
    "\n",
    "# print(data2)\n",
    "\n",
    "data2['TP'] = data2['Time'] + data2['Percent']\n",
    "\n",
    "print(data2)"
   ]
  },
  {
   "cell_type": "code",
   "execution_count": 196,
   "metadata": {},
   "outputs": [
    {
     "name": "stdout",
     "output_type": "stream",
     "text": [
      "[0.    0.357]\n"
     ]
    },
    {
     "data": {
      "image/png": "[encoded data removed]",
      "text/plain": [
       "<Figure size 432x288 with 1 Axes>"
      ]
     },
     "metadata": {
      "needs_background": "light"
     },
     "output_type": "display_data"
    }
   ],
   "source": [
    "# Another way to access the seaslug file\n",
    "# Now we are accessing the only the float values\n",
    "\n",
    "import matplotlib.pyplot as plt\n",
    "import matplotlib.pylab as plb\n",
    "\n",
    "data_float = np.loadtxt(file, delimiter = '\\t', skiprows=1, dtype = float)\n",
    "\n",
    "print(data_float[9])\n",
    "\n",
    "plt.bar(data_float[:,0],data_float[:,1])\n",
    "plt.xlabel('Time(min)')       #setting xlable\n",
    "plt.ylabel('Percentage of Larvae')  #setting ylable\n",
    "plt.grid(True)             #visibility of Grid on chart/graph\n",
    "\n",
    "# plt.show()\n",
    "\n",
    "#saving our chart in our directory as png.\n",
    "\n",
    "fig = plt.savefig('foo.png', bbox_inches='tight')\n",
    "# plt.close(fig)\n",
    "\n",
    "# agr ham plt.show() use karain gy to image white ho jy ga nazar nahi ay ga.\n",
    "# ic liye jb ham apni HDD py save krna chah rhy hn to hamain plt.show() ki zarurat nahi\n",
    "# agr plt.close(fig) use karain gy to figure yahan show nahi hogi\n"
   ]
  },
  {
   "cell_type": "code",
   "execution_count": 203,
   "metadata": {},
   "outputs": [
    {
     "name": "stdout",
     "output_type": "stream",
     "text": [
      "[(1, 0, 3, b'male', 22., 1, 0, b'A/5 21171',  7.25  , b'', b'S')\n",
      " (2, 1, 1, b'female', 38., 1, 0, b'PC 17599', 71.2833, b'C85', b'C')\n",
      " (3, 1, 3, b'female', 26., 0, 0, b'STON/O2. 3101282',  7.925 , b'', b'S')]\n"
     ]
    }
   ],
   "source": [
    "#importing file through numpy with recfromcsv\n",
    "\n",
    "import numpy as np\n",
    "\n",
    "file = 'titanic.csv'\n",
    "\n",
    "data = np.recfromcsv(file)\n",
    "\n",
    "# print(data)\n",
    "\n",
    "print(data[0:3])\n"
   ]
  },
  {
   "cell_type": "code",
   "execution_count": 210,
   "metadata": {},
   "outputs": [
    {
     "name": "stdout",
     "output_type": "stream",
     "text": [
      "   PassengerId  Survived  Pclass     Sex   Age  SibSp  Parch  \\\n",
      "0            1         0       3    male  22.0      1      0   \n",
      "1            2         1       1  female  38.0      1      0   \n",
      "2            3         1       3  female  26.0      0      0   \n",
      "3            4         1       1  female  35.0      1      0   \n",
      "4            5         0       3    male  35.0      0      0   \n",
      "\n",
      "             Ticket     Fare Cabin Embarked  \n",
      "0         A/5 21171   7.2500   NaN        S  \n",
      "1          PC 17599  71.2833   C85        C  \n",
      "2  STON/O2. 3101282   7.9250   NaN        S  \n",
      "3            113803  53.1000  C123        S  \n",
      "4            373450   8.0500   NaN        S  \n",
      "28693.9493\n"
     ]
    }
   ],
   "source": [
    "# Importing titanic file with pandas\n",
    "\n",
    "import pandas as pd\n",
    "\n",
    "data = pd.read_csv('titanic.csv')\n",
    "print(data.head())\n",
    "\n",
    "print(data['Fare'].sum())"
   ]
  },
  {
   "cell_type": "code",
   "execution_count": 214,
   "metadata": {},
   "outputs": [
    {
     "name": "stdout",
     "output_type": "stream",
     "text": [
      "   0    1    2    3    4    5    6    7    8    9    ...  775  776  777  778  \\\n",
      "0  1.0  0.0  0.0  0.0  0.0  0.0  0.0  0.0  0.0  0.0  ...  0.0  0.0  0.0  0.0   \n",
      "1  0.0  0.0  0.0  0.0  0.0  0.0  0.0  0.0  0.0  0.0  ...  0.0  0.0  0.0  0.0   \n",
      "2  1.0  0.0  0.0  0.0  0.0  0.0  0.0  0.0  0.0  0.0  ...  0.0  0.0  0.0  0.0   \n",
      "3  4.0  0.0  0.0  0.0  0.0  0.0  0.0  0.0  0.0  0.0  ...  0.0  0.0  0.0  0.0   \n",
      "4  0.0  0.0  0.0  0.0  0.0  0.0  0.0  0.0  0.0  0.0  ...  0.0  0.0  0.0  0.0   \n",
      "\n",
      "   779  780  781  782  783  784  \n",
      "0  0.0  0.0  0.0  0.0  0.0  0.0  \n",
      "1  0.0  0.0  0.0  0.0  0.0  0.0  \n",
      "2  0.0  0.0  0.0  0.0  0.0  0.0  \n",
      "3  0.0  0.0  0.0  0.0  0.0  0.0  \n",
      "4  0.0  0.0  0.0  0.0  0.0  0.0  \n",
      "\n",
      "[5 rows x 785 columns]\n",
      "<class 'numpy.ndarray'>\n",
      "[[1. 0. 0. ... 0. 0. 0.]\n",
      " [0. 0. 0. ... 0. 0. 0.]\n",
      " [1. 0. 0. ... 0. 0. 0.]\n",
      " [4. 0. 0. ... 0. 0. 0.]\n",
      " [0. 0. 0. ... 0. 0. 0.]]\n"
     ]
    }
   ],
   "source": [
    "#dealing with digits.csv via pandas and converting it into NUMPY ARRAY\n",
    "\n",
    "import pandas as pd\n",
    "\n",
    "file='digits.csv'\n",
    "\n",
    "data = pd.read_csv(file, nrows=5, header=None)\n",
    "print(data)\n",
    "\n",
    "data_array = data.values\n",
    "\n",
    "print(type(data_array))\n",
    "print(data_array)"
   ]
  },
  {
   "cell_type": "code",
   "execution_count": 224,
   "metadata": {},
   "outputs": [
    {
     "name": "stdout",
     "output_type": "stream",
     "text": [
      "   PassengerId  Survived  Pclass     Sex   Age  SibSp  Parch  \\\n",
      "0            1         0       3    male  22.0      1      0   \n",
      "1            2         1       1  female  38.0      1      0   \n",
      "2            3         1       3  female  26.0      0      0   \n",
      "3            4         1       1  female  35.0      1      0   \n",
      "4            5         0       3    male  35.0      0      0   \n",
      "\n",
      "             Ticket     Fare Cabin    Embarked  \n",
      "0         A/5 21171   7.2500   NaN  S #dfafdad  \n",
      "1       PC 17599#to  71.2833   C85           C  \n",
      "2  STON/O2. 3101282   7.9250   NaN           S  \n",
      "3            113803  53.1000  C123           S  \n",
      "4            373450   8.0500   NaN           S  \n"
     ]
    },
    {
     "data": {
      "image/png": "[encoded data removed]",
      "text/plain": [
       "<Figure size 432x288 with 1 Axes>"
      ]
     },
     "metadata": {
      "needs_background": "light"
     },
     "output_type": "display_data"
    }
   ],
   "source": [
    "import pandas as pd\n",
    "import numpy as np\n",
    "import matplotlib.pyplot as plt\n",
    "\n",
    "file = 'titanic_corrupt.txt'\n",
    "#\"\\t\" is a tab, \"\\n\" is a newline, and \"\\r\" is a carriage return\n",
    "\n",
    "#Purpose of Comment and na_values ??????\n",
    "\n",
    "data = pd.read_csv(file, na_values='Nothing', comment='#', sep='\\t')\n",
    "\n",
    "print(data.head())\n",
    "\n",
    "\n",
    "data[['Age']].hist()\n",
    "plt.xlabel('Age')\n",
    "plt.ylabel('Count')\n",
    "plt.show()"
   ]
  },
  {
   "cell_type": "code",
   "execution_count": null,
   "metadata": {},
   "outputs": [],
   "source": [
    "# Python pickle module is used for serializing and de-serializing a Python object structure.\n",
    "# Any object in Python can be pickled so that it can be saved on disk. What pickle does is that it “serializes” the object\n",
    "# first before writing it to file. \n",
    "# Pickling is a way to convert a python object (list, dict, etc.)"
   ]
  },
  {
   "cell_type": "code",
   "execution_count": 229,
   "metadata": {},
   "outputs": [
    {
     "name": "stdout",
     "output_type": "stream",
     "text": [
      "{'June': '69.4', 'Aug': '85', 'Airline': '8', 'Mar': '84.4'}\n",
      "<class 'dict'>\n"
     ]
    }
   ],
   "source": [
    "import pickle\n",
    "\n",
    "with open('data.pkl', 'rb') as file:\n",
    "    d = pickle.load(file)\n",
    "\n",
    "print (d)\n",
    "print(type(d))"
   ]
  },
  {
   "cell_type": "code",
   "execution_count": 236,
   "metadata": {},
   "outputs": [
    {
     "name": "stdout",
     "output_type": "stream",
     "text": [
      "['2002', '2004', '2005']\n"
     ]
    }
   ],
   "source": [
    "#parsing through different google sheets.\n",
    "#getting sheetnames\n",
    "import pandas as pd\n",
    "file = pd.ExcelFile('battledeath.xlsx')\n",
    "\n",
    "sn = pd.ExcelFile(file)\n",
    "\n",
    "print(sn.sheet_names)"
   ]
  },
  {
   "cell_type": "code",
   "execution_count": 239,
   "metadata": {},
   "outputs": [
    {
     "name": "stdout",
     "output_type": "stream",
     "text": [
      "  War(country)    2005\n",
      "0  Afghanistan  200000\n",
      "1         Iraq   20000\n",
      "2        Syria  260000\n",
      "  War(country)      2004\n",
      "0  Afghanistan  9.451028\n",
      "1      Albania  0.130354\n",
      "2      Algeria  3.407277\n",
      "3      Andorra  0.000000\n",
      "4       Angola  2.597931\n"
     ]
    }
   ],
   "source": [
    "#accessing each sheet indvidualy\n",
    "\n",
    "df1 = sn.parse('2005')\n",
    "\n",
    "print(df1)\n",
    "\n",
    "# loading another sheet in other dataframe 2004: in df2\n",
    "\n",
    "df2= sn.parse(1)\n",
    "\n",
    "print(df2.head())"
   ]
  },
  {
   "cell_type": "code",
   "execution_count": 244,
   "metadata": {},
   "outputs": [
    {
     "name": "stdout",
     "output_type": "stream",
     "text": [
      "  Country Name  People Died\n",
      "0  Afghanistan       200000\n",
      "1         Iraq        20000\n",
      "2        Syria       260000\n",
      "          Country Name\n",
      "0              Albania\n",
      "1              Algeria\n",
      "2              Andorra\n",
      "3               Angola\n",
      "4  Antigua and Barbuda\n"
     ]
    }
   ],
   "source": [
    "#accessing sheets and changing their columns names\n",
    "\n",
    "df1= sn.parse('2005', names=['Country Name', 'People Died'])      #skiprows=None\n",
    "print(df1)\n",
    "\n",
    "\n",
    "df2= sn.parse(1, skiprows=[0], usecols=[0], names = ['Country Name'])\n",
    "print(df2.head())"
   ]
  },
  {
   "cell_type": "code",
   "execution_count": 257,
   "metadata": {},
   "outputs": [
    {
     "name": "stdout",
     "output_type": "stream",
     "text": [
      "                country  disa1  disa2  disa3\n",
      "0           Afghanistan   0.00   0.00   0.76\n",
      "1                Angola   0.32   0.02   0.56\n",
      "2               Albania   0.00   0.00   0.02\n",
      "3  United Arab Emirates   0.00   0.00   0.00\n",
      "4             Argentina   0.00   0.24   0.24\n"
     ]
    },
    {
     "data": {
      "image/png": "[encoded data removed]",
      "text/plain": [
       "<Figure size 432x288 with 1 Axes>"
      ]
     },
     "metadata": {
      "needs_background": "light"
     },
     "output_type": "display_data"
    }
   ],
   "source": [
    "# reading .dta files\n",
    "import pandas as pd\n",
    "import matplotlib.pyplot as plt\n",
    "\n",
    "data = pd.read_stata('disarea.dta')\n",
    "\n",
    "# print(data.head())\n",
    "\n",
    "print(data.iloc[0:5,1:5])\n",
    "\n",
    "\n",
    "# now ploting this data's one column in historgram\n",
    "\n",
    "data[['disa2']].hist()\n",
    "plt.xlabel('Extent of disease')\n",
    "plt.ylabel('Number of countries')\n",
    "# plt.show()\n",
    "\n",
    "fig = plt.savefig('dta file.jpg')\n",
    "# plt.close(fig)"
   ]
  },
  {
   "cell_type": "code",
   "execution_count": null,
   "metadata": {},
   "outputs": [],
   "source": [
    "# The h5py package is a Pythonic interface to the HDF5 binary data format.\n",
    "\n",
    "# It lets you store huge amounts of numerical data, and easily manipulate that data from NumPy.\n",
    "# For example, you can slice into multi-terabyte datasets stored on disk, as if they were real NumPy arrays.\n",
    "# Thousands of datasets can be stored in a single file, categorized and tagged however you want."
   ]
  },
  {
   "cell_type": "code",
   "execution_count": 260,
   "metadata": {},
   "outputs": [
    {
     "name": "stdout",
     "output_type": "stream",
     "text": [
      "<class 'h5py._hl.files.File'>\n",
      "meta\n",
      "quality\n",
      "strain\n"
     ]
    },
    {
     "name": "stderr",
     "output_type": "stream",
     "text": [
      "C:\\Users\\asif\\anaconda3\\lib\\site-packages\\ipykernel_launcher.py:6: H5pyDeprecationWarning: The default file mode will change to 'r' (read-only) in h5py 3.0. To suppress this warning, pass the mode you need to h5py.File(), or set the global default h5.get_config().default_file_mode, or set the environment variable H5PY_DEFAULT_READONLY=1. Available modes are: 'r', 'r+', 'w', 'w-'/'x', 'a'. See the docs for details.\n",
      "  \n"
     ]
    }
   ],
   "source": [
    "import numpy as np\n",
    "import h5py\n",
    "\n",
    "file = 'LIGO_data.hdf5'\n",
    "\n",
    "data = h5py.File(file)\n",
    "\n",
    "print(type(data))\n",
    "\n",
    "for key in data.keys():\n",
    "    print(key)"
   ]
  },
  {
   "cell_type": "code",
   "execution_count": 267,
   "metadata": {},
   "outputs": [
    {
     "name": "stdout",
     "output_type": "stream",
     "text": [
      "Strain\n"
     ]
    },
    {
     "name": "stderr",
     "output_type": "stream",
     "text": [
      "C:\\Users\\asif\\anaconda3\\lib\\site-packages\\ipykernel_launcher.py:8: H5pyDeprecationWarning: dataset.value has been deprecated. Use dataset[()] instead.\n",
      "  \n"
     ]
    },
    {
     "data": {
      "text/plain": [
       "<function matplotlib.pyplot.show(*args, **kw)>"
      ]
     },
     "execution_count": 267,
     "metadata": {},
     "output_type": "execute_result"
    },
    {
     "data": {
      "image/png": "[encoded data removed]",
      "text/plain": [
       "<Figure size 432x288 with 1 Axes>"
      ]
     },
     "metadata": {
      "needs_background": "light"
     },
     "output_type": "display_data"
    }
   ],
   "source": [
    "# accessing and plotting h5py file....\n",
    "group = data['strain']\n",
    "\n",
    "for key in group.keys():\n",
    "    print(key)\n",
    "\n",
    "# Set variable equal to time series data: strain\n",
    "strain = data['strain']['Strain'].value\n",
    "\n",
    "# print(strain)\n",
    "\n",
    "\n",
    "# Set number of time points to sample: num_samples\n",
    "num_samples = 10000\n",
    "\n",
    "# Set time vector\n",
    "time = np.arange(0, 1, 1/num_samples)\n",
    "\n",
    "plt.plot(time, strain[:num_samples])\n",
    "plt.xlabel('GPS Time (s)')\n",
    "plt.ylabel('strain')\n",
    "plt.show"
   ]
  },
  {
   "cell_type": "code",
   "execution_count": null,
   "metadata": {},
   "outputs": [],
   "source": [
    "# SciPy is a free and open-source Python library used for scientific computing and technical computing.\n",
    "# SciPy contains modules for optimization, linear algebra, integration, interpolation, special functions, FFT,\n",
    "# signal and image processing, ODE solvers and other tasks common in science and engineering."
   ]
  },
  {
   "cell_type": "code",
   "execution_count": 286,
   "metadata": {},
   "outputs": [
    {
     "name": "stdout",
     "output_type": "stream",
     "text": [
      "<class 'dict'>\n",
      "dict_keys(['__header__', '__version__', '__globals__', 'rfpCyt', 'rfpNuc', 'cfpNuc', 'cfpCyt', 'yfpNuc', 'yfpCyt', 'CYratioCyt'])\n",
      "<class 'numpy.ndarray'>\n",
      "(200, 137)\n",
      "[433.6462766  432.86753247 431.35324675 430.84536082 433.04987531\n",
      " 429.11970075 399.41176471 387.60714286 388.64380531 386.13490364\n",
      " 388.54279749 406.49425287 419.99521531 428.42364532 433.00243902\n",
      " 408.69064748 393.31205674 389.26066351 390.34851936 389.50228311\n",
      " 394.06775701 413.24038462 420.88366337 423.89448441 394.97722096\n",
      " 389.18678815 387.71945701 374.41239892 396.38551402 417.6509434\n",
      " 423.71566265 401.60952381 394.20374707 388.09808612 391.11835749\n",
      " 393.64215686 408.96332518 423.92947103 428.93842365 399.65763547\n",
      " 397.59057072 396.56359102 396.28148148 394.47794118 408.35872236\n",
      " 423.15803109 426.89974937 396.30317848 393.05825243 394.94647202\n",
      " 394.66751269 396.9525     408.8        419.96401028 402.16923077\n",
      " 395.18987342 394.13451777 396.28974359 380.48       389.13289037\n",
      " 396.08974359 382.47169811 377.53503185 378.64423077 378.4723127\n",
      " 384.40894569 386.38032787 379.14285714 396.12467532 380.97704918\n",
      " 378.24115756 381.57453416 378.40432099 390.75897436 377.27564103\n",
      " 378.12852665 375.925      376.86746988 376.61127596 372.83532934\n",
      " 374.55351682 372.30606061 375.08408408 372.12386707 372.85923754\n",
      " 366.81556196 366.51632047 366.63098592 365.16714697 366.55932203\n",
      " 363.86931818 363.77077364 363.13068182 363.05084746 359.08985507\n",
      " 363.08595989 361.40960452 362.08967391 381.37296037 361.83516484\n",
      " 384.65577342 359.99173554 359.96276596 359.96276596 381.94065934\n",
      " 361.44086022 361.66755319 361.08539945 361.18586387 361.03116883\n",
      " 359.62402089 359.4559194  359.18686869 359.26829268 358.32019704\n",
      " 356.78163772 355.07073171 355.20095694 356.14184397 356.91569087\n",
      " 355.73333333 353.57967667 355.24832215 353.37276786 355.22921348\n",
      " 351.45391705 354.59325843 352.64912281 352.93171806 352.38709677\n",
      " 353.4217119  350.2033195 ]\n"
     ]
    }
   ],
   "source": [
    "import scipy.io\n",
    "\n",
    "mat = scipy.io.loadmat('albeck_gene_expression.mat')\n",
    "\n",
    "print(type(mat))\n",
    "\n",
    "print(mat.keys())\n",
    "\n",
    "print(type(mat['cfpNuc']))\n",
    "\n",
    "print(np.shape(mat['cfpNuc']))\n",
    "\n",
    "data = mat['cfpNuc'][25,5:]\n",
    "\n",
    "print(data)"
   ]
  },
  {
   "cell_type": "code",
   "execution_count": 283,
   "metadata": {},
   "outputs": [
    {
     "data": {
      "image/png": "[encoded data removed]",
      "text/plain": [
       "<Figure size 432x288 with 1 Axes>"
      ]
     },
     "metadata": {
      "needs_background": "light"
     },
     "output_type": "display_data"
    }
   ],
   "source": [
    "plt.plot(data)\n",
    "plt.xlabel('time (min.)')\n",
    "plt.ylabel('normalized fluorescence (measure of expression)')\n",
    "plt.show()\n"
   ]
  },
  {
   "cell_type": "code",
   "execution_count": 285,
   "metadata": {},
   "outputs": [
    {
     "data": {
      "image/png": "[encoded data removed]",
      "text/plain": [
       "<Figure size 432x288 with 1 Axes>"
      ]
     },
     "metadata": {
      "needs_background": "light"
     },
     "output_type": "display_data"
    }
   ],
   "source": [
    "#plotting above data\n",
    "data = mat['CYratioCyt'][25,5:]\n",
    "\n",
    "# print(data)\n",
    "\n",
    "plt.plot(data)\n",
    "plt.xlabel('time (min.)')\n",
    "plt.ylabel('normalized fluorescence (measure of expression)')\n",
    "plt.show()\n"
   ]
  },
  {
   "cell_type": "markdown",
   "metadata": {},
   "source": [
    "### chapter-3\n",
    "#### Topic 3.3\n",
    "You will learn about relational models, how to create SQL queries, \n",
    "how to filter and order your SQL records, and how to perform advanced queries \n",
    "by joining database tables."
   ]
  },
  {
   "cell_type": "code",
   "execution_count": 292,
   "metadata": {},
   "outputs": [
    {
     "name": "stdout",
     "output_type": "stream",
     "text": [
      "['Album', 'Artist', 'Customer', 'Employee', 'Genre', 'Invoice', 'InvoiceLine', 'MediaType', 'Playlist', 'PlaylistTrack', 'Track']\n"
     ]
    }
   ],
   "source": [
    "# making connection with database and fetching tablenames in database.\n",
    "from sqlalchemy import create_engine\n",
    "\n",
    "sqlengine = create_engine('sqlite:///Chinook.sqlite')\n",
    "\n",
    "table_names = sqlengine.table_names()\n",
    "\n",
    "print(table_names)"
   ]
  },
  {
   "cell_type": "code",
   "execution_count": 304,
   "metadata": {},
   "outputs": [
    {
     "name": "stdout",
     "output_type": "stream",
     "text": [
      "   0                                      1  2\n",
      "0  1  For Those About To Rock We Salute You  1\n",
      "1  2                      Balls to the Wall  2\n",
      "2  3                      Restless and Wild  2\n",
      "3  4                      Let There Be Rock  1\n",
      "4  5                               Big Ones  3\n",
      "['AlbumId', 'Title', 'ArtistId']\n"
     ]
    }
   ],
   "source": [
    "from sqlalchemy import create_engine\n",
    "import pandas as pd\n",
    "\n",
    "sqlengine = create_engine('sqlite:///Chinook.sqlite')\n",
    "con = sqlengine.connect()\n",
    "query = con.execute('SELECT * FROM Album')\n",
    "album_df = pd.DataFrame(query.fetchall())\n",
    "con.close()\n",
    "\n",
    "print(album_df.head())\n",
    "# print(query.keys())   #to fetch the columns names from the Album table"
   ]
  },
  {
   "cell_type": "code",
   "execution_count": 311,
   "metadata": {},
   "outputs": [
    {
     "name": "stdout",
     "output_type": "stream",
     "text": [
      "   EmployeeId FirstName                Title      City\n",
      "0           1    Andrew      General Manager  Edmonton\n",
      "1           2     Nancy        Sales Manager   Calgary\n",
      "2           3      Jane  Sales Support Agent   Calgary\n",
      "3           4  Margaret  Sales Support Agent   Calgary\n",
      "4           5     Steve  Sales Support Agent   Calgary\n"
     ]
    }
   ],
   "source": [
    "# Open engine in context manager\n",
    "# Perform query and save results to DataFrame\n",
    "sqlengine = create_engine('sqlite:///Chinook.sqlite')\n",
    "with sqlengine.connect() as con:\n",
    "    query = con.execute('SELECT EmployeeId,FirstName, Title,City FROM Employee')\n",
    "    emp_df = pd.DataFrame(query.fetchmany(size = 5))\n",
    "    emp_df.columns = query.keys()      #it will assign the table column names to our dataframe columns\n",
    "    \n",
    "print(emp_df)"
   ]
  },
  {
   "cell_type": "code",
   "execution_count": 322,
   "metadata": {},
   "outputs": [
    {
     "name": "stdout",
     "output_type": "stream",
     "text": [
      "   EmployeeId FirstName                Title  ReportsTo\n",
      "0           5     Steve  Sales Support Agent        2.0\n",
      "1           4  Margaret  Sales Support Agent        2.0\n",
      "2           3      Jane  Sales Support Agent        2.0\n",
      "3           2     Nancy        Sales Manager        1.0\n",
      "4           1    Andrew      General Manager        NaN\n"
     ]
    }
   ],
   "source": [
    "#Creating engine, fetching some more data from database file with some conditions on Query\n",
    "\n",
    "sqlengine = create_engine('sqlite:///Chinook.sqlite')\n",
    "with sqlengine.connect() as con:\n",
    "    query = con.execute('SELECT EmployeeId, FirstName, Title, ReportsTo FROM Employee where EmployeeId < 6 order by EmployeeId desc')\n",
    "    emp_df = pd.DataFrame(query.fetchmany(size = 5))\n",
    "    emp_df.columns = query.keys()      #it will assign the table column names to our dataframe columns\n",
    "    \n",
    "print(emp_df.head())\n",
    "# print(query.keys())"
   ]
  },
  {
   "cell_type": "code",
   "execution_count": 326,
   "metadata": {},
   "outputs": [
    {
     "name": "stdout",
     "output_type": "stream",
     "text": [
      "   EmployeeId LastName            BirthDate\n",
      "0           4     Park  1947-09-19 00:00:00\n",
      "1           2  Edwards  1958-12-08 00:00:00\n",
      "2           1    Adams  1962-02-18 00:00:00\n",
      "3           5  Johnson  1965-03-03 00:00:00\n",
      "4           3  Peacock  1973-08-29 00:00:00\n"
     ]
    }
   ],
   "source": [
    "sqlengine = create_engine('sqlite:///Chinook.sqlite')\n",
    "with sqlengine.connect() as con:\n",
    "    query = con.execute('SELECT EmployeeId, LastName, BirthDate FROM Employee where EmployeeId < 6 order by BirthDate')\n",
    "    emp_df = pd.DataFrame(query.fetchmany(size = 5))\n",
    "    emp_df.columns = query.keys()      #it will assign the table column names to our dataframe columns\n",
    "    \n",
    "print(emp_df.head())\n",
    "# print(query.keys())"
   ]
  },
  {
   "cell_type": "code",
   "execution_count": 345,
   "metadata": {},
   "outputs": [
    {
     "name": "stdout",
     "output_type": "stream",
     "text": [
      "True\n"
     ]
    }
   ],
   "source": [
    "# Confirm that both of above methods yield the same result\n",
    "\n",
    "from sqlalchemy import create_engine\n",
    "import pandas as pd\n",
    "\n",
    "### Method 1\n",
    "sqlengine = create_engine('sqlite:///Chinook.sqlite')\n",
    "con = sqlengine.connect()\n",
    "query = con.execute('SELECT * FROM Album')\n",
    "df1 = pd.DataFrame(query.fetchall())\n",
    "df1.columns = query.keys()\n",
    "\n",
    "# print(df1.head())\n",
    "\n",
    "### Method 2\n",
    "with sqlengine.connect() as con:\n",
    "    query = con.execute('SELECT * FROM Album')\n",
    "    df2 = pd.DataFrame(query.fetchall())\n",
    "    df2.columns = query.keys()\n",
    "\n",
    "# print(df2.head())\n",
    "\n",
    "print(df1.equals(df2))"
   ]
  },
  {
   "cell_type": "code",
   "execution_count": 348,
   "metadata": {},
   "outputs": [
    {
     "name": "stdout",
     "output_type": "stream",
     "text": [
      "   ArtistId               Name\n",
      "0         1              AC/DC\n",
      "1         2             Accept\n",
      "2         3          Aerosmith\n",
      "3         4  Alanis Morissette\n",
      "4         5    Alice In Chains\n"
     ]
    }
   ],
   "source": [
    "#Another way to fetch data from database file, read_sql_query\n",
    "\n",
    "\n",
    "from sqlalchemy import create_engine\n",
    "import pandas as pd\n",
    "\n",
    "sqlengine = create_engine('sqlite:///Chinook.sqlite')\n",
    "\n",
    "df3 = pd.read_sql_query('SELECT * FROM Artist', sqlengine)\n",
    "\n",
    "print(df3.head())"
   ]
  },
  {
   "cell_type": "code",
   "execution_count": 351,
   "metadata": {},
   "outputs": [
    {
     "name": "stdout",
     "output_type": "stream",
     "text": [
      "                                   Title       Name\n",
      "0  For Those About To Rock We Salute You      AC/DC\n",
      "1                      Balls to the Wall     Accept\n",
      "2                      Restless and Wild     Accept\n",
      "3                      Let There Be Rock      AC/DC\n",
      "4                               Big Ones  Aerosmith\n"
     ]
    }
   ],
   "source": [
    "#Some more conditions on query.\n",
    "#More Detailed query\n",
    "from sqlalchemy import create_engine\n",
    "import pandas as pd\n",
    "\n",
    "sqlengine = create_engine('sqlite:///Chinook.sqlite')\n",
    "df4 = pd.read_sql_query('Select Title, Name FROM Album INNER JOIN Artist on Album.ArtistID = Artist.ArtistID', sqlengine)\n",
    "\n",
    "print(df4.head())"
   ]
  },
  {
   "cell_type": "code",
   "execution_count": 366,
   "metadata": {},
   "outputs": [
    {
     "name": "stdout",
     "output_type": "stream",
     "text": [
      "   AlbumId                                  Title  ArtistId  ArtistId  \\\n",
      "0        1  For Those About To Rock We Salute You         1         1   \n",
      "1        4                      Let There Be Rock         1         1   \n",
      "2        2                      Balls to the Wall         2         2   \n",
      "3        3                      Restless and Wild         2         2   \n",
      "4        5                               Big Ones         3         3   \n",
      "\n",
      "        Name  \n",
      "0      AC/DC  \n",
      "1      AC/DC  \n",
      "2     Accept  \n",
      "3     Accept  \n",
      "4  Aerosmith  \n"
     ]
    }
   ],
   "source": [
    "from sqlalchemy import create_engine\n",
    "import pandas as pd\n",
    "\n",
    "df = pd.read_sql_query('Select * FROM Album INNER JOIN Artist on Album.ArtistID = Artist.ArtistID Where Artist.ArtistID < 4', sqlengine)\n",
    "                       \n",
    "print(df)            \n",
    "                       \n",
    "                       "
   ]
  }
 ],
 "metadata": {
  "kernelspec": {
   "display_name": "Python 3",
   "language": "python",
   "name": "python3"
  },
  "language_info": {
   "codemirror_mode": {
    "name": "ipython",
    "version": 3
   },
   "file_extension": ".py",
   "mimetype": "text/x-python",
   "name": "python",
   "nbconvert_exporter": "python",
   "pygments_lexer": "ipython3",
   "version": "3.7.6"
  }
 },
 "nbformat": 4,
 "nbformat_minor": 4
}
