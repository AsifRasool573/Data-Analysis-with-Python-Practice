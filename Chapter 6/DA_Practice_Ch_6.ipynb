{
 "cells": [
  {
   "cell_type": "markdown",
   "metadata": {},
   "source": [
    "## Chapter 6\n",
    "\n",
    "#### ## Topic 6.1\n",
    "The first step of almost any data project is to read the data, check for errors and special cases, and prepare data for analysis.\n",
    "\n",
    "The fundamental goal of data science is to use data to answer questions and guide decision making.\n",
    "\n",
    "As an example, we'll start with a simple question: what is the average birth weight of babies in the United States?\n",
    "\n",
    "To answer a question like this, we have to find an appropriate dataset or run an experiment to collect it. Then we have to get the data into our development environment and prepare it for analysis, which involves cleaning and validation.\n",
    "\n",
    "For this question we'll use data from the National Survey of Family Growth, which is available from the National Center for Health Statistics.\n",
    "\n",
    "Their 2013-2015 dataset includes information about a sample of women in the U.S. and their children.\n",
    "\n",
    "The Python library we'll use to read and analyze data is Pandas, which we'll import as pd."
   ]
  },
  {
   "cell_type": "code",
   "execution_count": null,
   "metadata": {},
   "outputs": [],
   "source": []
  },
  {
   "cell_type": "code",
   "execution_count": null,
   "metadata": {},
   "outputs": [],
   "source": []
  },
  {
   "cell_type": "code",
   "execution_count": 1,
   "metadata": {},
   "outputs": [
    {
     "data": {
      "text/html": [
       "<div>\n",
       "<style scoped>\n",
       "    .dataframe tbody tr th:only-of-type {\n",
       "        vertical-align: middle;\n",
       "    }\n",
       "\n",
       "    .dataframe tbody tr th {\n",
       "        vertical-align: top;\n",
       "    }\n",
       "\n",
       "    .dataframe thead th {\n",
       "        text-align: right;\n",
       "    }\n",
       "</style>\n",
       "<table border=\"1\" class=\"dataframe\">\n",
       "  <thead>\n",
       "    <tr style=\"text-align: right;\">\n",
       "      <th></th>\n",
       "      <th>caseid</th>\n",
       "      <th>outcome</th>\n",
       "      <th>birthwgt_lb1</th>\n",
       "      <th>birthwgt_oz1</th>\n",
       "      <th>prglngth</th>\n",
       "      <th>nbrnaliv</th>\n",
       "      <th>agecon</th>\n",
       "      <th>agepreg</th>\n",
       "      <th>hpagelb</th>\n",
       "      <th>wgt2013_2015</th>\n",
       "    </tr>\n",
       "  </thead>\n",
       "  <tbody>\n",
       "    <tr>\n",
       "      <th>0</th>\n",
       "      <td>60418</td>\n",
       "      <td>1</td>\n",
       "      <td>5.0</td>\n",
       "      <td>4.0</td>\n",
       "      <td>40</td>\n",
       "      <td>1.0</td>\n",
       "      <td>2000</td>\n",
       "      <td>2075.0</td>\n",
       "      <td>22.0</td>\n",
       "      <td>3554.964843</td>\n",
       "    </tr>\n",
       "    <tr>\n",
       "      <th>1</th>\n",
       "      <td>60418</td>\n",
       "      <td>1</td>\n",
       "      <td>4.0</td>\n",
       "      <td>12.0</td>\n",
       "      <td>36</td>\n",
       "      <td>1.0</td>\n",
       "      <td>2291</td>\n",
       "      <td>2358.0</td>\n",
       "      <td>25.0</td>\n",
       "      <td>3554.964843</td>\n",
       "    </tr>\n",
       "    <tr>\n",
       "      <th>2</th>\n",
       "      <td>60418</td>\n",
       "      <td>1</td>\n",
       "      <td>5.0</td>\n",
       "      <td>4.0</td>\n",
       "      <td>36</td>\n",
       "      <td>1.0</td>\n",
       "      <td>3241</td>\n",
       "      <td>3308.0</td>\n",
       "      <td>52.0</td>\n",
       "      <td>3554.964843</td>\n",
       "    </tr>\n",
       "    <tr>\n",
       "      <th>3</th>\n",
       "      <td>60419</td>\n",
       "      <td>6</td>\n",
       "      <td>NaN</td>\n",
       "      <td>NaN</td>\n",
       "      <td>33</td>\n",
       "      <td>NaN</td>\n",
       "      <td>3650</td>\n",
       "      <td>NaN</td>\n",
       "      <td>NaN</td>\n",
       "      <td>2484.535358</td>\n",
       "    </tr>\n",
       "    <tr>\n",
       "      <th>4</th>\n",
       "      <td>60420</td>\n",
       "      <td>1</td>\n",
       "      <td>8.0</td>\n",
       "      <td>13.0</td>\n",
       "      <td>41</td>\n",
       "      <td>1.0</td>\n",
       "      <td>2191</td>\n",
       "      <td>2266.0</td>\n",
       "      <td>24.0</td>\n",
       "      <td>2903.782914</td>\n",
       "    </tr>\n",
       "  </tbody>\n",
       "</table>\n",
       "</div>"
      ],
      "text/plain": [
       "   caseid  outcome  birthwgt_lb1  birthwgt_oz1  prglngth  nbrnaliv  agecon  \\\n",
       "0   60418        1           5.0           4.0        40       1.0    2000   \n",
       "1   60418        1           4.0          12.0        36       1.0    2291   \n",
       "2   60418        1           5.0           4.0        36       1.0    3241   \n",
       "3   60419        6           NaN           NaN        33       NaN    3650   \n",
       "4   60420        1           8.0          13.0        41       1.0    2191   \n",
       "\n",
       "   agepreg  hpagelb  wgt2013_2015  \n",
       "0   2075.0     22.0   3554.964843  \n",
       "1   2358.0     25.0   3554.964843  \n",
       "2   3308.0     52.0   3554.964843  \n",
       "3      NaN      NaN   2484.535358  \n",
       "4   2266.0     24.0   2903.782914  "
      ]
     },
     "execution_count": 1,
     "metadata": {},
     "output_type": "execute_result"
    }
   ],
   "source": [
    "# Import packages\n",
    "import matplotlib.pyplot as plt\n",
    "import numpy as np\n",
    "import pandas as pd\n",
    "\n",
    "#reading file \n",
    "\n",
    "nsfg = pd.read_hdf('nsfg.hdf5')\n",
    "\n",
    "nsfg.head()"
   ]
  },
  {
   "cell_type": "code",
   "execution_count": 2,
   "metadata": {},
   "outputs": [
    {
     "name": "stdout",
     "output_type": "stream",
     "text": [
      "(9358, 10)\n"
     ]
    },
    {
     "data": {
      "text/plain": [
       "Index(['caseid', 'outcome', 'birthwgt_lb1', 'birthwgt_oz1', 'prglngth',\n",
       "       'nbrnaliv', 'agecon', 'agepreg', 'hpagelb', 'wgt2013_2015'],\n",
       "      dtype='object')"
      ]
     },
     "execution_count": 2,
     "metadata": {},
     "output_type": "execute_result"
    }
   ],
   "source": [
    "print(nsfg.shape)\n",
    "\n",
    "nsfg.columns"
   ]
  },
  {
   "cell_type": "code",
   "execution_count": 3,
   "metadata": {},
   "outputs": [
    {
     "name": "stdout",
     "output_type": "stream",
     "text": [
      "caseid\n",
      "outcome\n",
      "birthwgt_lb1\n",
      "birthwgt_oz1\n",
      "prglngth\n",
      "nbrnaliv\n",
      "agecon\n",
      "agepreg\n",
      "hpagelb\n",
      "wgt2013_2015\n"
     ]
    }
   ],
   "source": [
    "for key in nsfg.keys():\n",
    "    print (key)"
   ]
  },
  {
   "cell_type": "code",
   "execution_count": 4,
   "metadata": {},
   "outputs": [
    {
     "data": {
      "text/plain": [
       "0        4.0\n",
       "1       12.0\n",
       "2        4.0\n",
       "3        NaN\n",
       "4       13.0\n",
       "        ... \n",
       "9353    11.0\n",
       "9354     7.0\n",
       "9355     6.0\n",
       "9356     3.0\n",
       "9357     5.0\n",
       "Name: birthwgt_oz1, Length: 9358, dtype: float64"
      ]
     },
     "execution_count": 4,
     "metadata": {},
     "output_type": "execute_result"
    }
   ],
   "source": [
    "ounces = nsfg['birthwgt_oz1']\n",
    "ounces"
   ]
  },
  {
   "cell_type": "code",
   "execution_count": 5,
   "metadata": {},
   "outputs": [
    {
     "name": "stdout",
     "output_type": "stream",
     "text": [
      "<class 'pandas.core.frame.DataFrame'>\n",
      "Int64Index: 9358 entries, 0 to 9357\n",
      "Data columns (total 10 columns):\n",
      " #   Column        Non-Null Count  Dtype  \n",
      "---  ------        --------------  -----  \n",
      " 0   caseid        9358 non-null   int64  \n",
      " 1   outcome       9358 non-null   int64  \n",
      " 2   birthwgt_lb1  6485 non-null   float64\n",
      " 3   birthwgt_oz1  6391 non-null   float64\n",
      " 4   prglngth      9358 non-null   int64  \n",
      " 5   nbrnaliv      6485 non-null   float64\n",
      " 6   agecon        9358 non-null   int64  \n",
      " 7   agepreg       9109 non-null   float64\n",
      " 8   hpagelb       6485 non-null   float64\n",
      " 9   wgt2013_2015  9358 non-null   float64\n",
      "dtypes: float64(6), int64(4)\n",
      "memory usage: 804.2 KB\n"
     ]
    }
   ],
   "source": [
    "nsfg.info()"
   ]
  },
  {
   "cell_type": "code",
   "execution_count": 6,
   "metadata": {},
   "outputs": [
    {
     "data": {
      "text/plain": [
       "caseid             0\n",
       "outcome            0\n",
       "birthwgt_lb1    2873\n",
       "birthwgt_oz1    2967\n",
       "prglngth           0\n",
       "nbrnaliv        2873\n",
       "agecon             0\n",
       "agepreg          249\n",
       "hpagelb         2873\n",
       "wgt2013_2015       0\n",
       "dtype: int64"
      ]
     },
     "execution_count": 6,
     "metadata": {},
     "output_type": "execute_result"
    }
   ],
   "source": [
    "#total Number of null in each column\n",
    "nsfg.isna().sum()"
   ]
  },
  {
   "cell_type": "code",
   "execution_count": 7,
   "metadata": {},
   "outputs": [
    {
     "data": {
      "text/plain": [
       "1.0    6379\n",
       "2.0     100\n",
       "3.0       5\n",
       "8.0       1\n",
       "Name: nbrnaliv, dtype: int64"
      ]
     },
     "execution_count": 7,
     "metadata": {},
     "output_type": "execute_result"
    }
   ],
   "source": [
    "#Targetting nbrnaliv column\n",
    "\n",
    "nsfg['nbrnaliv'].value_counts()"
   ]
  },
  {
   "cell_type": "code",
   "execution_count": 8,
   "metadata": {},
   "outputs": [
    {
     "data": {
      "text/plain": [
       "1.0    6379\n",
       "2.0     100\n",
       "3.0       5\n",
       "Name: nbrnaliv, dtype: int64"
      ]
     },
     "execution_count": 8,
     "metadata": {},
     "output_type": "execute_result"
    }
   ],
   "source": [
    "# We found that 8.0 is only once there, it can make difference when we have to deal with standard daviation\n",
    "# So we'll replace it with NaN\n",
    "\n",
    "nsfg['nbrnaliv'].replace(8, np.nan, inplace =True)\n",
    "nsfg['nbrnaliv'].value_counts()"
   ]
  },
  {
   "cell_type": "code",
   "execution_count": 9,
   "metadata": {},
   "outputs": [
    {
     "data": {
      "text/html": [
       "<div>\n",
       "<style scoped>\n",
       "    .dataframe tbody tr th:only-of-type {\n",
       "        vertical-align: middle;\n",
       "    }\n",
       "\n",
       "    .dataframe tbody tr th {\n",
       "        vertical-align: top;\n",
       "    }\n",
       "\n",
       "    .dataframe thead th {\n",
       "        text-align: right;\n",
       "    }\n",
       "</style>\n",
       "<table border=\"1\" class=\"dataframe\">\n",
       "  <thead>\n",
       "    <tr style=\"text-align: right;\">\n",
       "      <th></th>\n",
       "      <th>caseid</th>\n",
       "      <th>outcome</th>\n",
       "      <th>birthwgt_lb1</th>\n",
       "      <th>birthwgt_oz1</th>\n",
       "      <th>prglngth</th>\n",
       "      <th>nbrnaliv</th>\n",
       "      <th>agecon</th>\n",
       "      <th>agepreg</th>\n",
       "      <th>hpagelb</th>\n",
       "      <th>wgt2013_2015</th>\n",
       "    </tr>\n",
       "  </thead>\n",
       "  <tbody>\n",
       "    <tr>\n",
       "      <th>0</th>\n",
       "      <td>60418</td>\n",
       "      <td>1</td>\n",
       "      <td>5.0</td>\n",
       "      <td>4.0</td>\n",
       "      <td>40</td>\n",
       "      <td>1.0</td>\n",
       "      <td>2000</td>\n",
       "      <td>2075.0</td>\n",
       "      <td>22.0</td>\n",
       "      <td>3554.964843</td>\n",
       "    </tr>\n",
       "    <tr>\n",
       "      <th>1</th>\n",
       "      <td>60418</td>\n",
       "      <td>1</td>\n",
       "      <td>4.0</td>\n",
       "      <td>12.0</td>\n",
       "      <td>36</td>\n",
       "      <td>1.0</td>\n",
       "      <td>2291</td>\n",
       "      <td>2358.0</td>\n",
       "      <td>25.0</td>\n",
       "      <td>3554.964843</td>\n",
       "    </tr>\n",
       "    <tr>\n",
       "      <th>2</th>\n",
       "      <td>60418</td>\n",
       "      <td>1</td>\n",
       "      <td>5.0</td>\n",
       "      <td>4.0</td>\n",
       "      <td>36</td>\n",
       "      <td>1.0</td>\n",
       "      <td>3241</td>\n",
       "      <td>3308.0</td>\n",
       "      <td>52.0</td>\n",
       "      <td>3554.964843</td>\n",
       "    </tr>\n",
       "    <tr>\n",
       "      <th>3</th>\n",
       "      <td>60419</td>\n",
       "      <td>6</td>\n",
       "      <td>NaN</td>\n",
       "      <td>NaN</td>\n",
       "      <td>33</td>\n",
       "      <td>NaN</td>\n",
       "      <td>3650</td>\n",
       "      <td>NaN</td>\n",
       "      <td>NaN</td>\n",
       "      <td>2484.535358</td>\n",
       "    </tr>\n",
       "    <tr>\n",
       "      <th>4</th>\n",
       "      <td>60420</td>\n",
       "      <td>1</td>\n",
       "      <td>8.0</td>\n",
       "      <td>13.0</td>\n",
       "      <td>41</td>\n",
       "      <td>1.0</td>\n",
       "      <td>2191</td>\n",
       "      <td>2266.0</td>\n",
       "      <td>24.0</td>\n",
       "      <td>2903.782914</td>\n",
       "    </tr>\n",
       "  </tbody>\n",
       "</table>\n",
       "</div>"
      ],
      "text/plain": [
       "   caseid  outcome  birthwgt_lb1  birthwgt_oz1  prglngth  nbrnaliv  agecon  \\\n",
       "0   60418        1           5.0           4.0        40       1.0    2000   \n",
       "1   60418        1           4.0          12.0        36       1.0    2291   \n",
       "2   60418        1           5.0           4.0        36       1.0    3241   \n",
       "3   60419        6           NaN           NaN        33       NaN    3650   \n",
       "4   60420        1           8.0          13.0        41       1.0    2191   \n",
       "\n",
       "   agepreg  hpagelb  wgt2013_2015  \n",
       "0   2075.0     22.0   3554.964843  \n",
       "1   2358.0     25.0   3554.964843  \n",
       "2   3308.0     52.0   3554.964843  \n",
       "3      NaN      NaN   2484.535358  \n",
       "4   2266.0     24.0   2903.782914  "
      ]
     },
     "execution_count": 9,
     "metadata": {},
     "output_type": "execute_result"
    }
   ],
   "source": [
    "nsfg.head()"
   ]
  },
  {
   "cell_type": "code",
   "execution_count": 10,
   "metadata": {},
   "outputs": [
    {
     "name": "stdout",
     "output_type": "stream",
     "text": [
      "Statistical Summery: \n",
      " count    9109.000000\n",
      "mean        0.552069\n",
      "std         0.271479\n",
      "min         0.000000\n",
      "25%         0.250000\n",
      "50%         0.670000\n",
      "75%         0.750000\n",
      "max         0.920000\n",
      "dtype: float64\n"
     ]
    }
   ],
   "source": [
    "#Now we have to deal with the agecon agepreg columns,\n",
    "#Suppose,here the months and days are combined and we have to separate them. divide them by 100\n",
    "agecon = nsfg['agecon']/100\n",
    "agepreg = nsfg['agepreg']/100\n",
    "\n",
    "\n",
    "# Compute the difference of agecon from agepreg  \n",
    "preg_len = agepreg - agecon\n",
    "\n",
    "\n",
    "# Statistical summery\n",
    "print('Statistical Summery: \\n', preg_len.describe())\n",
    "\n"
   ]
  },
  {
   "cell_type": "code",
   "execution_count": 11,
   "metadata": {},
   "outputs": [
    {
     "data": {
      "image/png": "[encoded data removed]",
      "text/plain": [
       "<Figure size 432x288 with 1 Axes>"
      ]
     },
     "metadata": {
      "needs_background": "light"
     },
     "output_type": "display_data"
    }
   ],
   "source": [
    "# What is Histogram?\n",
    "# https://matplotlib.org/stable/api/_as_gen/matplotlib.pyplot.hist.html\n",
    "\n",
    "plt.hist(agecon, bins=20, edgecolor='black')\n",
    "plt.xlabel('Age at Conception')\n",
    "plt.ylabel('Number of Pregnancies')\n",
    "plt.show()"
   ]
  },
  {
   "cell_type": "code",
   "execution_count": 12,
   "metadata": {},
   "outputs": [
    {
     "data": {
      "image/png": "[encoded data removed]",
      "text/plain": [
       "<Figure size 432x288 with 1 Axes>"
      ]
     },
     "metadata": {
      "needs_background": "light"
     },
     "output_type": "display_data"
    }
   ],
   "source": [
    "# By default bins are 10\n",
    "\n",
    "mylist = [10,11,15,16,20,22,25,30,40,41,42,20,23,29,50]\n",
    "plt.hist(mylist, edgecolor='black')\n",
    "plt.show()"
   ]
  },
  {
   "cell_type": "code",
   "execution_count": 13,
   "metadata": {},
   "outputs": [
    {
     "data": {
      "image/png": "[encoded data removed]",
      "text/plain": [
       "<Figure size 432x288 with 1 Axes>"
      ]
     },
     "metadata": {
      "needs_background": "light"
     },
     "output_type": "display_data"
    }
   ],
   "source": [
    "plt.hist (agecon, bins=20, histtype = 'step')\n",
    "plt.xlabel('Age at Conception')\n",
    "plt.ylabel('Number of Pregnancies')\n",
    "plt.show()"
   ]
  },
  {
   "cell_type": "code",
   "execution_count": 14,
   "metadata": {},
   "outputs": [
    {
     "data": {
      "text/plain": [
       "0       False\n",
       "1        True\n",
       "2        True\n",
       "3        True\n",
       "4       False\n",
       "        ...  \n",
       "9353     True\n",
       "9354    False\n",
       "9355     True\n",
       "9356    False\n",
       "9357    False\n",
       "Name: prglngth, Length: 9358, dtype: bool"
      ]
     },
     "execution_count": 14,
     "metadata": {},
     "output_type": "execute_result"
    }
   ],
   "source": [
    "# Create a Boolean Series for full-term babies\n",
    "pre_term = nsfg['prglngth'] < 37\n",
    "pre_term"
   ]
  },
  {
   "cell_type": "code",
   "execution_count": 15,
   "metadata": {},
   "outputs": [
    {
     "data": {
      "text/plain": [
       "0.39987176747168196"
      ]
     },
     "execution_count": 15,
     "metadata": {},
     "output_type": "execute_result"
    }
   ],
   "source": [
    "pre_term.mean()"
   ]
  },
  {
   "cell_type": "code",
   "execution_count": 16,
   "metadata": {},
   "outputs": [
    {
     "data": {
      "text/plain": [
       "0.6934173968796752"
      ]
     },
     "execution_count": 16,
     "metadata": {},
     "output_type": "execute_result"
    }
   ],
   "source": [
    "live = nsfg['outcome'] == 1\n",
    "live.mean()\n",
    "\n",
    "# nsfg['outcome'].value_counts().sort_index()"
   ]
  },
  {
   "cell_type": "code",
   "execution_count": 17,
   "metadata": {},
   "outputs": [
    {
     "data": {
      "text/plain": [
       "0.09724300064116265"
      ]
     },
     "execution_count": 17,
     "metadata": {},
     "output_type": "execute_result"
    }
   ],
   "source": [
    "live_pre_term = live & pre_term\n",
    "live_pre_term.mean()"
   ]
  },
  {
   "cell_type": "code",
   "execution_count": 18,
   "metadata": {},
   "outputs": [
    {
     "name": "stdout",
     "output_type": "stream",
     "text": [
      "0.6816627484505237\n"
     ]
    },
    {
     "data": {
      "text/plain": [
       "0     True\n",
       "1     True\n",
       "2     True\n",
       "3    False\n",
       "4     True\n",
       "Name: nbrnaliv, dtype: bool"
      ]
     },
     "execution_count": 18,
     "metadata": {},
     "output_type": "execute_result"
    }
   ],
   "source": [
    "single = nsfg['nbrnaliv'] == 1\n",
    "print(single.mean())\n",
    "single.head()"
   ]
  },
  {
   "cell_type": "code",
   "execution_count": 19,
   "metadata": {},
   "outputs": [
    {
     "data": {
      "text/plain": [
       "0.5961743962385125"
      ]
     },
     "execution_count": 19,
     "metadata": {},
     "output_type": "execute_result"
    }
   ],
   "source": [
    "fullterm = (nsfg['prglngth'] >= 37)\n",
    "live_fullterm = (live & fullterm)\n",
    "live_fullterm.mean()"
   ]
  },
  {
   "cell_type": "markdown",
   "metadata": {},
   "source": [
    "## Average birth weight"
   ]
  },
  {
   "cell_type": "code",
   "execution_count": 20,
   "metadata": {},
   "outputs": [
    {
     "data": {
      "text/plain": [
       "0.0        6\n",
       "1.0       34\n",
       "2.0       47\n",
       "3.0       67\n",
       "4.0      196\n",
       "5.0      586\n",
       "6.0     1666\n",
       "7.0     2146\n",
       "8.0     1168\n",
       "9.0      363\n",
       "10.0      82\n",
       "11.0      17\n",
       "12.0       7\n",
       "13.0       2\n",
       "14.0       2\n",
       "17.0       1\n",
       "98.0       1\n",
       "99.0      94\n",
       "Name: birthwgt_lb1, dtype: int64"
      ]
     },
     "execution_count": 20,
     "metadata": {},
     "output_type": "execute_result"
    }
   ],
   "source": [
    "ounces = nsfg['birthwgt_oz1']\n",
    "pounds = nsfg['birthwgt_lb1']\n",
    "\n",
    "pounds.value_counts().sort_index()"
   ]
  },
  {
   "cell_type": "code",
   "execution_count": 21,
   "metadata": {},
   "outputs": [
    {
     "data": {
      "text/plain": [
       "0.0     757\n",
       "1.0     297\n",
       "2.0     429\n",
       "3.0     393\n",
       "4.0     386\n",
       "5.0     407\n",
       "6.0     543\n",
       "7.0     346\n",
       "8.0     518\n",
       "9.0     377\n",
       "10.0    295\n",
       "11.0    418\n",
       "12.0    388\n",
       "13.0    275\n",
       "14.0    258\n",
       "15.0    268\n",
       "98.0      1\n",
       "99.0     35\n",
       "Name: birthwgt_oz1, dtype: int64"
      ]
     },
     "execution_count": 21,
     "metadata": {},
     "output_type": "execute_result"
    }
   ],
   "source": [
    "ounces.value_counts().sort_index()"
   ]
  },
  {
   "cell_type": "code",
   "execution_count": 22,
   "metadata": {},
   "outputs": [
    {
     "data": {
      "text/plain": [
       "count    6485.000000\n",
       "mean        8.055204\n",
       "std        11.178893\n",
       "min         0.000000\n",
       "25%         6.000000\n",
       "50%         7.000000\n",
       "75%         8.000000\n",
       "max        99.000000\n",
       "Name: birthwgt_lb1, dtype: float64"
      ]
     },
     "execution_count": 22,
     "metadata": {},
     "output_type": "execute_result"
    }
   ],
   "source": [
    "pounds.describe()"
   ]
  },
  {
   "cell_type": "code",
   "execution_count": 23,
   "metadata": {},
   "outputs": [
    {
     "data": {
      "text/plain": [
       "0.0        6\n",
       "1.0       34\n",
       "2.0       47\n",
       "3.0       67\n",
       "4.0      196\n",
       "5.0      586\n",
       "6.0     1666\n",
       "7.0     2146\n",
       "8.0     1168\n",
       "9.0      363\n",
       "10.0      82\n",
       "11.0      17\n",
       "12.0       7\n",
       "13.0       2\n",
       "14.0       2\n",
       "17.0       1\n",
       "99.0      94\n",
       "Name: birthwgt_lb1, dtype: int64"
      ]
     },
     "execution_count": 23,
     "metadata": {},
     "output_type": "execute_result"
    }
   ],
   "source": [
    "pounds_clean = pounds.replace(98, np.nan)\n",
    "pounds_clean.value_counts().sort_index()"
   ]
  },
  {
   "cell_type": "code",
   "execution_count": 24,
   "metadata": {},
   "outputs": [
    {
     "data": {
      "text/plain": [
       "0.0     757\n",
       "1.0     297\n",
       "2.0     429\n",
       "3.0     393\n",
       "4.0     386\n",
       "5.0     407\n",
       "6.0     543\n",
       "7.0     346\n",
       "8.0     518\n",
       "9.0     377\n",
       "10.0    295\n",
       "11.0    418\n",
       "12.0    388\n",
       "13.0    275\n",
       "14.0    258\n",
       "15.0    268\n",
       "99.0     35\n",
       "Name: birthwgt_oz1, dtype: int64"
      ]
     },
     "execution_count": 24,
     "metadata": {},
     "output_type": "execute_result"
    }
   ],
   "source": [
    "ounces_clean = ounces.replace(98, np.nan)\n",
    "ounces_clean.value_counts().sort_index()"
   ]
  },
  {
   "cell_type": "code",
   "execution_count": 25,
   "metadata": {},
   "outputs": [
    {
     "data": {
      "text/plain": [
       "7.153266823161189"
      ]
     },
     "execution_count": 25,
     "metadata": {},
     "output_type": "execute_result"
    }
   ],
   "source": [
    "#converting ounces to pounds and then adding it to pounds to get the correct value\n",
    "birth_weight = pounds_clean + ounces_clean / 16\n",
    "birth_weight.mean()"
   ]
  },
  {
   "cell_type": "code",
   "execution_count": 26,
   "metadata": {},
   "outputs": [
    {
     "data": {
      "text/plain": [
       "0.0000      1\n",
       "0.1250      1\n",
       "0.8125      1\n",
       "0.8750      2\n",
       "0.9375      1\n",
       "           ..\n",
       "13.1875    16\n",
       "14.0000     2\n",
       "14.1875     6\n",
       "15.1875     1\n",
       "17.9375     1\n",
       "Length: 180, dtype: int64"
      ]
     },
     "execution_count": 26,
     "metadata": {},
     "output_type": "execute_result"
    }
   ],
   "source": [
    "birth_weight.value_counts().sort_index()"
   ]
  },
  {
   "cell_type": "code",
   "execution_count": 27,
   "metadata": {},
   "outputs": [
    {
     "data": {
      "image/png": "[encoded data removed]",
      "text/plain": [
       "<Figure size 432x288 with 1 Axes>"
      ]
     },
     "metadata": {
      "needs_background": "light"
     },
     "output_type": "display_data"
    }
   ],
   "source": [
    "plt.hist(birth_weight.dropna(), bins= 20, histtype='bar', edgecolor = 'black')\n",
    "plt.xlabel('Birth weight in pounds')\n",
    "plt.ylabel('Number of live births')\n",
    "plt.title('Distribution of U.S. birth weight');"
   ]
  },
  {
   "cell_type": "code",
   "execution_count": 28,
   "metadata": {},
   "outputs": [
    {
     "data": {
      "text/html": [
       "<div>\n",
       "<style scoped>\n",
       "    .dataframe tbody tr th:only-of-type {\n",
       "        vertical-align: middle;\n",
       "    }\n",
       "\n",
       "    .dataframe tbody tr th {\n",
       "        vertical-align: top;\n",
       "    }\n",
       "\n",
       "    .dataframe thead th {\n",
       "        text-align: right;\n",
       "    }\n",
       "</style>\n",
       "<table border=\"1\" class=\"dataframe\">\n",
       "  <thead>\n",
       "    <tr style=\"text-align: right;\">\n",
       "      <th></th>\n",
       "      <th>caseid</th>\n",
       "      <th>outcome</th>\n",
       "      <th>birthwgt_lb1</th>\n",
       "      <th>birthwgt_oz1</th>\n",
       "      <th>prglngth</th>\n",
       "      <th>nbrnaliv</th>\n",
       "      <th>agecon</th>\n",
       "      <th>agepreg</th>\n",
       "      <th>hpagelb</th>\n",
       "      <th>wgt2013_2015</th>\n",
       "    </tr>\n",
       "  </thead>\n",
       "  <tbody>\n",
       "    <tr>\n",
       "      <th>0</th>\n",
       "      <td>60418</td>\n",
       "      <td>1</td>\n",
       "      <td>5.0</td>\n",
       "      <td>4.0</td>\n",
       "      <td>40</td>\n",
       "      <td>1.0</td>\n",
       "      <td>2000</td>\n",
       "      <td>2075.0</td>\n",
       "      <td>22.0</td>\n",
       "      <td>3554.964843</td>\n",
       "    </tr>\n",
       "    <tr>\n",
       "      <th>1</th>\n",
       "      <td>60418</td>\n",
       "      <td>1</td>\n",
       "      <td>4.0</td>\n",
       "      <td>12.0</td>\n",
       "      <td>36</td>\n",
       "      <td>1.0</td>\n",
       "      <td>2291</td>\n",
       "      <td>2358.0</td>\n",
       "      <td>25.0</td>\n",
       "      <td>3554.964843</td>\n",
       "    </tr>\n",
       "    <tr>\n",
       "      <th>2</th>\n",
       "      <td>60418</td>\n",
       "      <td>1</td>\n",
       "      <td>5.0</td>\n",
       "      <td>4.0</td>\n",
       "      <td>36</td>\n",
       "      <td>1.0</td>\n",
       "      <td>3241</td>\n",
       "      <td>3308.0</td>\n",
       "      <td>52.0</td>\n",
       "      <td>3554.964843</td>\n",
       "    </tr>\n",
       "    <tr>\n",
       "      <th>3</th>\n",
       "      <td>60419</td>\n",
       "      <td>6</td>\n",
       "      <td>NaN</td>\n",
       "      <td>NaN</td>\n",
       "      <td>33</td>\n",
       "      <td>NaN</td>\n",
       "      <td>3650</td>\n",
       "      <td>NaN</td>\n",
       "      <td>NaN</td>\n",
       "      <td>2484.535358</td>\n",
       "    </tr>\n",
       "    <tr>\n",
       "      <th>4</th>\n",
       "      <td>60420</td>\n",
       "      <td>1</td>\n",
       "      <td>8.0</td>\n",
       "      <td>13.0</td>\n",
       "      <td>41</td>\n",
       "      <td>1.0</td>\n",
       "      <td>2191</td>\n",
       "      <td>2266.0</td>\n",
       "      <td>24.0</td>\n",
       "      <td>2903.782914</td>\n",
       "    </tr>\n",
       "  </tbody>\n",
       "</table>\n",
       "</div>"
      ],
      "text/plain": [
       "   caseid  outcome  birthwgt_lb1  birthwgt_oz1  prglngth  nbrnaliv  agecon  \\\n",
       "0   60418        1           5.0           4.0        40       1.0    2000   \n",
       "1   60418        1           4.0          12.0        36       1.0    2291   \n",
       "2   60418        1           5.0           4.0        36       1.0    3241   \n",
       "3   60419        6           NaN           NaN        33       NaN    3650   \n",
       "4   60420        1           8.0          13.0        41       1.0    2191   \n",
       "\n",
       "   agepreg  hpagelb  wgt2013_2015  \n",
       "0   2075.0     22.0   3554.964843  \n",
       "1   2358.0     25.0   3554.964843  \n",
       "2   3308.0     52.0   3554.964843  \n",
       "3      NaN      NaN   2484.535358  \n",
       "4   2266.0     24.0   2903.782914  "
      ]
     },
     "execution_count": 28,
     "metadata": {},
     "output_type": "execute_result"
    }
   ],
   "source": [
    "nsfg.head()"
   ]
  },
  {
   "cell_type": "code",
   "execution_count": 29,
   "metadata": {},
   "outputs": [
    {
     "data": {
      "text/html": [
       "<div>\n",
       "<style scoped>\n",
       "    .dataframe tbody tr th:only-of-type {\n",
       "        vertical-align: middle;\n",
       "    }\n",
       "\n",
       "    .dataframe tbody tr th {\n",
       "        vertical-align: top;\n",
       "    }\n",
       "\n",
       "    .dataframe thead th {\n",
       "        text-align: right;\n",
       "    }\n",
       "</style>\n",
       "<table border=\"1\" class=\"dataframe\">\n",
       "  <thead>\n",
       "    <tr style=\"text-align: right;\">\n",
       "      <th></th>\n",
       "      <th>caseid</th>\n",
       "      <th>outcome</th>\n",
       "      <th>birthwgt_lb1</th>\n",
       "      <th>birthwgt_oz1</th>\n",
       "      <th>prglngth</th>\n",
       "      <th>nbrnaliv</th>\n",
       "      <th>agecon</th>\n",
       "      <th>agepreg</th>\n",
       "      <th>hpagelb</th>\n",
       "      <th>wgt2013_2015</th>\n",
       "    </tr>\n",
       "  </thead>\n",
       "  <tbody>\n",
       "    <tr>\n",
       "      <th>6606</th>\n",
       "      <td>67667</td>\n",
       "      <td>1</td>\n",
       "      <td>6.0</td>\n",
       "      <td>8.0</td>\n",
       "      <td>39</td>\n",
       "      <td>1.0</td>\n",
       "      <td>2558</td>\n",
       "      <td>2633.0</td>\n",
       "      <td>28.0</td>\n",
       "      <td>26422.532773</td>\n",
       "    </tr>\n",
       "    <tr>\n",
       "      <th>3321</th>\n",
       "      <td>63929</td>\n",
       "      <td>6</td>\n",
       "      <td>NaN</td>\n",
       "      <td>NaN</td>\n",
       "      <td>37</td>\n",
       "      <td>NaN</td>\n",
       "      <td>2375</td>\n",
       "      <td>NaN</td>\n",
       "      <td>NaN</td>\n",
       "      <td>5631.573012</td>\n",
       "    </tr>\n",
       "    <tr>\n",
       "      <th>159</th>\n",
       "      <td>60609</td>\n",
       "      <td>1</td>\n",
       "      <td>8.0</td>\n",
       "      <td>9.0</td>\n",
       "      <td>41</td>\n",
       "      <td>1.0</td>\n",
       "      <td>1750</td>\n",
       "      <td>1825.0</td>\n",
       "      <td>32.0</td>\n",
       "      <td>2976.855042</td>\n",
       "    </tr>\n",
       "    <tr>\n",
       "      <th>7978</th>\n",
       "      <td>69108</td>\n",
       "      <td>1</td>\n",
       "      <td>5.0</td>\n",
       "      <td>13.0</td>\n",
       "      <td>40</td>\n",
       "      <td>1.0</td>\n",
       "      <td>3408</td>\n",
       "      <td>3483.0</td>\n",
       "      <td>37.0</td>\n",
       "      <td>9153.372122</td>\n",
       "    </tr>\n",
       "    <tr>\n",
       "      <th>7581</th>\n",
       "      <td>68680</td>\n",
       "      <td>2</td>\n",
       "      <td>NaN</td>\n",
       "      <td>NaN</td>\n",
       "      <td>7</td>\n",
       "      <td>NaN</td>\n",
       "      <td>2075</td>\n",
       "      <td>2083.0</td>\n",
       "      <td>NaN</td>\n",
       "      <td>14578.782906</td>\n",
       "    </tr>\n",
       "  </tbody>\n",
       "</table>\n",
       "</div>"
      ],
      "text/plain": [
       "      caseid  outcome  birthwgt_lb1  birthwgt_oz1  prglngth  nbrnaliv  agecon  \\\n",
       "6606   67667        1           6.0           8.0        39       1.0    2558   \n",
       "3321   63929        6           NaN           NaN        37       NaN    2375   \n",
       "159    60609        1           8.0           9.0        41       1.0    1750   \n",
       "7978   69108        1           5.0          13.0        40       1.0    3408   \n",
       "7581   68680        2           NaN           NaN         7       NaN    2075   \n",
       "\n",
       "      agepreg  hpagelb  wgt2013_2015  \n",
       "6606   2633.0     28.0  26422.532773  \n",
       "3321      NaN      NaN   5631.573012  \n",
       "159    1825.0     32.0   2976.855042  \n",
       "7978   3483.0     37.0   9153.372122  \n",
       "7581   2083.0      NaN  14578.782906  "
      ]
     },
     "execution_count": 29,
     "metadata": {},
     "output_type": "execute_result"
    }
   ],
   "source": [
    "# .sample() : Return a random sample of items from an axis of object.\n",
    "\n",
    "n = len(nsfg)\n",
    "weights = nsfg['wgt2013_2015']\n",
    "# print(weights.head())\n",
    "sample = nsfg.sample(n, replace = True, weights = weights)\n",
    "sample.head()"
   ]
  },
  {
   "cell_type": "code",
   "execution_count": 30,
   "metadata": {},
   "outputs": [
    {
     "data": {
      "text/plain": [
       "7.1932078935291415"
      ]
     },
     "execution_count": 30,
     "metadata": {},
     "output_type": "execute_result"
    }
   ],
   "source": [
    "ounces_2 = sample['birthwgt_oz1']\n",
    "pounds_2 = sample['birthwgt_lb1']\n",
    "\n",
    "birth_weight_N = pounds_2 + ounces_2 / 16\n",
    "birth_weight_N.mean()"
   ]
  },
  {
   "cell_type": "code",
   "execution_count": 31,
   "metadata": {},
   "outputs": [
    {
     "name": "stdout",
     "output_type": "stream",
     "text": [
      "7.153266823161189\n"
     ]
    },
    {
     "data": {
      "image/png": "[encoded data removed]",
      "text/plain": [
       "<Figure size 432x288 with 1 Axes>"
      ]
     },
     "metadata": {
      "needs_background": "light"
     },
     "output_type": "display_data"
    }
   ],
   "source": [
    "# birth_weight of nsfg\n",
    "print(birth_weight.mean())\n",
    "plt.hist(birth_weight.dropna(), bins= 20, histtype='bar', edgecolor = 'black')\n",
    "plt.xlabel('Birth weight in pounds')\n",
    "plt.ylabel('Number of live births')\n",
    "plt.title('Distribution of U.S. birth weight from nsfg');"
   ]
  },
  {
   "cell_type": "code",
   "execution_count": 32,
   "metadata": {},
   "outputs": [
    {
     "name": "stdout",
     "output_type": "stream",
     "text": [
      "7.1932078935291415\n"
     ]
    },
    {
     "data": {
      "image/png": "[encoded data removed]",
      "text/plain": [
       "<Figure size 432x288 with 1 Axes>"
      ]
     },
     "metadata": {
      "needs_background": "light"
     },
     "output_type": "display_data"
    }
   ],
   "source": [
    "# birth_weight of nsfg sample\n",
    "print(birth_weight_N.mean())\n",
    "plt.hist(birth_weight_N.dropna(), bins= 20, histtype='bar', edgecolor = 'black')\n",
    "plt.xlabel('Birth weight in pounds')\n",
    "plt.ylabel('Number of live births')\n",
    "plt.title('Distribution of U.S. birth weight from nsfg sample');"
   ]
  },
  {
   "cell_type": "code",
   "execution_count": 33,
   "metadata": {},
   "outputs": [
    {
     "name": "stdout",
     "output_type": "stream",
     "text": [
      "count    6390.000000\n",
      "mean        7.153267\n",
      "std         1.485002\n",
      "min         0.000000\n",
      "25%         6.375000\n",
      "50%         7.187500\n",
      "75%         8.000000\n",
      "max        17.937500\n",
      "dtype: float64\n",
      "\n",
      "count    6537.000000\n",
      "mean        7.193208\n",
      "std         1.422704\n",
      "min         0.000000\n",
      "25%         6.437500\n",
      "50%         7.250000\n",
      "75%         8.000000\n",
      "max        17.937500\n",
      "dtype: float64\n"
     ]
    }
   ],
   "source": [
    "print(birth_weight.describe())\n",
    "print()\n",
    "print(birth_weight_N.describe())"
   ]
  },
  {
   "cell_type": "markdown",
   "metadata": {},
   "source": [
    "# Chapter 6\n",
    "## Topic 2.1\n",
    "You'll learn how to represent distributions using Probability distributions."
   ]
  },
  {
   "cell_type": "code",
   "execution_count": 34,
   "metadata": {},
   "outputs": [],
   "source": [
    "import pandas as pd\n",
    "import numpy as np\n",
    "import matplotlib.pyplot as plt"
   ]
  },
  {
   "cell_type": "code",
   "execution_count": 35,
   "metadata": {},
   "outputs": [
    {
     "data": {
      "text/html": [
       "<div>\n",
       "<style scoped>\n",
       "    .dataframe tbody tr th:only-of-type {\n",
       "        vertical-align: middle;\n",
       "    }\n",
       "\n",
       "    .dataframe tbody tr th {\n",
       "        vertical-align: top;\n",
       "    }\n",
       "\n",
       "    .dataframe thead th {\n",
       "        text-align: right;\n",
       "    }\n",
       "</style>\n",
       "<table border=\"1\" class=\"dataframe\">\n",
       "  <thead>\n",
       "    <tr style=\"text-align: right;\">\n",
       "      <th></th>\n",
       "      <th>year</th>\n",
       "      <th>age</th>\n",
       "      <th>cohort</th>\n",
       "      <th>sex</th>\n",
       "      <th>race</th>\n",
       "      <th>educ</th>\n",
       "      <th>realinc</th>\n",
       "      <th>gunlaw</th>\n",
       "      <th>grass</th>\n",
       "      <th>wtssall</th>\n",
       "    </tr>\n",
       "  </thead>\n",
       "  <tbody>\n",
       "    <tr>\n",
       "      <th>0</th>\n",
       "      <td>1972</td>\n",
       "      <td>26.0</td>\n",
       "      <td>1946.0</td>\n",
       "      <td>1</td>\n",
       "      <td>1</td>\n",
       "      <td>18.0</td>\n",
       "      <td>13537.0</td>\n",
       "      <td>2.0</td>\n",
       "      <td>NaN</td>\n",
       "      <td>0.8893</td>\n",
       "    </tr>\n",
       "    <tr>\n",
       "      <th>1</th>\n",
       "      <td>1972</td>\n",
       "      <td>38.0</td>\n",
       "      <td>1934.0</td>\n",
       "      <td>2</td>\n",
       "      <td>1</td>\n",
       "      <td>12.0</td>\n",
       "      <td>18951.0</td>\n",
       "      <td>1.0</td>\n",
       "      <td>NaN</td>\n",
       "      <td>0.4446</td>\n",
       "    </tr>\n",
       "    <tr>\n",
       "      <th>2</th>\n",
       "      <td>1972</td>\n",
       "      <td>57.0</td>\n",
       "      <td>1915.0</td>\n",
       "      <td>1</td>\n",
       "      <td>1</td>\n",
       "      <td>12.0</td>\n",
       "      <td>30458.0</td>\n",
       "      <td>1.0</td>\n",
       "      <td>NaN</td>\n",
       "      <td>1.3339</td>\n",
       "    </tr>\n",
       "    <tr>\n",
       "      <th>3</th>\n",
       "      <td>1972</td>\n",
       "      <td>61.0</td>\n",
       "      <td>1911.0</td>\n",
       "      <td>2</td>\n",
       "      <td>1</td>\n",
       "      <td>14.0</td>\n",
       "      <td>37226.0</td>\n",
       "      <td>1.0</td>\n",
       "      <td>NaN</td>\n",
       "      <td>0.8893</td>\n",
       "    </tr>\n",
       "    <tr>\n",
       "      <th>4</th>\n",
       "      <td>1972</td>\n",
       "      <td>59.0</td>\n",
       "      <td>1913.0</td>\n",
       "      <td>1</td>\n",
       "      <td>1</td>\n",
       "      <td>12.0</td>\n",
       "      <td>30458.0</td>\n",
       "      <td>2.0</td>\n",
       "      <td>NaN</td>\n",
       "      <td>0.8893</td>\n",
       "    </tr>\n",
       "  </tbody>\n",
       "</table>\n",
       "</div>"
      ],
      "text/plain": [
       "   year   age  cohort  sex  race  educ  realinc  gunlaw  grass  wtssall\n",
       "0  1972  26.0  1946.0    1     1  18.0  13537.0     2.0    NaN   0.8893\n",
       "1  1972  38.0  1934.0    2     1  12.0  18951.0     1.0    NaN   0.4446\n",
       "2  1972  57.0  1915.0    1     1  12.0  30458.0     1.0    NaN   1.3339\n",
       "3  1972  61.0  1911.0    2     1  14.0  37226.0     1.0    NaN   0.8893\n",
       "4  1972  59.0  1913.0    1     1  12.0  30458.0     2.0    NaN   0.8893"
      ]
     },
     "execution_count": 35,
     "metadata": {},
     "output_type": "execute_result"
    }
   ],
   "source": [
    "gss = pd.read_hdf('gss.hdf5')\n",
    "gss.head()"
   ]
  },
  {
   "cell_type": "code",
   "execution_count": 36,
   "metadata": {},
   "outputs": [
    {
     "data": {
      "text/plain": [
       "Index(['year', 'age', 'cohort', 'sex', 'race', 'educ', 'realinc', 'gunlaw',\n",
       "       'grass', 'wtssall'],\n",
       "      dtype='object')"
      ]
     },
     "execution_count": 36,
     "metadata": {},
     "output_type": "execute_result"
    }
   ],
   "source": [
    "gss.columns"
   ]
  },
  {
   "cell_type": "code",
   "execution_count": 37,
   "metadata": {},
   "outputs": [
    {
     "name": "stdout",
     "output_type": "stream",
     "text": [
      "<class 'pandas.core.frame.DataFrame'>\n",
      "Int64Index: 62466 entries, 0 to 62465\n",
      "Data columns (total 10 columns):\n",
      " #   Column   Non-Null Count  Dtype  \n",
      "---  ------   --------------  -----  \n",
      " 0   year     62466 non-null  int64  \n",
      " 1   age      62281 non-null  float64\n",
      " 2   cohort   62282 non-null  float64\n",
      " 3   sex      62466 non-null  int64  \n",
      " 4   race     62466 non-null  int64  \n",
      " 5   educ     62304 non-null  float64\n",
      " 6   realinc  55499 non-null  float64\n",
      " 7   gunlaw   40550 non-null  float64\n",
      " 8   grass    36222 non-null  float64\n",
      " 9   wtssall  62466 non-null  float64\n",
      "dtypes: float64(7), int64(3)\n",
      "memory usage: 5.2 MB\n"
     ]
    }
   ],
   "source": [
    "gss.info()"
   ]
  },
  {
   "cell_type": "code",
   "execution_count": 38,
   "metadata": {},
   "outputs": [
    {
     "data": {
      "text/plain": [
       "<matplotlib.axes._subplots.AxesSubplot at 0x6bd047dac8>"
      ]
     },
     "execution_count": 38,
     "metadata": {},
     "output_type": "execute_result"
    },
    {
     "data": {
      "image/png": "[encoded data removed]",
      "text/plain": [
       "<Figure size 432x288 with 1 Axes>"
      ]
     },
     "metadata": {
      "needs_background": "light"
     },
     "output_type": "display_data"
    }
   ],
   "source": [
    "gss['age'].hist(bins=25, edgecolor = 'black')"
   ]
  },
  {
   "cell_type": "code",
   "execution_count": 39,
   "metadata": {},
   "outputs": [
    {
     "data": {
      "text/plain": [
       "count    62281.000000\n",
       "mean        44.648320\n",
       "std         17.072244\n",
       "min         18.000000\n",
       "25%         30.000000\n",
       "50%         43.000000\n",
       "75%         57.000000\n",
       "max         89.000000\n",
       "Name: age, dtype: float64"
      ]
     },
     "execution_count": 39,
     "metadata": {},
     "output_type": "execute_result"
    }
   ],
   "source": [
    "gss['age'].describe()"
   ]
  },
  {
   "cell_type": "code",
   "execution_count": 67,
   "metadata": {},
   "outputs": [
    {
     "data": {
      "text/plain": [
       "<matplotlib.axes._subplots.AxesSubplot at 0x6bd0568988>"
      ]
     },
     "execution_count": 67,
     "metadata": {},
     "output_type": "execute_result"
    },
    {
     "data": {
      "image/png": "[encoded data removed]",
      "text/plain": [
       "<Figure size 432x288 with 1 Axes>"
      ]
     },
     "metadata": {
      "needs_background": "light"
     },
     "output_type": "display_data"
    }
   ],
   "source": [
    "# density : distribution of a quantity\n",
    "\n",
    "gss['age'].hist(bins=25, edgecolor = 'black', density = True)"
   ]
  },
  {
   "cell_type": "code",
   "execution_count": 73,
   "metadata": {},
   "outputs": [
    {
     "name": "stdout",
     "output_type": "stream",
     "text": [
      "          year       age       sex      educ\n",
      "year  1.000000  0.065482  0.000697  0.214065\n",
      "age   0.065482  1.000000  0.025159 -0.153742\n",
      "sex   0.000697  0.025159  1.000000 -0.032907\n",
      "educ  0.214065 -0.153742 -0.032907  1.000000\n"
     ]
    },
    {
     "data": {
      "text/html": [
       "<style  type=\"text/css\" >\n",
       "    #T_83a8bff6_7a4a_11eb_a027_ac7ba1a5a171row0_col0 {\n",
       "            background-color:  #00441b;\n",
       "            color:  #f1f1f1;\n",
       "        }    #T_83a8bff6_7a4a_11eb_a027_ac7ba1a5a171row0_col1 {\n",
       "            background-color:  #d6efd0;\n",
       "            color:  #000000;\n",
       "        }    #T_83a8bff6_7a4a_11eb_a027_ac7ba1a5a171row0_col2 {\n",
       "            background-color:  #f2faf0;\n",
       "            color:  #000000;\n",
       "        }    #T_83a8bff6_7a4a_11eb_a027_ac7ba1a5a171row0_col3 {\n",
       "            background-color:  #b2e0ac;\n",
       "            color:  #000000;\n",
       "        }    #T_83a8bff6_7a4a_11eb_a027_ac7ba1a5a171row1_col0 {\n",
       "            background-color:  #eef8ea;\n",
       "            color:  #000000;\n",
       "        }    #T_83a8bff6_7a4a_11eb_a027_ac7ba1a5a171row1_col1 {\n",
       "            background-color:  #00441b;\n",
       "            color:  #f1f1f1;\n",
       "        }    #T_83a8bff6_7a4a_11eb_a027_ac7ba1a5a171row1_col2 {\n",
       "            background-color:  #eff9ec;\n",
       "            color:  #000000;\n",
       "        }    #T_83a8bff6_7a4a_11eb_a027_ac7ba1a5a171row1_col3 {\n",
       "            background-color:  #f7fcf5;\n",
       "            color:  #000000;\n",
       "        }    #T_83a8bff6_7a4a_11eb_a027_ac7ba1a5a171row2_col0 {\n",
       "            background-color:  #f7fcf5;\n",
       "            color:  #000000;\n",
       "        }    #T_83a8bff6_7a4a_11eb_a027_ac7ba1a5a171row2_col1 {\n",
       "            background-color:  #def2d9;\n",
       "            color:  #000000;\n",
       "        }    #T_83a8bff6_7a4a_11eb_a027_ac7ba1a5a171row2_col2 {\n",
       "            background-color:  #00441b;\n",
       "            color:  #f1f1f1;\n",
       "        }    #T_83a8bff6_7a4a_11eb_a027_ac7ba1a5a171row2_col3 {\n",
       "            background-color:  #e8f6e4;\n",
       "            color:  #000000;\n",
       "        }    #T_83a8bff6_7a4a_11eb_a027_ac7ba1a5a171row3_col0 {\n",
       "            background-color:  #d0edca;\n",
       "            color:  #000000;\n",
       "        }    #T_83a8bff6_7a4a_11eb_a027_ac7ba1a5a171row3_col1 {\n",
       "            background-color:  #f7fcf5;\n",
       "            color:  #000000;\n",
       "        }    #T_83a8bff6_7a4a_11eb_a027_ac7ba1a5a171row3_col2 {\n",
       "            background-color:  #f7fcf5;\n",
       "            color:  #000000;\n",
       "        }    #T_83a8bff6_7a4a_11eb_a027_ac7ba1a5a171row3_col3 {\n",
       "            background-color:  #00441b;\n",
       "            color:  #f1f1f1;\n",
       "        }</style><table id=\"T_83a8bff6_7a4a_11eb_a027_ac7ba1a5a171\" ><thead>    <tr>        <th class=\"blank level0\" ></th>        <th class=\"col_heading level0 col0\" >year</th>        <th class=\"col_heading level0 col1\" >age</th>        <th class=\"col_heading level0 col2\" >sex</th>        <th class=\"col_heading level0 col3\" >educ</th>    </tr></thead><tbody>\n",
       "                <tr>\n",
       "                        <th id=\"T_83a8bff6_7a4a_11eb_a027_ac7ba1a5a171level0_row0\" class=\"row_heading level0 row0\" >year</th>\n",
       "                        <td id=\"T_83a8bff6_7a4a_11eb_a027_ac7ba1a5a171row0_col0\" class=\"data row0 col0\" >1.00</td>\n",
       "                        <td id=\"T_83a8bff6_7a4a_11eb_a027_ac7ba1a5a171row0_col1\" class=\"data row0 col1\" >0.07</td>\n",
       "                        <td id=\"T_83a8bff6_7a4a_11eb_a027_ac7ba1a5a171row0_col2\" class=\"data row0 col2\" >0.00</td>\n",
       "                        <td id=\"T_83a8bff6_7a4a_11eb_a027_ac7ba1a5a171row0_col3\" class=\"data row0 col3\" >0.21</td>\n",
       "            </tr>\n",
       "            <tr>\n",
       "                        <th id=\"T_83a8bff6_7a4a_11eb_a027_ac7ba1a5a171level0_row1\" class=\"row_heading level0 row1\" >age</th>\n",
       "                        <td id=\"T_83a8bff6_7a4a_11eb_a027_ac7ba1a5a171row1_col0\" class=\"data row1 col0\" >0.07</td>\n",
       "                        <td id=\"T_83a8bff6_7a4a_11eb_a027_ac7ba1a5a171row1_col1\" class=\"data row1 col1\" >1.00</td>\n",
       "                        <td id=\"T_83a8bff6_7a4a_11eb_a027_ac7ba1a5a171row1_col2\" class=\"data row1 col2\" >0.03</td>\n",
       "                        <td id=\"T_83a8bff6_7a4a_11eb_a027_ac7ba1a5a171row1_col3\" class=\"data row1 col3\" >-0.15</td>\n",
       "            </tr>\n",
       "            <tr>\n",
       "                        <th id=\"T_83a8bff6_7a4a_11eb_a027_ac7ba1a5a171level0_row2\" class=\"row_heading level0 row2\" >sex</th>\n",
       "                        <td id=\"T_83a8bff6_7a4a_11eb_a027_ac7ba1a5a171row2_col0\" class=\"data row2 col0\" >0.00</td>\n",
       "                        <td id=\"T_83a8bff6_7a4a_11eb_a027_ac7ba1a5a171row2_col1\" class=\"data row2 col1\" >0.03</td>\n",
       "                        <td id=\"T_83a8bff6_7a4a_11eb_a027_ac7ba1a5a171row2_col2\" class=\"data row2 col2\" >1.00</td>\n",
       "                        <td id=\"T_83a8bff6_7a4a_11eb_a027_ac7ba1a5a171row2_col3\" class=\"data row2 col3\" >-0.03</td>\n",
       "            </tr>\n",
       "            <tr>\n",
       "                        <th id=\"T_83a8bff6_7a4a_11eb_a027_ac7ba1a5a171level0_row3\" class=\"row_heading level0 row3\" >educ</th>\n",
       "                        <td id=\"T_83a8bff6_7a4a_11eb_a027_ac7ba1a5a171row3_col0\" class=\"data row3 col0\" >0.21</td>\n",
       "                        <td id=\"T_83a8bff6_7a4a_11eb_a027_ac7ba1a5a171row3_col1\" class=\"data row3 col1\" >-0.15</td>\n",
       "                        <td id=\"T_83a8bff6_7a4a_11eb_a027_ac7ba1a5a171row3_col2\" class=\"data row3 col2\" >-0.03</td>\n",
       "                        <td id=\"T_83a8bff6_7a4a_11eb_a027_ac7ba1a5a171row3_col3\" class=\"data row3 col3\" >1.00</td>\n",
       "            </tr>\n",
       "    </tbody></table>"
      ],
      "text/plain": [
       "<pandas.io.formats.style.Styler at 0x6bce968588>"
      ]
     },
     "execution_count": 73,
     "metadata": {},
     "output_type": "execute_result"
    }
   ],
   "source": [
    "#Finding correlation of different features\n",
    "\n",
    "# Correlation means association - more precisely it is a measure of the extent to which two variables are related.\n",
    "# A positive correlation is a relationship between two variables in which both variables move in the same direction.\n",
    "# A negative correlation is a relationship between two variables in which both variables move in the opposite direction\n",
    "\n",
    "col_list = ['year','age','sex','educ']\n",
    "subset = gss[col_list]\n",
    "\n",
    "correlation = subset.corr()\n",
    "print(correlation)\n",
    "correlation.style.background_gradient(cmap='Greens').set_precision(2)"
   ]
  },
  {
   "cell_type": "markdown",
   "metadata": {},
   "source": [
    "# KDE Plot\n",
    "In statistics, kernel density estimation (KDE) is a non-parametric way to estimate the probability density function (PDF) of a random variable. This function uses Gaussian kernels and includes automatic bandwidth determination"
   ]
  },
  {
   "cell_type": "code",
   "execution_count": 77,
   "metadata": {},
   "outputs": [
    {
     "data": {
      "image/png": "[encoded data removed]",
      "text/plain": [
       "<Figure size 432x288 with 1 Axes>"
      ]
     },
     "metadata": {
      "needs_background": "light"
     },
     "output_type": "display_data"
    }
   ],
   "source": [
    "age=gss[['age']]\n",
    "age.plot.kde()\n",
    "plt.show()\n",
    "\n",
    "\n",
    "# In probability theory, a probability density function, or density of a continuous random variable,\n",
    "# is a function whose value at any given sample in the sample space can be interpreted as providing a relative\n",
    "# likelihood that the value of the random variable would equal that sample."
   ]
  },
  {
   "cell_type": "markdown",
   "metadata": {},
   "source": [
    "The method used to calculate the estimator bandwidth. This can be ‘scott’, ‘silverman’, a scalar constant or a callable. If None (default), ‘scott’ is used."
   ]
  },
  {
   "cell_type": "code",
   "execution_count": 84,
   "metadata": {},
   "outputs": [
    {
     "data": {
      "image/png": "[encoded data removed]",
      "text/plain": [
       "<Figure size 432x288 with 1 Axes>"
      ]
     },
     "metadata": {
      "needs_background": "light"
     },
     "output_type": "display_data"
    }
   ],
   "source": [
    "age=gss[['age']]\n",
    "age.plot.kde(bw_method=0.5)\n",
    "plt.show()\n"
   ]
  },
  {
   "cell_type": "code",
   "execution_count": 87,
   "metadata": {},
   "outputs": [
    {
     "data": {
      "image/png": "[encoded data removed]",
      "text/plain": [
       "<Figure size 432x288 with 1 Axes>"
      ]
     },
     "metadata": {
      "needs_background": "light"
     },
     "output_type": "display_data"
    }
   ],
   "source": [
    "age=gss['age']\n",
    "plt.hist(age, edgecolor='red')\n",
    "plt.xlabel('Age')\n",
    "plt.ylabel('Frequency')\n",
    "plt.title('Histogram of Age')\n",
    "plt.show()"
   ]
  },
  {
   "cell_type": "markdown",
   "metadata": {},
   "source": [
    "A scatterplot is a type of data display that shows the relationship between two numerical variables. Each member of the dataset gets plotted as a point whose x-y coordinates relates to its values for the two variables."
   ]
  },
  {
   "cell_type": "code",
   "execution_count": 94,
   "metadata": {},
   "outputs": [
    {
     "data": {
      "image/png": "[encoded data removed]",
      "text/plain": [
       "<Figure size 432x288 with 1 Axes>"
      ]
     },
     "metadata": {
      "needs_background": "light"
     },
     "output_type": "display_data"
    }
   ],
   "source": [
    "year = gss['year']\n",
    "plt.plot(year,age,'o')\n",
    "plt.show()"
   ]
  },
  {
   "cell_type": "code",
   "execution_count": 93,
   "metadata": {},
   "outputs": [
    {
     "data": {
      "image/png": "[encoded data removed]",
      "text/plain": [
       "<Figure size 432x288 with 1 Axes>"
      ]
     },
     "metadata": {
      "needs_background": "light"
     },
     "output_type": "display_data"
    }
   ],
   "source": [
    "gss.plot(x='year',y='age', kind='scatter', title='Age vs Year')\n",
    "plt.show()"
   ]
  },
  {
   "cell_type": "code",
   "execution_count": 95,
   "metadata": {},
   "outputs": [
    {
     "data": {
      "image/png": "[encoded data removed]",
      "text/plain": [
       "<Figure size 432x288 with 1 Axes>"
      ]
     },
     "metadata": {
      "needs_background": "light"
     },
     "output_type": "display_data"
    },
    {
     "data": {
      "image/png": "[encoded data removed]",
      "text/plain": [
       "<Figure size 432x288 with 1 Axes>"
      ]
     },
     "metadata": {
      "needs_background": "light"
     },
     "output_type": "display_data"
    }
   ],
   "source": [
    "age=[20,12,11,44,21,25]\n",
    "\n",
    "# 44-11= ans/binn = 3\n",
    "\n",
    "# 11-14, 15-17\n",
    "\n",
    "\n",
    "plt.hist(age, bins=4)\n",
    "plt.show()\n",
    "\n",
    "#density\n",
    "#probability density = row count/(toal count * bin width)\n",
    "# 3/(6 * (11-44/4))\n",
    "plt.hist(age, bins=4, density= True)\n",
    "plt.show()"
   ]
  }
 ],
 "metadata": {
  "kernelspec": {
   "display_name": "Python 3",
   "language": "python",
   "name": "python3"
  },
  "language_info": {
   "codemirror_mode": {
    "name": "ipython",
    "version": 3
   },
   "file_extension": ".py",
   "mimetype": "text/x-python",
   "name": "python",
   "nbconvert_exporter": "python",
   "pygments_lexer": "ipython3",
   "version": "3.7.6"
  }
 },
 "nbformat": 4,
 "nbformat_minor": 4
}
