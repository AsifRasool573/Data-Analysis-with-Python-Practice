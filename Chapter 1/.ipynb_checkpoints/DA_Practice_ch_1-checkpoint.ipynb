{
 "cells": [
  {
   "cell_type": "markdown",
   "metadata": {},
   "source": [
    "### 26-Oct- 2020    Data Analysis Lecture 1\n",
    "#### Topic 1.1\n"
   ]
  },
  {
   "cell_type": "code",
   "execution_count": 1,
   "metadata": {},
   "outputs": [],
   "source": [
    "#row = x-axis = observation\n",
    "#columns = y-axis = Target\n",
    "\n",
    "#importing pandas\n",
    "import pandas as pd"
   ]
  },
  {
   "cell_type": "code",
   "execution_count": 2,
   "metadata": {},
   "outputs": [
    {
     "name": "stdout",
     "output_type": "stream",
     "text": [
      "       PER_NO                NAME         FATHER_NAME  Sep_Wage  Oct_Wage  \\\n",
      "0       12345        Ahmad Hassan     Muhammad Bashir     40000     44100   \n",
      "1       25984      Muhammad Talha    Muzammil Hussain     35000     23000   \n",
      "2       25656        Faizan Azhar               Azhar     33000     23900   \n",
      "3       58987       Adnan Ghafoor    Muhammad Ghafoor     34000     33000   \n",
      "4         598        Zohaib Ahmad          Fiaz Ahmed     33000     45000   \n",
      "5        3798      Muhammad Awais     Muhammad Yousaf     23000     40000   \n",
      "6        5648          Danish Ali        Abdur Razzaq     33000     34000   \n",
      "7         648  Syed Izzan Sherazi  Ameer Hussain Shah     33000     45600   \n",
      "8     3456456       Muhammad Aqib       Muhammad Arif     44100     28100   \n",
      "9   654956413          Mohsin Ali      Sultan Mehmood     23000     38900   \n",
      "10       4685          Falak Sher     Mubbashar Ahmed     23900     23900   \n",
      "11    3548645          Ammar Asad         Asad Bashir     33000     45600   \n",
      "12  135646531     Muhammad Ramzan        Gulzar Ahmed     45000     44100   \n",
      "13   34684321       Jahanzaib Ali    Muhammad Siqlain     40000     33000   \n",
      "14   46845321        Mohsin Iqbal       Muhammad Ijaz     34000     45000   \n",
      "15   31684123            Shehryar           Saifullah     33500     40000   \n",
      "16   45132132        Tehzeeb Riaz       Muhammad Riaz     45600     40000   \n",
      "17     354151     Muhammad Shoaib       Manzoor Ahmed     28100     35000   \n",
      "18       6581        Munsab Abbas      Muhammad Ameer     38900     40000   \n",
      "19        451       Daniyal Munir       Munir Hussain     23900     33000   \n",
      "20    3213212      Muhammad Adnan     Muhammad Ramzan     45600     33000   \n",
      "21    4656545         Irfan Feroz      Muhammad Feroz     33000     44100   \n",
      "22       3135       Muhammad Asif      Muhammad Nazir     23000     33000   \n",
      "23    4654165        Ahmed Hassan          Ahmed Sher     33000     33000   \n",
      "24       8945         Ahmed Faraz     Muhammad Mumtaz     33000     44100   \n",
      "25       9845      Muhammad Rehan      Ghulam Shabbir     44100     23000   \n",
      "26        846        Danish Abbas        Sardar Ahmed     33000     23000   \n",
      "27      98456        Shahid Imran          Ahmed Khan     45000     23900   \n",
      "28        845           Ali Abbas       Nasir Mehmood     40000     33000   \n",
      "29     984653          Amir Munir      Muhammad Munir     40000     44100   \n",
      "30     356841        Abdur Rehman       Muhammad Riaz     35000     23000   \n",
      "31   65413513          Ali Hassan       Sajjad Haider     33000     23900   \n",
      "32   65413521        Hasnat Ahmed        Fazal Kareem     34000     45000   \n",
      "33       8564         Naimatullah      Muhammad Ameer     33000     40000   \n",
      "34    6543521           Saifullah      Muhammad Ameer     45000     33000   \n",
      "35    6541321          Hamid Raza        Qadir Bakhsh     40000     33000   \n",
      "36      64523         Imran Zafar         Zafar Iqbal     33000     45600   \n",
      "37       4515           Sanaullah        Abdur Razzaq     44100     28100   \n",
      "38       1312   Fakhar Ibrar Khan         Safdar Khan     23000     40000   \n",
      "39      65451     Shahzaib Arshad     Muhammad Arshad     23900     33000   \n",
      "40       3512        Shahid Iqbal      Muhammad Afzal     33000     44100   \n",
      "41    3541352       Zain Iftikhar      Iftikhar Ahmed     44100     23000   \n",
      "42      35132      Muntazir Mehdi     Muhammad Parvez     23000     28100   \n",
      "43     335132     Muhammad Shoaib       Shahadat Khan     23900     38900   \n",
      "44      35132        Abdur Rehman     Muhammad Asghar     45000     23900   \n",
      "45     365415    Muhammad Taimoor       Manzoor Ahmed     40000     45600   \n",
      "46        455     Waqar ul Hassan      Muhammad Ameen     33000     33000   \n",
      "47       6589          Ali Haider       Munawar Abbas     33000     23000   \n",
      "48        689          Zulqarnain      Khadim Hussain     44100     35000   \n",
      "49     685945       Toseef Haider      Nazar Muhammad     33000     33000   \n",
      "50      64654          Kashif Ali      Muhammad Nazir     45000     34000   \n",
      "51      68465       Daniyal Ahmed           Ahmed Yar     23000     33000   \n",
      "52     698465          Faisal Ali        Fida Hussain     33000     23000   \n",
      "53      98465          Akash Riaz       Muhammad Riaz     33000     33000   \n",
      "54      68456      Muhammad Adnan     Muhammad Asghar     45600     44100   \n",
      "55       9884      Muhammad Tahir     Ghulam Dastagir     28100     33000   \n",
      "\n",
      "          ADDRESS  \n",
      "0         Karachi  \n",
      "1         Karachi  \n",
      "2          Quetta  \n",
      "3         Karachi  \n",
      "4         Karachi  \n",
      "5         Chamman  \n",
      "6         Karachi  \n",
      "7         Karachi  \n",
      "8       Islamabad  \n",
      "9       Islamabad  \n",
      "10         Lahore  \n",
      "11      Islamabad  \n",
      "12       Sargodha  \n",
      "13      Islamabad  \n",
      "14     Kaloor Kot  \n",
      "15      Islamabad  \n",
      "16        Larkana  \n",
      "17      Islamabad  \n",
      "18      Islamabad  \n",
      "19     Rawalpindi  \n",
      "20      Islamabad  \n",
      "21      Islamabad  \n",
      "22         Vihari  \n",
      "23         Lahore  \n",
      "24         Lahore  \n",
      "25         Lahore  \n",
      "26         Lahore  \n",
      "27        Karachi  \n",
      "28         Lahore  \n",
      "29         Lahore  \n",
      "30         Lahore  \n",
      "31      Islamabad  \n",
      "32         Lahore  \n",
      "33         Lahore  \n",
      "34         Lahore  \n",
      "35       Sargodha  \n",
      "36         Lahore  \n",
      "37     Rawalpindi  \n",
      "38         Lahore  \n",
      "39         Lahore  \n",
      "40  Pindi Bhatian  \n",
      "41         Multan  \n",
      "42         Multan  \n",
      "43    Gujjar Khan  \n",
      "44         Multan  \n",
      "45         Multan  \n",
      "46         Multan  \n",
      "47         Multan  \n",
      "48        Karachi  \n",
      "49        Khushab  \n",
      "50         Multan  \n",
      "51         Multan  \n",
      "52     Rawalpindi  \n",
      "53         Multan  \n",
      "54         Multan  \n",
      "55       Sargodha  \n"
     ]
    }
   ],
   "source": [
    "#loading file\n",
    "\n",
    "df_employee = pd.read_excel('Employee_Data.xlsx')\n",
    "\n",
    "print(df_employee)\n",
    "\n",
    "#if some of the columns are required\n",
    "# print(employee[['NAME','Sep_Wage','Oct_Wage']].head())"
   ]
  },
  {
   "cell_type": "code",
   "execution_count": 3,
   "metadata": {},
   "outputs": [
    {
     "name": "stdout",
     "output_type": "stream",
     "text": [
      "<class 'pandas.core.frame.DataFrame'>\n",
      "RangeIndex: 56 entries, 0 to 55\n",
      "Data columns (total 6 columns):\n",
      " #   Column       Non-Null Count  Dtype \n",
      "---  ------       --------------  ----- \n",
      " 0   PER_NO       56 non-null     int64 \n",
      " 1   NAME         56 non-null     object\n",
      " 2   FATHER_NAME  56 non-null     object\n",
      " 3   Sep_Wage     56 non-null     int64 \n",
      " 4   Oct_Wage     56 non-null     int64 \n",
      " 5   ADDRESS      56 non-null     object\n",
      "dtypes: int64(3), object(3)\n",
      "memory usage: 2.8+ KB\n",
      "None\n"
     ]
    }
   ],
   "source": [
    "#information about Data\n",
    "\n",
    "print(df_employee.info())"
   ]
  },
  {
   "cell_type": "code",
   "execution_count": 4,
   "metadata": {},
   "outputs": [
    {
     "name": "stdout",
     "output_type": "stream",
     "text": [
      "(56, 6)\n",
      "<class 'tuple'>\n"
     ]
    }
   ],
   "source": [
    "#check the shape of data\n",
    "print(df_employee.shape)\n",
    "\n",
    "#type of returning value from shape\n",
    "print(type(df_employee.shape))"
   ]
  },
  {
   "cell_type": "code",
   "execution_count": 5,
   "metadata": {},
   "outputs": [
    {
     "name": "stdout",
     "output_type": "stream",
     "text": [
      "             PER_NO      Sep_Wage      Oct_Wage\n",
      "count  5.600000e+01     56.000000     56.000000\n",
      "mean   2.000920e+07  34830.357143  34673.214286\n",
      "std    8.945514e+07   7316.281212   7783.934296\n",
      "min    4.510000e+02  23000.000000  23000.000000\n",
      "25%    6.347750e+03  33000.000000  28100.000000\n",
      "50%    6.505250e+04  33000.000000  33000.000000\n",
      "75%    3.477680e+06  40000.000000  41025.000000\n",
      "max    6.549564e+08  45600.000000  45600.000000\n"
     ]
    }
   ],
   "source": [
    "#Check the description of Data\n",
    "print(df_employee.describe())"
   ]
  },
  {
   "cell_type": "code",
   "execution_count": 6,
   "metadata": {},
   "outputs": [
    {
     "name": "stdout",
     "output_type": "stream",
     "text": [
      "56\n",
      "\n",
      "1941700\n"
     ]
    }
   ],
   "source": [
    "# Count number of non-NA/null observations.\n",
    "print(df_employee['NAME'].count())\n",
    "print()\n",
    "\n",
    "# sum of integer values and contination of strings.\n",
    "print(df_employee['Oct_Wage'].sum())\n"
   ]
  },
  {
   "cell_type": "code",
   "execution_count": 7,
   "metadata": {},
   "outputs": [
    {
     "name": "stdout",
     "output_type": "stream",
     "text": [
      "45600\n",
      "23000\n",
      "Chamman\n"
     ]
    }
   ],
   "source": [
    "#Karachi: 691, Islamabad: 894, Rawalpinid: 1035, Multan: 625, Sargodha: 809, Khushab: 710, Vihari: 611, Lahore: 603\n",
    "# Minimum of the values in in the one column of  the DataFrame.\n",
    "print(df_employee['Sep_Wage'].max())\n",
    "\n",
    "# Minimum of the values in the one column of DataFrame.\n",
    "print(df_employee['Sep_Wage'].min())\n",
    "\n",
    "print(df_employee['ADDRESS'].min())"
   ]
  },
  {
   "cell_type": "code",
   "execution_count": 8,
   "metadata": {},
   "outputs": [
    {
     "name": "stdout",
     "output_type": "stream",
     "text": [
      "[[12345 'Ahmad Hassan' 'Muhammad Bashir' 40000 44100 'Karachi']\n",
      " [25984 'Muhammad Talha' 'Muzammil Hussain' 35000 23000 'Karachi']\n",
      " [25656 'Faizan Azhar' 'Azhar' 33000 23900 'Quetta']\n",
      " [58987 'Adnan Ghafoor' 'Muhammad Ghafoor' 34000 33000 'Karachi']\n",
      " [598 'Zohaib Ahmad' 'Fiaz Ahmed' 33000 45000 'Karachi']\n",
      " [3798 'Muhammad Awais' 'Muhammad Yousaf' 23000 40000 'Chamman']\n",
      " [5648 'Danish Ali' 'Abdur Razzaq' 33000 34000 'Karachi']\n",
      " [648 'Syed Izzan Sherazi' 'Ameer Hussain Shah' 33000 45600 'Karachi']\n",
      " [3456456 'Muhammad Aqib' 'Muhammad Arif' 44100 28100 'Islamabad']\n",
      " [654956413 'Mohsin Ali' 'Sultan Mehmood' 23000 38900 'Islamabad']\n",
      " [4685 'Falak Sher' 'Mubbashar Ahmed' 23900 23900 'Lahore']\n",
      " [3548645 'Ammar Asad' 'Asad Bashir' 33000 45600 'Islamabad']\n",
      " [135646531 'Muhammad Ramzan' 'Gulzar Ahmed' 45000 44100 'Sargodha']\n",
      " [34684321 'Jahanzaib Ali' 'Muhammad Siqlain' 40000 33000 'Islamabad']\n",
      " [46845321 'Mohsin Iqbal' 'Muhammad Ijaz' 34000 45000 'Kaloor Kot']\n",
      " [31684123 'Shehryar' 'Saifullah' 33500 40000 'Islamabad']\n",
      " [45132132 'Tehzeeb Riaz' 'Muhammad Riaz' 45600 40000 'Larkana']\n",
      " [354151 'Muhammad Shoaib' 'Manzoor Ahmed' 28100 35000 'Islamabad']\n",
      " [6581 'Munsab Abbas' 'Muhammad Ameer' 38900 40000 'Islamabad']\n",
      " [451 'Daniyal Munir' 'Munir Hussain' 23900 33000 'Rawalpindi']\n",
      " [3213212 'Muhammad Adnan' 'Muhammad Ramzan' 45600 33000 'Islamabad']\n",
      " [4656545 'Irfan Feroz' 'Muhammad Feroz' 33000 44100 'Islamabad']\n",
      " [3135 'Muhammad Asif' 'Muhammad Nazir' 23000 33000 'Vihari']\n",
      " [4654165 'Ahmed Hassan' 'Ahmed Sher' 33000 33000 'Lahore']\n",
      " [8945 'Ahmed Faraz' 'Muhammad Mumtaz' 33000 44100 'Lahore']\n",
      " [9845 'Muhammad Rehan' 'Ghulam Shabbir' 44100 23000 'Lahore']\n",
      " [846 'Danish Abbas' 'Sardar Ahmed' 33000 23000 'Lahore']\n",
      " [98456 'Shahid Imran' 'Ahmed Khan' 45000 23900 'Karachi']\n",
      " [845 'Ali Abbas' 'Nasir Mehmood' 40000 33000 'Lahore']\n",
      " [984653 'Amir Munir' 'Muhammad Munir' 40000 44100 'Lahore']\n",
      " [356841 'Abdur Rehman' 'Muhammad Riaz' 35000 23000 'Lahore']\n",
      " [65413513 'Ali Hassan' 'Sajjad Haider' 33000 23900 'Islamabad']\n",
      " [65413521 'Hasnat Ahmed' 'Fazal Kareem' 34000 45000 'Lahore']\n",
      " [8564 'Naimatullah' 'Muhammad Ameer' 33000 40000 'Lahore']\n",
      " [6543521 'Saifullah' 'Muhammad Ameer' 45000 33000 'Lahore']\n",
      " [6541321 'Hamid Raza' 'Qadir Bakhsh' 40000 33000 'Sargodha']\n",
      " [64523 'Imran Zafar' 'Zafar Iqbal' 33000 45600 'Lahore']\n",
      " [4515 'Sanaullah' 'Abdur Razzaq' 44100 28100 'Rawalpindi']\n",
      " [1312 'Fakhar Ibrar Khan' 'Safdar Khan' 23000 40000 'Lahore']\n",
      " [65451 'Shahzaib Arshad' 'Muhammad Arshad' 23900 33000 'Lahore']\n",
      " [3512 'Shahid Iqbal' 'Muhammad Afzal' 33000 44100 'Pindi Bhatian']\n",
      " [3541352 'Zain Iftikhar' 'Iftikhar Ahmed' 44100 23000 'Multan']\n",
      " [35132 'Muntazir Mehdi' 'Muhammad Parvez' 23000 28100 'Multan']\n",
      " [335132 'Muhammad Shoaib' 'Shahadat Khan' 23900 38900 'Gujjar Khan']\n",
      " [35132 'Abdur Rehman' 'Muhammad Asghar' 45000 23900 'Multan']\n",
      " [365415 'Muhammad Taimoor' 'Manzoor Ahmed' 40000 45600 'Multan']\n",
      " [455 'Waqar ul Hassan' 'Muhammad Ameen' 33000 33000 'Multan']\n",
      " [6589 'Ali Haider' 'Munawar Abbas' 33000 23000 'Multan']\n",
      " [689 'Zulqarnain' 'Khadim Hussain' 44100 35000 'Karachi']\n",
      " [685945 'Toseef Haider' 'Nazar Muhammad' 33000 33000 'Khushab']\n",
      " [64654 'Kashif Ali' 'Muhammad Nazir' 45000 34000 'Multan']\n",
      " [68465 'Daniyal Ahmed' 'Ahmed Yar' 23000 33000 'Multan']\n",
      " [698465 'Faisal Ali' 'Fida Hussain' 33000 23000 'Rawalpindi']\n",
      " [98465 'Akash Riaz' 'Muhammad Riaz' 33000 33000 'Multan']\n",
      " [68456 'Muhammad Adnan' 'Muhammad Asghar' 45600 44100 'Multan']\n",
      " [9884 'Muhammad Tahir' 'Ghulam Dastagir' 28100 33000 'Sargodha']]\n"
     ]
    }
   ],
   "source": [
    "# Print the values of DataFrame\n",
    "print(df_employee.values)\n",
    "\n",
    "\n"
   ]
  },
  {
   "cell_type": "code",
   "execution_count": 9,
   "metadata": {},
   "outputs": [
    {
     "name": "stdout",
     "output_type": "stream",
     "text": [
      "Index(['PER_NO', 'NAME', 'FATHER_NAME', 'Sep_Wage', 'Oct_Wage', 'ADDRESS'], dtype='object')\n",
      "RangeIndex(start=0, stop=56, step=1)\n"
     ]
    }
   ],
   "source": [
    "# Print the columns of DataFrame\n",
    "print(df_employee.columns)\n",
    "\n",
    "\n",
    "# get the row index\n",
    "print(df_employee.index)\n"
   ]
  },
  {
   "cell_type": "code",
   "execution_count": 10,
   "metadata": {},
   "outputs": [
    {
     "name": "stdout",
     "output_type": "stream",
     "text": [
      "     PER_NO             NAME     FATHER_NAME  Sep_Wage  Oct_Wage  ADDRESS\n",
      "49   685945    Toseef Haider  Nazar Muhammad     33000     33000  Khushab\n",
      "46      455  Waqar ul Hassan  Muhammad Ameen     33000     33000   Multan\n",
      "41  3541352    Zain Iftikhar  Iftikhar Ahmed     44100     23000   Multan\n",
      "4       598     Zohaib Ahmad      Fiaz Ahmed     33000     45000  Karachi\n",
      "48      689       Zulqarnain  Khadim Hussain     44100     35000  Karachi\n",
      "\n",
      "     PER_NO            NAME       FATHER_NAME  Sep_Wage  Oct_Wage     ADDRESS\n",
      "25     9845  Muhammad Rehan    Ghulam Shabbir     44100     23000      Lahore\n",
      "1     25984  Muhammad Talha  Muzammil Hussain     35000     23000     Karachi\n",
      "30   356841    Abdur Rehman     Muhammad Riaz     35000     23000      Lahore\n",
      "52   698465      Faisal Ali      Fida Hussain     33000     23000  Rawalpindi\n",
      "41  3541352   Zain Iftikhar    Iftikhar Ahmed     44100     23000      Multan\n"
     ]
    }
   ],
   "source": [
    "#sorting with NAME in Descending Order\n",
    "# print(df_employee.sort_values('NAME', ascending=False))\n",
    "\n",
    "#sorting with NAME in Ascending Order\n",
    "print(df_employee.sort_values('NAME', ascending=True).tail())\n",
    "\n",
    "print()\n",
    "\n",
    "print(df_employee.sort_values('Oct_Wage', ascending=True).head())"
   ]
  },
  {
   "cell_type": "code",
   "execution_count": 11,
   "metadata": {},
   "outputs": [
    {
     "name": "stdout",
     "output_type": "stream",
     "text": [
      "             NAME  Sep_Wage  Oct_Wage\n",
      "0    Ahmad Hassan     40000     44100\n",
      "1  Muhammad Talha     35000     23000\n",
      "2    Faizan Azhar     33000     23900\n",
      "3   Adnan Ghafoor     34000     33000\n",
      "4    Zohaib Ahmad     33000     45000\n"
     ]
    }
   ],
   "source": [
    "#printing only required data columns\n",
    "\n",
    "print(df_employee[['NAME','Sep_Wage','Oct_Wage']].head())\n",
    "\n",
    "#Type checking\n",
    "# print(type(df_employee[['NAME','Sep_Wage','Oct_Wage']]))\n"
   ]
  },
  {
   "cell_type": "code",
   "execution_count": 12,
   "metadata": {},
   "outputs": [
    {
     "name": "stdout",
     "output_type": "stream",
     "text": [
      "   PER_NO            NAME       FATHER_NAME  Sep_Wage  Oct_Wage  ADDRESS  \\\n",
      "0   12345    Ahmad Hassan   Muhammad Bashir     40000     44100  Karachi   \n",
      "1   25984  Muhammad Talha  Muzammil Hussain     35000     23000  Karachi   \n",
      "2   25656    Faizan Azhar             Azhar     33000     23900   Quetta   \n",
      "3   58987   Adnan Ghafoor  Muhammad Ghafoor     34000     33000  Karachi   \n",
      "4     598    Zohaib Ahmad        Fiaz Ahmed     33000     45000  Karachi   \n",
      "\n",
      "   Qrt_Wage  \n",
      "0     84100  \n",
      "1     58000  \n",
      "2     56900  \n",
      "3     67000  \n",
      "4     78000  \n"
     ]
    }
   ],
   "source": [
    "#adding a new column in DataFrame, by getting the value from DataFrame for that column\n",
    "df_employee['Qrt_Wage'] = df_employee['Sep_Wage'] + df_employee['Oct_Wage']\n",
    "\n",
    "print(df_employee.head())"
   ]
  },
  {
   "cell_type": "code",
   "execution_count": 13,
   "metadata": {},
   "outputs": [
    {
     "name": "stdout",
     "output_type": "stream",
     "text": [
      "     PER_NO           NAME       FATHER_NAME  Sep_Wage  Oct_Wage  ADDRESS  \\\n",
      "30   356841   Abdur Rehman     Muhammad Riaz     35000     23000   Lahore   \n",
      "44    35132   Abdur Rehman   Muhammad Asghar     45000     23900   Multan   \n",
      "3     58987  Adnan Ghafoor  Muhammad Ghafoor     34000     33000  Karachi   \n",
      "23  4654165   Ahmed Hassan        Ahmed Sher     33000     33000   Lahore   \n",
      "53    98465     Akash Riaz     Muhammad Riaz     33000     33000   Multan   \n",
      "\n",
      "    Qrt_Wage  \n",
      "30     58000  \n",
      "44     68900  \n",
      "3      67000  \n",
      "23     66000  \n",
      "53     66000  \n"
     ]
    }
   ],
   "source": [
    "# print(df_employee.sort_values('Qrt_Wage', ascending=True))\n",
    "\n",
    "#all those employees whose Qrt_Wage is below 70000\n",
    "below_70K = df_employee[df_employee['Qrt_Wage'] < 70000]\n",
    "\n",
    "#below_70K sorted asc\n",
    "print(below_70K.sort_values('NAME', ascending=True).head())"
   ]
  },
  {
   "cell_type": "code",
   "execution_count": 14,
   "metadata": {},
   "outputs": [
    {
     "name": "stdout",
     "output_type": "stream",
     "text": [
      "     PER_NO               NAME      FATHER_NAME  Sep_Wage  Oct_Wage ADDRESS  \\\n",
      "30   356841       Abdur Rehman    Muhammad Riaz     35000     23000  Lahore   \n",
      "23  4654165       Ahmed Hassan       Ahmed Sher     33000     33000  Lahore   \n",
      "26      846       Danish Abbas     Sardar Ahmed     33000     23000  Lahore   \n",
      "38     1312  Fakhar Ibrar Khan      Safdar Khan     23000     40000  Lahore   \n",
      "10     4685         Falak Sher  Mubbashar Ahmed     23900     23900  Lahore   \n",
      "25     9845     Muhammad Rehan   Ghulam Shabbir     44100     23000  Lahore   \n",
      "39    65451    Shahzaib Arshad  Muhammad Arshad     23900     33000  Lahore   \n",
      "\n",
      "    Qrt_Wage  \n",
      "30     58000  \n",
      "23     66000  \n",
      "26     56000  \n",
      "38     63000  \n",
      "10     47800  \n",
      "25     67100  \n",
      "39     56900  \n"
     ]
    }
   ],
   "source": [
    "# All those Employees who are below 70000 and are from Lahore\n",
    "# to perform this, I need to import Numpy.\n",
    "\n",
    "import numpy as np\n",
    "\n",
    "below_70K_Lahore = df_employee[np.logical_and(df_employee['Qrt_Wage'] < 70000, df_employee['ADDRESS'] == 'Lahore')]\n",
    "\n",
    "print(below_70K_Lahore.sort_values('NAME', ascending=True))\n",
    "\n"
   ]
  },
  {
   "cell_type": "markdown",
   "metadata": {},
   "source": [
    "#### ==================================================================================================="
   ]
  },
  {
   "cell_type": "markdown",
   "metadata": {},
   "source": [
    "#### ==================================================================================================="
   ]
  },
  {
   "cell_type": "markdown",
   "metadata": {},
   "source": [
    "### 27-Oct- 2020    Data Analysis Lecture 2\n",
    "#### Topic 1.2\n"
   ]
  },
  {
   "cell_type": "code",
   "execution_count": 15,
   "metadata": {},
   "outputs": [
    {
     "name": "stdout",
     "output_type": "stream",
     "text": [
      "   ROLL#    NAME Disable  Sep_Rep  Oct_Rep\n",
      "0    101     Ali     Yes       28       35\n",
      "1    102  Rashid      No       34       12\n",
      "2    103   Falak      No       33       33\n",
      "3    104  Sohaib     Yes       31       30\n",
      "4    105   Ammar      No       23       23\n",
      "5    106  Tayyab     Yes       33       33\n",
      "6    107  Rashid     Yes       34       34\n",
      "7    108  Danish     Yes       34       34\n"
     ]
    }
   ],
   "source": [
    "import pandas as pd\n",
    "\n",
    "df_std = pd.read_excel('Student.xlsx')\n",
    "\n",
    "print(df_std)"
   ]
  },
  {
   "cell_type": "code",
   "execution_count": 16,
   "metadata": {
    "scrolled": true
   },
   "outputs": [
    {
     "name": "stdout",
     "output_type": "stream",
     "text": [
      "31.25\n",
      "33.0\n"
     ]
    }
   ],
   "source": [
    "# mean\n",
    "print(df_std['Sep_Rep'].mean())\n",
    "\n",
    "\n",
    "# median    ## Medain Function will sort the values by itself and then will find the median\n",
    "print(df_std['Oct_Rep'].median())"
   ]
  },
  {
   "cell_type": "code",
   "execution_count": 17,
   "metadata": {},
   "outputs": [
    {
     "name": "stdout",
     "output_type": "stream",
     "text": [
      "    0\n",
      "0  23\n",
      "1   5\n",
      "2   7\n",
      "3  12\n",
      "4  45\n",
      "5  56\n",
      "6  67\n",
      "23.0\n"
     ]
    }
   ],
   "source": [
    "## Test Example of Median, either it (by defualt) sorts the values or not.\n",
    "\n",
    "df_test = pd.DataFrame([23,5,7,12,45,56,67])\n",
    "\n",
    "print(df_test)\n",
    "\n",
    "print(df_test[0].median())"
   ]
  },
  {
   "cell_type": "code",
   "execution_count": 18,
   "metadata": {},
   "outputs": [
    {
     "name": "stdout",
     "output_type": "stream",
     "text": [
      "35\n",
      "23\n",
      "8\n",
      "250\n"
     ]
    }
   ],
   "source": [
    "# maximum value in a column\n",
    "print(df_std['Oct_Rep'].max())\n",
    "\n",
    "\n",
    "# Minimum value in a column\n",
    "print(df_std['Sep_Rep'].min())\n",
    "\n",
    "#Total entries in a column\n",
    "# maximum value in a column\n",
    "print(df_std['NAME'].count())\n",
    "\n",
    "# finding sume of a particular column\n",
    "print(df_std['Sep_Rep'].sum())"
   ]
  },
  {
   "cell_type": "code",
   "execution_count": 19,
   "metadata": {},
   "outputs": [
    {
     "name": "stdout",
     "output_type": "stream",
     "text": [
      "   ROLL#    NAME Disable  Sep_Rep  Oct_Rep  Tot_Rep\n",
      "0    101     Ali     Yes       28       35       63\n",
      "1    102  Rashid      No       34       12       46\n",
      "2    103   Falak      No       33       33       66\n",
      "3    104  Sohaib     Yes       31       30       61\n",
      "4    105   Ammar      No       23       23       46\n",
      "5    106  Tayyab     Yes       33       33       66\n",
      "6    107  Rashid     Yes       34       34       68\n",
      "7    108  Danish     Yes       34       34       68\n"
     ]
    }
   ],
   "source": [
    "df_std['Tot_Rep'] = df_std['Sep_Rep'] + df_std['Oct_Rep']\n",
    "print(df_std)"
   ]
  },
  {
   "cell_type": "code",
   "execution_count": 20,
   "metadata": {},
   "outputs": [
    {
     "name": "stdout",
     "output_type": "stream",
     "text": [
      "   ROLL#    NAME Disable  Sep_Rep  Oct_Rep\n",
      "0    101     Ali     Yes       28       35\n",
      "1    102  Rashid      No       34       12\n",
      "2    103   Falak      No       33       33\n",
      "3    104  Sohaib     Yes       31       30\n",
      "4    105   Ammar      No       23       23\n",
      "5    106  Tayyab     Yes       33       33\n",
      "6    107  Rashid     Yes       34       34\n",
      "7    108  Danish     Yes       34       34\n",
      "\n",
      "   ROLL#    NAME Disable  Sep_Rep  Oct_Rep\n",
      "0    101     Ali     Yes       28       35\n",
      "1    102  Rashid      No       34       12\n",
      "2    103   Falak      No       33       33\n",
      "3    104  Sohaib     Yes       31       30\n",
      "4    105   Ammar      No       23       23\n",
      "\n",
      "   ROLL#    NAME Disable  Sep_Rep  Oct_Rep\n",
      "0    101     Ali     Yes       28       35\n",
      "1    102  Rashid      No       34       12\n",
      "2    103   Falak      No       33       33\n",
      "3    104  Sohaib     Yes       31       30\n",
      "4    105   Ammar      No       23       23\n",
      "6    107  Rashid     Yes       34       34\n"
     ]
    }
   ],
   "source": [
    "import pandas as pd\n",
    "df_1 = pd.read_excel('Student.xlsx')\n",
    "print(df_1)\n",
    "print()\n",
    "\n",
    "df_unique = df_1.drop_duplicates('Sep_Rep')\n",
    "print(df_unique)\n",
    "print()\n",
    "\n",
    "#jab bhi dono values match hongi, 1st time rakhy ga, second time dono match hoty hi uraa dy ga.\n",
    "df_unique2 = df_1.drop_duplicates(['Sep_Rep', 'Oct_Rep'])    \n",
    "print(df_unique2)"
   ]
  },
  {
   "cell_type": "code",
   "execution_count": 21,
   "metadata": {},
   "outputs": [
    {
     "name": "stdout",
     "output_type": "stream",
     "text": [
      "46    2\n",
      "68    2\n",
      "66    2\n",
      "63    1\n",
      "61    1\n",
      "Name: Tot_Rep, dtype: int64\n",
      "46    0.250\n",
      "68    0.250\n",
      "66    0.250\n",
      "63    0.125\n",
      "61    0.125\n",
      "Name: Tot_Rep, dtype: float64\n"
     ]
    }
   ],
   "source": [
    "#counting number of occurance of a value in the particular column\n",
    "print(df_std['Tot_Rep'].value_counts())\n",
    "\n",
    "# Normaliz ?????\n",
    "print(df_std['Tot_Rep'].value_counts(normalize = True))"
   ]
  },
  {
   "cell_type": "code",
   "execution_count": 57,
   "metadata": {},
   "outputs": [
    {
     "name": "stdout",
     "output_type": "stream",
     "text": [
      "46    2\n",
      "68    2\n",
      "66    2\n",
      "63    1\n",
      "61    1\n",
      "Name: Tot_Rep, dtype: int64\n",
      "46    0.250\n",
      "68    0.250\n",
      "66    0.250\n",
      "63    0.125\n",
      "61    0.125\n",
      "Name: Tot_Rep, dtype: float64\n"
     ]
    }
   ],
   "source": [
    "#Value count + Sort\n",
    "print(df_std['Tot_Rep'].value_counts(sort=True))\n",
    "\n",
    "\n",
    "print(df_std['Tot_Rep'].value_counts(normalize=True, sort=True))"
   ]
  },
  {
   "cell_type": "code",
   "execution_count": 60,
   "metadata": {},
   "outputs": [
    {
     "name": "stdout",
     "output_type": "stream",
     "text": [
      "   ROLL#    NAME Disable  Sep_Rep  Oct_Rep  Tot_Rep\n",
      "0    101     Ali     Yes       28       35       63\n",
      "1    102  Rashid      No       34       12       46\n",
      "2    103   Falak      No       33       33       66\n",
      "3    104  Sohaib     Yes       31       30       61\n",
      "4    105   Ammar      No       23       23       46\n",
      "5    106  Tayyab     Yes       33       33       66\n",
      "6    107  Rashid     Yes       34       34       68\n",
      "7    108  Danish     Yes       34       34       68\n",
      "NAME\n",
      "Ali       35\n",
      "Ammar     23\n",
      "Danish    34\n",
      "Falak     33\n",
      "Rashid    46\n",
      "Sohaib    30\n",
      "Tayyab    33\n",
      "Name: Oct_Rep, dtype: int64\n",
      "        Oct_Rep  Tot_Rep\n",
      "NAME                    \n",
      "Ali          35       63\n",
      "Ammar        23       46\n",
      "Danish       34       68\n",
      "Falak        33       66\n",
      "Rashid       46      114\n",
      "Sohaib       30       61\n",
      "Tayyab       33       66\n",
      "                Oct_Rep  Tot_Rep\n",
      "NAME   Disable                  \n",
      "Ali    Yes           35       63\n",
      "Ammar  No            23       46\n",
      "Danish Yes           34       68\n",
      "Falak  No            33       66\n",
      "Rashid No            12       46\n",
      "       Yes           34       68\n",
      "Sohaib Yes           30       61\n",
      "Tayyab Yes           33       66\n"
     ]
    }
   ],
   "source": [
    "#group by function\n",
    "print(df_std)\n",
    "\n",
    "print(df_std.groupby('NAME')['Oct_Rep'].sum())\n",
    "\n",
    "#if you want to sum two columns separately\n",
    "print(df_std.groupby('NAME')[['Oct_Rep','Tot_Rep']].sum())\n",
    "\n",
    "\n",
    "#groupby with multiple columns\n",
    "print(df_std.groupby(['NAME','Disable'])[['Oct_Rep','Tot_Rep']].sum())"
   ]
  },
  {
   "cell_type": "code",
   "execution_count": 61,
   "metadata": {},
   "outputs": [
    {
     "name": "stdout",
     "output_type": "stream",
     "text": [
      "        amin  amax  mean  median  sum\n",
      "NAME                                 \n",
      "Ali       63    63    63      63   63\n",
      "Ammar     46    46    46      46   46\n",
      "Danish    68    68    68      68   68\n",
      "Falak     66    66    66      66   66\n",
      "Rashid    46    68    57      57  114\n",
      "Sohaib    61    61    61      61   61\n",
      "Tayyab    66    66    66      66   66\n",
      "       Sep_Rep                  Oct_Rep                 \n",
      "          amin amax mean median    amin amax mean median\n",
      "NAME                                                    \n",
      "Ali         28   28   28     28      35   35   35     35\n",
      "Ammar       23   23   23     23      23   23   23     23\n",
      "Danish      34   34   34     34      34   34   34     34\n",
      "Falak       33   33   33     33      33   33   33     33\n",
      "Rashid      34   34   34     34      12   34   23     23\n",
      "Sohaib      31   31   31     31      30   30   30     30\n",
      "Tayyab      33   33   33     33      33   33   33     33\n"
     ]
    }
   ],
   "source": [
    "## Aggrigate Function\n",
    "import numpy as np\n",
    "\n",
    "print(df_std.groupby('NAME')['Tot_Rep'].agg([np.min, np.max, np.mean, np.median, np.sum]))\n",
    "\n",
    "print(df_std.groupby('NAME')[['Sep_Rep','Oct_Rep']].agg([np.min, np.max, np.mean, np.median]))"
   ]
  },
  {
   "cell_type": "code",
   "execution_count": 25,
   "metadata": {},
   "outputs": [
    {
     "name": "stdout",
     "output_type": "stream",
     "text": [
      "   ROLL#    NAME Disable  Sep_Rep  Oct_Rep  Tot_Rep\n",
      "0    101     Ali     Yes       28       35       63\n",
      "1    102  Rashid      No       34       12       46\n",
      "2    103   Falak      No       33       33       66\n",
      "3    104  Sohaib     Yes       31       30       61\n",
      "4    105   Ammar      No       23       23       46\n",
      "5    106  Tayyab     Yes       33       33       66\n",
      "6    107  Rashid     Yes       34       34       68\n",
      "7    108  Danish     Yes       34       34       68\n"
     ]
    }
   ],
   "source": [
    "print(df_std)"
   ]
  },
  {
   "cell_type": "code",
   "execution_count": 63,
   "metadata": {},
   "outputs": [
    {
     "name": "stdout",
     "output_type": "stream",
     "text": [
      "        Tot_Rep\n",
      "NAME           \n",
      "Ali          63\n",
      "Ammar        46\n",
      "Danish       68\n",
      "Falak        66\n",
      "Rashid       57\n",
      "Sohaib       61\n",
      "Tayyab       66\n"
     ]
    }
   ],
   "source": [
    "##PIVOT TABLE\n",
    "# pivot table takes simple column-wise data as input, and groups the entries into a two-dimensional table\n",
    "# that provides a multidimensional summarization of the data.\n",
    "\n",
    "print(df_std.pivot_table(index='NAME', values='Tot_Rep'))\n"
   ]
  },
  {
   "cell_type": "code",
   "execution_count": 67,
   "metadata": {},
   "outputs": [
    {
     "name": "stdout",
     "output_type": "stream",
     "text": [
      "Disable    No   Yes\n",
      "NAME               \n",
      "Ali       NaN  63.0\n",
      "Ammar    46.0   NaN\n",
      "Danish    NaN  68.0\n",
      "Falak    66.0   NaN\n",
      "Rashid   46.0  68.0\n",
      "Sohaib    NaN  61.0\n",
      "Tayyab    NaN  66.0\n",
      "\n",
      "Disable  No Yes\n",
      "NAME           \n",
      "Ali      $$  63\n",
      "Ammar    46  $$\n",
      "Danish   $$  68\n",
      "Falak    66  $$\n",
      "Rashid   46  68\n",
      "Sohaib   $$  61\n",
      "Tayyab   $$  66\n"
     ]
    }
   ],
   "source": [
    "print(df_std.pivot_table(values='Tot_Rep', index='NAME', columns = 'Disable'))\n",
    "print()\n",
    "\n",
    "\n",
    "print(df_std.pivot_table(values='Tot_Rep', index='NAME', columns = 'Disable', fill_value='$$'))"
   ]
  },
  {
   "cell_type": "markdown",
   "metadata": {},
   "source": [
    "### =======================================================================================\n",
    "### =======================================================================================\n",
    "\n",
    "### 28-Oct- 2020 Data Analysis Lecture 3\n",
    "#### Topic 1.3\n"
   ]
  },
  {
   "cell_type": "code",
   "execution_count": 28,
   "metadata": {},
   "outputs": [],
   "source": [
    "#Chapter-1: Data Manipulation with pandas\n",
    "\n",
    "# topic 1.3 Slicing and Indexing\n"
   ]
  },
  {
   "cell_type": "code",
   "execution_count": 29,
   "metadata": {},
   "outputs": [
    {
     "name": "stdout",
     "output_type": "stream",
     "text": [
      "     Country  cpc  drive_right Purchased   pop\n",
      "0     France   44         True        No  10.0\n",
      "1      Spain   27        False       Yes  20.0\n",
      "2    Germany   30         True        No  30.0\n",
      "3      Spain   38        False        No  20.0\n",
      "4    Germany   40         True       Yes  30.0\n",
      "5     France   35        False       Yes  10.0\n",
      "6      China   52         True        No  80.0\n",
      "7      India   48         True       Yes  60.0\n",
      "8    America   45         True        No  40.0\n",
      "9     Canada   12        False       Yes   NaN\n",
      "10  Pakistan   10         True       Yes   NaN\n"
     ]
    }
   ],
   "source": [
    "import pandas as pd\n",
    "\n",
    "car_data = pd.read_csv('Data2.csv')\n",
    "print(car_data)"
   ]
  },
  {
   "cell_type": "code",
   "execution_count": 70,
   "metadata": {},
   "outputs": [
    {
     "name": "stdout",
     "output_type": "stream",
     "text": [
      "          cpc  drive_right Purchased   pop\n",
      "Country                                   \n",
      "France     44         True        No  10.0\n",
      "Spain      27        False       Yes  20.0\n",
      "Germany    30         True        No  30.0\n",
      "Spain      38        False        No  20.0\n",
      "Germany    40         True       Yes  30.0\n",
      "France     35        False       Yes  10.0\n",
      "China      52         True        No  80.0\n",
      "India      48         True       Yes  60.0\n",
      "America    45         True        No  40.0\n",
      "Canada     12        False       Yes   NaN\n",
      "Pakistan   10         True       Yes   NaN\n",
      "     Country  cpc  drive_right Purchased   pop\n",
      "0     France   44         True        No  10.0\n",
      "1      Spain   27        False       Yes  20.0\n",
      "2    Germany   30         True        No  30.0\n",
      "3      Spain   38        False        No  20.0\n",
      "4    Germany   40         True       Yes  30.0\n",
      "5     France   35        False       Yes  10.0\n",
      "6      China   52         True        No  80.0\n",
      "7      India   48         True       Yes  60.0\n",
      "8    America   45         True        No  40.0\n",
      "9     Canada   12        False       Yes   NaN\n",
      "10  Pakistan   10         True       Yes   NaN\n",
      "    cpc  drive_right Purchased   pop\n",
      "0    44         True        No  10.0\n",
      "1    27        False       Yes  20.0\n",
      "2    30         True        No  30.0\n",
      "3    38        False        No  20.0\n",
      "4    40         True       Yes  30.0\n",
      "5    35        False       Yes  10.0\n",
      "6    52         True        No  80.0\n",
      "7    48         True       Yes  60.0\n",
      "8    45         True        No  40.0\n",
      "9    12        False       Yes   NaN\n",
      "10   10         True       Yes   NaN\n"
     ]
    }
   ],
   "source": [
    "\n",
    "#setting a desired column as index\n",
    "cont_ind = car_data.set_index('Country')\n",
    "print(cont_ind)\n",
    "\n",
    "# print(car_data.set_index('cpc'))\n",
    "#Reset index\n",
    "print(cont_ind.reset_index())\n",
    "\n",
    "#resetting the index by dropping/deleting the exiting index\n",
    "print(cont_ind.reset_index(drop=True))"
   ]
  },
  {
   "cell_type": "code",
   "execution_count": 31,
   "metadata": {},
   "outputs": [
    {
     "name": "stdout",
     "output_type": "stream",
     "text": [
      "   PER_NO            NAME       FATHER_NAME  Sep_Wage  Oct_Wage  ADDRESS\n",
      "0   12345    Ahmad Hassan   Muhammad Bashir     40000     44100  Karachi\n",
      "1   25984  Muhammad Talha  Muzammil Hussain     35000     23000  Karachi\n",
      "2   25656    Faizan Azhar             Azhar     33000     23900   Quetta\n",
      "3   58987   Adnan Ghafoor  Muhammad Ghafoor     34000     33000  Karachi\n",
      "4     598    Zohaib Ahmad        Fiaz Ahmed     33000     45000  Karachi\n",
      "\n",
      "                PER_NO       FATHER_NAME  Sep_Wage  Oct_Wage  ADDRESS\n",
      "NAME                                                                 \n",
      "Ahmad Hassan     12345   Muhammad Bashir     40000     44100  Karachi\n",
      "Muhammad Talha   25984  Muzammil Hussain     35000     23000  Karachi\n",
      "Faizan Azhar     25656             Azhar     33000     23900   Quetta\n",
      "Adnan Ghafoor    58987  Muhammad Ghafoor     34000     33000  Karachi\n",
      "Zohaib Ahmad       598        Fiaz Ahmed     33000     45000  Karachi\n",
      "\n",
      "             NAME  PER_NO       FATHER_NAME  Sep_Wage  Oct_Wage  ADDRESS\n",
      "0    Ahmad Hassan   12345   Muhammad Bashir     40000     44100  Karachi\n",
      "1  Muhammad Talha   25984  Muzammil Hussain     35000     23000  Karachi\n",
      "2    Faizan Azhar   25656             Azhar     33000     23900   Quetta\n",
      "3   Adnan Ghafoor   58987  Muhammad Ghafoor     34000     33000  Karachi\n",
      "4    Zohaib Ahmad     598        Fiaz Ahmed     33000     45000  Karachi\n",
      "\n",
      "   PER_NO       FATHER_NAME  Sep_Wage  Oct_Wage  ADDRESS\n",
      "0   12345   Muhammad Bashir     40000     44100  Karachi\n",
      "1   25984  Muzammil Hussain     35000     23000  Karachi\n",
      "2   25656             Azhar     33000     23900   Quetta\n",
      "3   58987  Muhammad Ghafoor     34000     33000  Karachi\n",
      "4     598        Fiaz Ahmed     33000     45000  Karachi\n"
     ]
    }
   ],
   "source": [
    "#importing a large file to apply all these above operations\n",
    "import pandas as pd\n",
    "employee = pd.read_excel('Employee_Data.xlsx')\n",
    "print(employee.head())\n",
    "print()\n",
    "\n",
    "#setting PER_NO as index\n",
    "new_emp = employee.set_index('NAME')\n",
    "print(new_emp.head())\n",
    "print()\n",
    "\n",
    "#reseting the index\n",
    "print(new_emp.reset_index().head())\n",
    "print()\n",
    "\n",
    "#resting the index by dropping the existing one\n",
    "print(new_emp.reset_index(drop=True).head())"
   ]
  },
  {
   "cell_type": "code",
   "execution_count": 79,
   "metadata": {},
   "outputs": [
    {
     "name": "stdout",
     "output_type": "stream",
     "text": [
      "     Country  cpc  drive_right Purchased   pop\n",
      "0     France   44         True        No  10.0\n",
      "1      Spain   27        False       Yes  20.0\n",
      "2    Germany   30         True        No  30.0\n",
      "3      Spain   38        False        No  20.0\n",
      "4    Germany   40         True       Yes  30.0\n",
      "5     France   35        False       Yes  10.0\n",
      "6      China   52         True        No  80.0\n",
      "7      India   48         True       Yes  60.0\n",
      "8    America   45         True        No  40.0\n",
      "9     Canada   12        False       Yes   NaN\n",
      "10  Pakistan   10         True       Yes   NaN\n",
      "\n",
      "     Country  cpc  drive_right Purchased  pop\n",
      "9     Canada   12        False       Yes  NaN\n",
      "10  Pakistan   10         True       Yes  NaN\n",
      "          cpc  drive_right Purchased  pop\n",
      "Country                                  \n",
      "Canada     12        False       Yes  NaN\n",
      "Pakistan   10         True       Yes  NaN\n",
      "                 PER_NO      FATHER_NAME  Sep_Wage  Oct_Wage    ADDRESS\n",
      "NAME                                                                   \n",
      "Ahmad Hassan      12345  Muhammad Bashir     40000     44100    Karachi\n",
      "Abdur Rehman     356841    Muhammad Riaz     35000     23000     Lahore\n",
      "Abdur Rehman      35132  Muhammad Asghar     45000     23900     Multan\n",
      "Akash Riaz        98465    Muhammad Riaz     33000     33000     Multan\n",
      "Mohsin Ali    654956413   Sultan Mehmood     23000     38900  Islamabad\n",
      "\n"
     ]
    }
   ],
   "source": [
    "#using Data2.csv\n",
    "print(car_data)\n",
    "print()\n",
    "\n",
    "cont_list = ['Canada', 'Pakistan']\n",
    "# isin(): Whether each element in the DataFrame is contained in values.\n",
    "print(car_data[car_data['Country'].isin(cont_list)])\n",
    "\n",
    "\n",
    "#Accessing data through loc\n",
    "print(cont_ind.loc[cont_list])\n",
    "\n",
    "\n",
    "# Applying same thing on Employees_Data.xlsx\n",
    "\n",
    "emp_list = ['Ahmad Hassan', 'Abdur Rehman', 'Akash Riaz','Mohsin Ali']\n",
    "# print(employee[employee['NAME'].isin(emp_list)])\n",
    "print(new_emp.loc[emp_list])\n",
    "\n",
    "print()\n",
    "# emp_per_no = [356841,598,25656]\n",
    "# print(employee[employee['PER_NO'].isin(emp_per_no)])\n"
   ]
  },
  {
   "cell_type": "code",
   "execution_count": 33,
   "metadata": {},
   "outputs": [
    {
     "name": "stdout",
     "output_type": "stream",
     "text": [
      "               cpc  drive_right Purchased\n",
      "Country  pop                             \n",
      "France   10.0   44         True        No\n",
      "Spain    20.0   27        False       Yes\n",
      "Germany  30.0   30         True        No\n",
      "Spain    20.0   38        False        No\n",
      "Germany  30.0   40         True       Yes\n",
      "France   10.0   35        False       Yes\n",
      "China    80.0   52         True        No\n",
      "India    60.0   48         True       Yes\n",
      "America  40.0   45         True        No\n",
      "Canada   NaN    12        False       Yes\n",
      "Pakistan NaN    10         True       Yes\n",
      "              cpc  drive_right Purchased\n",
      "Country  pop                            \n",
      "Canada   NaN   12        False       Yes\n",
      "Pakistan NaN   10         True       Yes\n"
     ]
    }
   ],
   "source": [
    "#Making two columns as indexes\n",
    "car_2_ind = car_data.set_index(['Country','pop'])\n",
    "print(car_2_ind)\n",
    "\n",
    "#as we have made two columns as index, now we have to give two values to access data. e.g. value for each index\n",
    "rows_to_show = [('Canada', 0),('Pakistan', 0)]\n",
    "\n",
    "#accessing data with two index\n",
    "print(car_2_ind.loc[rows_to_show])"
   ]
  },
  {
   "cell_type": "code",
   "execution_count": 34,
   "metadata": {},
   "outputs": [
    {
     "name": "stdout",
     "output_type": "stream",
     "text": [
      "                                    FATHER_NAME  Sep_Wage  Oct_Wage\n",
      "PER_NO NAME           ADDRESS                                      \n",
      "12345  Ahmad Hassan   Karachi   Muhammad Bashir     40000     44100\n",
      "25984  Muhammad Talha Karachi  Muzammil Hussain     35000     23000\n",
      "25656  Faizan Azhar   Quetta              Azhar     33000     23900\n",
      "58987  Adnan Ghafoor  Karachi  Muhammad Ghafoor     34000     33000\n",
      "598    Zohaib Ahmad   Karachi        Fiaz Ahmed     33000     45000\n",
      "\n",
      "                                   FATHER_NAME  Sep_Wage  Oct_Wage\n",
      "PER_NO NAME          ADDRESS                                      \n",
      "598    Zohaib Ahmad  Karachi        Fiaz Ahmed     33000     45000\n",
      "58987  Adnan Ghafoor Karachi  Muhammad Ghafoor     34000     33000\n"
     ]
    }
   ],
   "source": [
    "#multiple indexing with employee dataframe\n",
    "\n",
    "emp_mul_ind = employee.set_index(['PER_NO','NAME', 'ADDRESS'])\n",
    "print(emp_mul_ind.head())\n",
    "\n",
    "print()\n",
    "data_to_show = [(598, 'Zohaib Ahmad', 'Karachi'), (58987, 'Adnan Ghafoor', 'Karachi')]\n",
    "print(emp_mul_ind.loc[data_to_show])"
   ]
  },
  {
   "cell_type": "code",
   "execution_count": 35,
   "metadata": {},
   "outputs": [
    {
     "name": "stdout",
     "output_type": "stream",
     "text": [
      "               cpc  drive_right Purchased\n",
      "Country  pop                             \n",
      "America  40.0   45         True        No\n",
      "Canada   NaN    12        False       Yes\n",
      "China    80.0   52         True        No\n",
      "France   10.0   44         True        No\n",
      "         10.0   35        False       Yes\n",
      "Germany  30.0   30         True        No\n",
      "         30.0   40         True       Yes\n",
      "India    60.0   48         True       Yes\n",
      "Pakistan NaN    10         True       Yes\n",
      "Spain    20.0   27        False       Yes\n",
      "         20.0   38        False        No\n",
      "               cpc  drive_right Purchased\n",
      "Country  pop                             \n",
      "Canada   NaN    12        False       Yes\n",
      "Pakistan NaN    10         True       Yes\n",
      "France   10.0   44         True        No\n",
      "         10.0   35        False       Yes\n",
      "Spain    20.0   27        False       Yes\n",
      "         20.0   38        False        No\n",
      "Germany  30.0   30         True        No\n",
      "         30.0   40         True       Yes\n",
      "America  40.0   45         True        No\n",
      "India    60.0   48         True       Yes\n",
      "China    80.0   52         True        No\n",
      "               cpc  drive_right Purchased\n",
      "Country  pop                             \n",
      "America  40.0   45         True        No\n",
      "Canada   NaN    12        False       Yes\n",
      "China    80.0   52         True        No\n",
      "France   10.0   44         True        No\n",
      "         10.0   35        False       Yes\n",
      "Germany  30.0   30         True        No\n",
      "         30.0   40         True       Yes\n",
      "India    60.0   48         True       Yes\n",
      "Pakistan NaN    10         True       Yes\n",
      "Spain    20.0   27        False       Yes\n",
      "         20.0   38        False        No\n"
     ]
    }
   ],
   "source": [
    "# sorting by indexes\n",
    "#car_2_ind has two indexes, 1: Country, 2: pop\n",
    "# print(car_2_ind)\n",
    "print(car_2_ind.sort_index())\n",
    "\n",
    "print(car_2_ind.sort_index(level='pop'))\n",
    "\n",
    "print(car_2_ind.sort_index(level=['Country','pop'], ascending=[True, True]))"
   ]
  },
  {
   "cell_type": "code",
   "execution_count": 36,
   "metadata": {},
   "outputs": [
    {
     "name": "stdout",
     "output_type": "stream",
     "text": [
      "                                             FATHER_NAME  Sep_Wage  Oct_Wage\n",
      "PER_NO NAME               ADDRESS                                           \n",
      "451    Daniyal Munir      Rawalpindi       Munir Hussain     23900     33000\n",
      "455    Waqar ul Hassan    Multan          Muhammad Ameen     33000     33000\n",
      "598    Zohaib Ahmad       Karachi             Fiaz Ahmed     33000     45000\n",
      "648    Syed Izzan Sherazi Karachi     Ameer Hussain Shah     33000     45600\n",
      "689    Zulqarnain         Karachi         Khadim Hussain     44100     35000\n",
      "                                   FATHER_NAME  Sep_Wage  Oct_Wage\n",
      "PER_NO NAME          ADDRESS                                      \n",
      "35132  Abdur Rehman  Multan    Muhammad Asghar     45000     23900\n",
      "356841 Abdur Rehman  Lahore      Muhammad Riaz     35000     23000\n",
      "58987  Adnan Ghafoor Karachi  Muhammad Ghafoor     34000     33000\n",
      "12345  Ahmad Hassan  Karachi   Muhammad Bashir     40000     44100\n",
      "8945   Ahmed Faraz   Lahore    Muhammad Mumtaz     33000     44100\n"
     ]
    }
   ],
   "source": [
    "### Sorting by indexes on Employee data\n",
    "#emp_mul_ind contains multiple indexes\n",
    "# print(emp_mul_ind.head())\n",
    "\n",
    "print(emp_mul_ind.sort_index().head())\n",
    "\n",
    "print(emp_mul_ind.sort_index(level='NAME').head())\n"
   ]
  },
  {
   "cell_type": "code",
   "execution_count": 37,
   "metadata": {},
   "outputs": [
    {
     "name": "stdout",
     "output_type": "stream",
     "text": [
      "               cpc  drive_right Purchased\n",
      "Country  pop                             \n",
      "America  40.0   45         True        No\n",
      "Canada   NaN    12        False       Yes\n",
      "China    80.0   52         True        No\n",
      "France   10.0   44         True        No\n",
      "         10.0   35        False       Yes\n",
      "Germany  30.0   30         True        No\n",
      "         30.0   40         True       Yes\n",
      "India    60.0   48         True       Yes\n",
      "Pakistan NaN    10         True       Yes\n",
      "Spain    20.0   27        False       Yes\n",
      "         20.0   38        False        No\n",
      "              cpc  drive_right Purchased\n",
      "Country pop                             \n",
      "America 40.0   45         True        No\n",
      "Canada  NaN    12        False       Yes\n",
      "China   80.0   52         True        No\n",
      "France  10.0   44         True        No\n",
      "        10.0   35        False       Yes\n",
      "Germany 30.0   30         True        No\n",
      "        30.0   40         True       Yes\n",
      "India   60.0   48         True       Yes\n"
     ]
    }
   ],
   "source": [
    "#slicing with loc\n",
    "#sorting and accessing with index\n",
    "# print(car_2_ind)\n",
    "\n",
    "car_srt_ind = car_2_ind.sort_index()\n",
    "print(car_srt_ind)\n",
    "\n",
    "print(car_srt_ind.loc['America' : 'India'])"
   ]
  },
  {
   "cell_type": "code",
   "execution_count": 38,
   "metadata": {},
   "outputs": [
    {
     "name": "stdout",
     "output_type": "stream",
     "text": [
      "     Country  cpc  drive_right Purchased   pop\n",
      "0     France   44         True        No  10.0\n",
      "1      Spain   27        False       Yes  20.0\n",
      "2    Germany   30         True        No  30.0\n",
      "3      Spain   38        False        No  20.0\n",
      "4    Germany   40         True       Yes  30.0\n",
      "5     France   35        False       Yes  10.0\n",
      "6      China   52         True        No  80.0\n",
      "7      India   48         True       Yes  60.0\n",
      "8    America   45         True        No  40.0\n",
      "9     Canada   12        False       Yes   NaN\n",
      "10  Pakistan   10         True       Yes   NaN\n",
      "   Country  cpc  drive_right Purchased\n",
      "0   France   44         True        No\n",
      "1    Spain   27        False       Yes\n",
      "2  Germany   30         True        No\n",
      "3    Spain   38        False        No\n",
      "4  Germany   40         True       Yes\n",
      "5   France   35        False       Yes\n",
      "6    China   52         True        No\n"
     ]
    }
   ],
   "source": [
    "# slicing with iloc\n",
    "print(car_data)\n",
    "\n",
    "print(car_data.iloc[0:7,0:4])"
   ]
  },
  {
   "cell_type": "code",
   "execution_count": 39,
   "metadata": {},
   "outputs": [
    {
     "name": "stdout",
     "output_type": "stream",
     "text": [
      "Purchased    No   Yes\n",
      "Country              \n",
      "America    45.0   NaN\n",
      "Canada      NaN  12.0\n",
      "China      52.0   NaN\n",
      "France     44.0  35.0\n",
      "Germany    30.0  40.0\n",
      "India       NaN  48.0\n",
      "Pakistan    NaN  10.0\n",
      "Spain      38.0  27.0\n",
      "Purchased   No  Yes\n",
      "Country            \n",
      "America     45  $$$\n",
      "Canada     $$$   12\n",
      "China       52  $$$\n",
      "France      44   35\n",
      "Germany     30   40\n",
      "India      $$$   48\n",
      "Pakistan   $$$   10\n",
      "Spain       38   27\n"
     ]
    }
   ],
   "source": [
    "#pivot table\n",
    "\n",
    "data_by_country_purchased = car_data.pivot_table(values=\"cpc\", index='Country', columns='Purchased')\n",
    "print(data_by_country_purchased)\n",
    "\n",
    "data_by_country_purchased = car_data.pivot_table(values=\"cpc\", index='Country', columns='Purchased', fill_value='$$$')\n",
    "print(data_by_country_purchased)"
   ]
  },
  {
   "cell_type": "markdown",
   "metadata": {},
   "source": [
    "### =======================================================================================\n",
    "### =======================================================================================\n",
    "### 28-Oct- 2020 Data Analysis Lecture 3\n",
    "#### Topic 1.3"
   ]
  },
  {
   "cell_type": "code",
   "execution_count": 2,
   "metadata": {},
   "outputs": [
    {
     "name": "stdout",
     "output_type": "stream",
     "text": [
      "         Zone  Tot_Sales  pop_covered Target_Ach\n",
      "0      Punjab         28         30.0        Yes\n",
      "1         KPK         34         40.0         No\n",
      "2       Sindh         33         20.0        Yes\n",
      "3         KPK         10          NaN         No\n",
      "4      Punjab         31         20.0        Yes\n",
      "5  Blochistan         23         30.0        Yes\n",
      "6         KPK         33         10.0        NaN\n",
      "7      Punjab          5          NaN         No\n",
      "8          GB         34         20.0        Yes\n",
      "9      Punjab         34         20.0        Yes\n"
     ]
    }
   ],
   "source": [
    "# importing liberaries\n",
    "import pandas as pd\n",
    "import numpy as np\n",
    "import matplotlib.pyplot as plt\n",
    "\n",
    "#importing datafile\n",
    "\n",
    "sd = pd.read_excel('Sales_Data.xlsx')\n",
    "print(sd)"
   ]
  },
  {
   "cell_type": "code",
   "execution_count": 5,
   "metadata": {},
   "outputs": [
    {
     "name": "stdout",
     "output_type": "stream",
     "text": [
      "Zone\n",
      "Blochistan    23\n",
      "GB            34\n",
      "KPK           77\n",
      "Punjab        98\n",
      "Sindh         33\n",
      "Name: Tot_Sales, dtype: int64\n"
     ]
    },
    {
     "data": {
      "image/png": "[encoded data removed]",
      "text/plain": [
       "<Figure size 432x288 with 1 Axes>"
      ]
     },
     "metadata": {
      "needs_background": "light"
     },
     "output_type": "display_data"
    }
   ],
   "source": [
    "#Total sales in each zone\n",
    "result = sd.groupby('Zone')['Tot_Sales'].sum()\n",
    "print(result)\n",
    "\n",
    "\n",
    "#ploting the result\n",
    "result.plot(kind='line')\n",
    "plt.show()"
   ]
  },
  {
   "cell_type": "code",
   "execution_count": 8,
   "metadata": {},
   "outputs": [
    {
     "data": {
      "image/png": "[encoded data removed]",
      "text/plain": [
       "<Figure size 432x288 with 1 Axes>"
      ]
     },
     "metadata": {
      "needs_background": "light"
     },
     "output_type": "display_data"
    }
   ],
   "source": [
    "sd.plot(x='Zone', y='Tot_Sales', kind='scatter', title='Zone vs. Population')\n",
    "plt.show()"
   ]
  },
  {
   "cell_type": "code",
   "execution_count": 9,
   "metadata": {
    "scrolled": true
   },
   "outputs": [
    {
     "data": {
      "image/png": "[encoded data removed]",
      "text/plain": [
       "<Figure size 432x288 with 1 Axes>"
      ]
     },
     "metadata": {
      "needs_background": "light"
     },
     "output_type": "display_data"
    }
   ],
   "source": [
    "#creating histogram\n",
    "sd[sd['Zone'] == 'Punjab']['Tot_Sales'].hist()\n",
    "sd[sd['Zone'] == 'Blochistan']['Tot_Sales'].hist()\n",
    "\n",
    "#Adding Legends\n",
    "plt.legend(['Punjab','Blochistan'])\n",
    "plt.show()"
   ]
  },
  {
   "cell_type": "code",
   "execution_count": 44,
   "metadata": {},
   "outputs": [
    {
     "name": "stdout",
     "output_type": "stream",
     "text": [
      "    Zone  Tot_Sales  pop_covered  Target_Ach\n",
      "0  False      False        False       False\n",
      "1  False      False        False       False\n",
      "2  False      False        False       False\n",
      "3  False      False         True       False\n",
      "4  False      False        False       False\n",
      "5  False      False        False       False\n",
      "6  False      False        False        True\n",
      "7  False      False         True       False\n",
      "8  False      False        False       False\n",
      "9  False      False        False       False\n",
      "\n",
      "Zone           False\n",
      "Tot_Sales      False\n",
      "pop_covered     True\n",
      "Target_Ach      True\n",
      "dtype: bool\n"
     ]
    }
   ],
   "source": [
    "# checking any individual missing value\n",
    "print(sd.isna())\n",
    "print()\n",
    "\n",
    "# checking every column for missing values\n",
    "print(sd.isna().any())"
   ]
  },
  {
   "cell_type": "code",
   "execution_count": 45,
   "metadata": {},
   "outputs": [
    {
     "name": "stdout",
     "output_type": "stream",
     "text": [
      "Zone           0\n",
      "Tot_Sales      0\n",
      "pop_covered    2\n",
      "Target_Ach     1\n",
      "dtype: int64\n"
     ]
    }
   ],
   "source": [
    "# getting number of missing values\n",
    "print(sd.isna().sum())"
   ]
  },
  {
   "cell_type": "code",
   "execution_count": 46,
   "metadata": {},
   "outputs": [
    {
     "data": {
      "image/png": "[encoded data removed]",
      "text/plain": [
       "<Figure size 432x288 with 1 Axes>"
      ]
     },
     "metadata": {
      "needs_background": "light"
     },
     "output_type": "display_data"
    }
   ],
   "source": [
    "sd.isna().sum().plot(kind='bar')\n",
    "plt.show()"
   ]
  },
  {
   "cell_type": "code",
   "execution_count": 47,
   "metadata": {},
   "outputs": [
    {
     "name": "stdout",
     "output_type": "stream",
     "text": [
      "Zone           0\n",
      "Tot_Sales      0\n",
      "pop_covered    0\n",
      "Target_Ach     0\n",
      "dtype: int64\n",
      "         Zone  Tot_Sales  pop_covered Target_Ach\n",
      "0      Punjab         28         30.0        Yes\n",
      "1         KPK         34         40.0         No\n",
      "2       Sindh         33         20.0        Yes\n",
      "3         KPK         10          NaN         No\n",
      "4      Punjab         31         20.0        Yes\n",
      "5  Blochistan         23         30.0        Yes\n",
      "6         KPK         33         10.0        NaN\n",
      "7      Punjab          5          NaN         No\n",
      "8          GB         34         20.0        Yes\n",
      "9      Punjab         34         20.0        Yes\n",
      "\n",
      "         Zone  Tot_Sales  pop_covered Target_Ach\n",
      "0      Punjab         28         30.0        Yes\n",
      "1         KPK         34         40.0         No\n",
      "2       Sindh         33         20.0        Yes\n",
      "4      Punjab         31         20.0        Yes\n",
      "5  Blochistan         23         30.0        Yes\n",
      "8          GB         34         20.0        Yes\n",
      "9      Punjab         34         20.0        Yes\n"
     ]
    }
   ],
   "source": [
    "clean_sd = sd.dropna()\n",
    "\n",
    "print(clean_sd.isna().sum())\n",
    "\n",
    "print(sd)\n",
    "print()\n",
    "print(clean_sd)"
   ]
  },
  {
   "cell_type": "code",
   "execution_count": 48,
   "metadata": {},
   "outputs": [
    {
     "data": {
      "image/png": "[encoded data removed]",
      "text/plain": [
       "<Figure size 432x288 with 1 Axes>"
      ]
     },
     "metadata": {
      "needs_background": "light"
     },
     "output_type": "display_data"
    },
    {
     "data": {
      "image/png": "[encoded data removed]",
      "text/plain": [
       "<Figure size 432x288 with 1 Axes>"
      ]
     },
     "metadata": {
      "needs_background": "light"
     },
     "output_type": "display_data"
    }
   ],
   "source": [
    "#plotting sales data with missing values\n",
    "sd.plot(x='Zone', y=['Tot_Sales','pop_covered',], kind='bar')\n",
    "plt.show()\n",
    "\n",
    "\n",
    "\n",
    "#plotting sales data with cleaned data\n",
    "clean_sd.plot(x='Zone', y=['Tot_Sales','pop_covered'], kind='bar')\n",
    "plt.show()\n",
    "\n",
    "\n"
   ]
  },
  {
   "cell_type": "code",
   "execution_count": null,
   "metadata": {},
   "outputs": [],
   "source": []
  },
  {
   "cell_type": "code",
   "execution_count": 49,
   "metadata": {
    "scrolled": false
   },
   "outputs": [
    {
     "name": "stdout",
     "output_type": "stream",
     "text": [
      "         Zone  Tot_Sales  pop_covered Target_Ach\n",
      "0      Punjab         28         30.0        Yes\n",
      "1         KPK         34         40.0         No\n",
      "2       Sindh         33         20.0        Yes\n",
      "3         KPK         10          NaN         No\n",
      "4      Punjab         31         20.0        Yes\n",
      "5  Blochistan         23         30.0        Yes\n",
      "6         KPK         33         10.0        NaN\n",
      "7      Punjab          5          NaN         No\n",
      "8          GB         34         20.0        Yes\n",
      "9      Punjab         34         20.0        Yes\n"
     ]
    },
    {
     "data": {
      "image/png": "[encoded data removed]",
      "text/plain": [
       "<Figure size 432x288 with 1 Axes>"
      ]
     },
     "metadata": {
      "needs_background": "light"
     },
     "output_type": "display_data"
    }
   ],
   "source": [
    "print(sd)\n",
    "col_with_missing = ['Tot_Sales']\n",
    "sd[col_with_missing].hist()\n",
    "plt.show()"
   ]
  },
  {
   "cell_type": "code",
   "execution_count": 11,
   "metadata": {},
   "outputs": [
    {
     "name": "stdout",
     "output_type": "stream",
     "text": [
      "  Quarter  Lowest_sale  Highest_sales\n",
      "0     1st          378          45907\n",
      "1     2nd          451          78456\n",
      "2     3rd          238          42901\n"
     ]
    }
   ],
   "source": [
    "#Creating a list of Dictionaries & converting it into dataFrame\n",
    "\n",
    "list_sales_data = [\n",
    "    {'Quarter': '1st', 'Lowest_sale': 378, 'Highest_sales': 45907},\n",
    "    {'Quarter': '2nd', 'Lowest_sale': 451, 'Highest_sales': 78456},\n",
    "    {'Quarter': '3rd', 'Lowest_sale': 238, 'Highest_sales': 42901},\n",
    "]\n",
    "\n",
    "#creating data frame from list\n",
    "\n",
    "df_sales_l = pd.DataFrame(list_sales_data)\n",
    "\n",
    "print(df_sales_l)"
   ]
  },
  {
   "cell_type": "code",
   "execution_count": 13,
   "metadata": {},
   "outputs": [
    {
     "name": "stdout",
     "output_type": "stream",
     "text": [
      "  Quarter  Lowest_sale  Highest_sale\n",
      "0     1st          431         45902\n",
      "1     2nd          542         45888\n",
      "2     3rd          321         90876\n"
     ]
    }
   ],
   "source": [
    "# creating a dictionary of lists & converting it into dataFrame\n",
    "dict_sales_data = {\n",
    "    'Quarter': ['1st','2nd','3rd'],\n",
    "    'Lowest_sale': [431,542,321],\n",
    "    'Highest_sale': [45902,45888,90876],\n",
    "}\n",
    "\n",
    "#creating dataframe\n",
    "df_sales_d = pd.DataFrame(dict_sales_data)\n",
    "print(df_sales_d)"
   ]
  },
  {
   "cell_type": "code",
   "execution_count": 16,
   "metadata": {},
   "outputs": [
    {
     "name": "stdout",
     "output_type": "stream",
     "text": [
      "         Lowest_sale  Highest_sale\n",
      "Quarter                           \n",
      "1st              431         45902\n",
      "2nd              542         45888\n",
      "3rd              321         90876\n"
     ]
    }
   ],
   "source": [
    "#writing Dataframe to a file\n",
    "\n",
    "qrt_sales = df_sales_d.set_index('Quarter')\n",
    "print(qrt_sales)\n",
    "\n",
    "df_sales_d.to_csv(\"Qrt_sales.csv\")\n",
    "df_sales_d.to_excel(\"Qrt_sales.xlsx\")"
   ]
  }
 ],
 "metadata": {
  "kernelspec": {
   "display_name": "Python 3",
   "language": "python",
   "name": "python3"
  },
  "language_info": {
   "codemirror_mode": {
    "name": "ipython",
    "version": 3
   },
   "file_extension": ".py",
   "mimetype": "text/x-python",
   "name": "python",
   "nbconvert_exporter": "python",
   "pygments_lexer": "ipython3",
   "version": "3.7.6"
  }
 },
 "nbformat": 4,
 "nbformat_minor": 4
}
